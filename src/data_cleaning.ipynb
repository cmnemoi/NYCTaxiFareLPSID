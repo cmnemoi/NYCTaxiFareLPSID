{
  "cells": [
    {
      "cell_type": "markdown",
      "metadata": {
        "id": "4kkdzUGmnlBy"
      },
      "source": [
        "# Projet Data Science - Nettoyage des données\n",
        "### Enzo Rizbeth et Charles-Meldhine MADI MNEMOI\n"
      ]
    },
    {
      "cell_type": "markdown",
      "metadata": {
        "id": "ceOtRPx_nlB0"
      },
      "source": [
        "### Importation des packages et des données"
      ]
    },
    {
      "cell_type": "code",
      "execution_count": 1,
      "metadata": {
        "id": "qTdUNZM7nlB0"
      },
      "outputs": [],
      "source": [
        "import math\n",
        "import numpy as np\n",
        "import pandas as pd\n",
        "import matplotlib.pyplot as plt\n",
        "import seaborn as sns\n",
        "sns.set()"
      ]
    },
    {
      "cell_type": "code",
      "execution_count": 2,
      "metadata": {
        "id": "ZS9uwVhYnlB1",
        "outputId": "bc7a6ec1-202a-4c3b-95bb-d4696bcdcf0b",
        "colab": {
          "base_uri": "https://localhost:8080/"
        }
      },
      "outputs": [
        {
          "output_type": "stream",
          "name": "stderr",
          "text": [
            "/usr/local/lib/python3.7/dist-packages/IPython/core/interactiveshell.py:2882: DtypeWarning: Columns (6) have mixed types.Specify dtype option on import or set low_memory=False.\n",
            "  exec(code_obj, self.user_global_ns, self.user_ns)\n"
          ]
        }
      ],
      "source": [
        "data = pd.read_csv(\"https://raw.githubusercontent.com/cmnemoi/ProjetDataScienceLPSID/data_cleaning/data/data.csv\")"
      ]
    },
    {
      "cell_type": "code",
      "execution_count": 3,
      "metadata": {
        "id": "ts5112sqnlB3",
        "outputId": "2a15324c-9d99-4123-8a1f-f0352db26f20",
        "colab": {
          "base_uri": "https://localhost:8080/"
        }
      },
      "outputs": [
        {
          "output_type": "execute_result",
          "data": {
            "text/plain": [
              "Index(['VendorID', 'tpep_pickup_datetime', 'tpep_dropoff_datetime',\n",
              "       'passenger_count', 'trip_distance', 'RatecodeID', 'store_and_fwd_flag',\n",
              "       'PULocationID', 'DOLocationID', 'payment_type', 'fare_amount', 'extra',\n",
              "       'mta_tax', 'tip_amount', 'tolls_amount', 'improvement_surcharge',\n",
              "       'total_amount', 'congestion_surcharge'],\n",
              "      dtype='object')"
            ]
          },
          "metadata": {},
          "execution_count": 3
        }
      ],
      "source": [
        "data.columns"
      ]
    },
    {
      "cell_type": "code",
      "source": [
        "data.head(5)"
      ],
      "metadata": {
        "id": "3uGNb1sZpekZ",
        "outputId": "8f820561-050e-4b47-9e4e-dc2729412dc8",
        "colab": {
          "base_uri": "https://localhost:8080/",
          "height": 270
        }
      },
      "execution_count": 4,
      "outputs": [
        {
          "output_type": "execute_result",
          "data": {
            "text/plain": [
              "   VendorID tpep_pickup_datetime tpep_dropoff_datetime  passenger_count  \\\n",
              "0       1.0  2020-05-01 00:02:28   2020-05-01 00:18:07              1.0   \n",
              "1       1.0  2020-05-01 00:23:21   2020-05-01 00:26:01              2.0   \n",
              "2       1.0  2020-05-01 00:54:58   2020-05-01 00:57:11              1.0   \n",
              "3       1.0  2020-05-01 00:07:10   2020-05-01 00:12:46              1.0   \n",
              "4       1.0  2020-05-01 00:55:47   2020-05-01 01:01:54              0.0   \n",
              "\n",
              "   trip_distance  RatecodeID store_and_fwd_flag  PULocationID  DOLocationID  \\\n",
              "0            0.0         1.0                  N           234           256   \n",
              "1            0.4         1.0                  N           264           264   \n",
              "2            0.3         1.0                  N           264           264   \n",
              "3            1.7         1.0                  N           107           229   \n",
              "4            0.9         1.0                  N           237           262   \n",
              "\n",
              "   payment_type  fare_amount  extra  mta_tax  tip_amount  tolls_amount  \\\n",
              "0           1.0         12.2    3.0      0.5         2.4           0.0   \n",
              "1           1.0          4.0    0.5      0.5         0.5           0.0   \n",
              "2           2.0          3.5    0.5      0.5         0.0           0.0   \n",
              "3           2.0          7.0    3.0      0.5         0.0           0.0   \n",
              "4           1.0          6.0    3.0      0.5         1.2           0.0   \n",
              "\n",
              "   improvement_surcharge  total_amount  congestion_surcharge  \n",
              "0                    0.3          18.4                   2.5  \n",
              "1                    0.3           5.8                   0.0  \n",
              "2                    0.3           4.8                   0.0  \n",
              "3                    0.3          10.8                   2.5  \n",
              "4                    0.3          11.0                   2.5  "
            ],
            "text/html": [
              "\n",
              "  <div id=\"df-cf2e0993-d325-4523-b1a9-231d31c6b6d1\">\n",
              "    <div class=\"colab-df-container\">\n",
              "      <div>\n",
              "<style scoped>\n",
              "    .dataframe tbody tr th:only-of-type {\n",
              "        vertical-align: middle;\n",
              "    }\n",
              "\n",
              "    .dataframe tbody tr th {\n",
              "        vertical-align: top;\n",
              "    }\n",
              "\n",
              "    .dataframe thead th {\n",
              "        text-align: right;\n",
              "    }\n",
              "</style>\n",
              "<table border=\"1\" class=\"dataframe\">\n",
              "  <thead>\n",
              "    <tr style=\"text-align: right;\">\n",
              "      <th></th>\n",
              "      <th>VendorID</th>\n",
              "      <th>tpep_pickup_datetime</th>\n",
              "      <th>tpep_dropoff_datetime</th>\n",
              "      <th>passenger_count</th>\n",
              "      <th>trip_distance</th>\n",
              "      <th>RatecodeID</th>\n",
              "      <th>store_and_fwd_flag</th>\n",
              "      <th>PULocationID</th>\n",
              "      <th>DOLocationID</th>\n",
              "      <th>payment_type</th>\n",
              "      <th>fare_amount</th>\n",
              "      <th>extra</th>\n",
              "      <th>mta_tax</th>\n",
              "      <th>tip_amount</th>\n",
              "      <th>tolls_amount</th>\n",
              "      <th>improvement_surcharge</th>\n",
              "      <th>total_amount</th>\n",
              "      <th>congestion_surcharge</th>\n",
              "    </tr>\n",
              "  </thead>\n",
              "  <tbody>\n",
              "    <tr>\n",
              "      <th>0</th>\n",
              "      <td>1.0</td>\n",
              "      <td>2020-05-01 00:02:28</td>\n",
              "      <td>2020-05-01 00:18:07</td>\n",
              "      <td>1.0</td>\n",
              "      <td>0.0</td>\n",
              "      <td>1.0</td>\n",
              "      <td>N</td>\n",
              "      <td>234</td>\n",
              "      <td>256</td>\n",
              "      <td>1.0</td>\n",
              "      <td>12.2</td>\n",
              "      <td>3.0</td>\n",
              "      <td>0.5</td>\n",
              "      <td>2.4</td>\n",
              "      <td>0.0</td>\n",
              "      <td>0.3</td>\n",
              "      <td>18.4</td>\n",
              "      <td>2.5</td>\n",
              "    </tr>\n",
              "    <tr>\n",
              "      <th>1</th>\n",
              "      <td>1.0</td>\n",
              "      <td>2020-05-01 00:23:21</td>\n",
              "      <td>2020-05-01 00:26:01</td>\n",
              "      <td>2.0</td>\n",
              "      <td>0.4</td>\n",
              "      <td>1.0</td>\n",
              "      <td>N</td>\n",
              "      <td>264</td>\n",
              "      <td>264</td>\n",
              "      <td>1.0</td>\n",
              "      <td>4.0</td>\n",
              "      <td>0.5</td>\n",
              "      <td>0.5</td>\n",
              "      <td>0.5</td>\n",
              "      <td>0.0</td>\n",
              "      <td>0.3</td>\n",
              "      <td>5.8</td>\n",
              "      <td>0.0</td>\n",
              "    </tr>\n",
              "    <tr>\n",
              "      <th>2</th>\n",
              "      <td>1.0</td>\n",
              "      <td>2020-05-01 00:54:58</td>\n",
              "      <td>2020-05-01 00:57:11</td>\n",
              "      <td>1.0</td>\n",
              "      <td>0.3</td>\n",
              "      <td>1.0</td>\n",
              "      <td>N</td>\n",
              "      <td>264</td>\n",
              "      <td>264</td>\n",
              "      <td>2.0</td>\n",
              "      <td>3.5</td>\n",
              "      <td>0.5</td>\n",
              "      <td>0.5</td>\n",
              "      <td>0.0</td>\n",
              "      <td>0.0</td>\n",
              "      <td>0.3</td>\n",
              "      <td>4.8</td>\n",
              "      <td>0.0</td>\n",
              "    </tr>\n",
              "    <tr>\n",
              "      <th>3</th>\n",
              "      <td>1.0</td>\n",
              "      <td>2020-05-01 00:07:10</td>\n",
              "      <td>2020-05-01 00:12:46</td>\n",
              "      <td>1.0</td>\n",
              "      <td>1.7</td>\n",
              "      <td>1.0</td>\n",
              "      <td>N</td>\n",
              "      <td>107</td>\n",
              "      <td>229</td>\n",
              "      <td>2.0</td>\n",
              "      <td>7.0</td>\n",
              "      <td>3.0</td>\n",
              "      <td>0.5</td>\n",
              "      <td>0.0</td>\n",
              "      <td>0.0</td>\n",
              "      <td>0.3</td>\n",
              "      <td>10.8</td>\n",
              "      <td>2.5</td>\n",
              "    </tr>\n",
              "    <tr>\n",
              "      <th>4</th>\n",
              "      <td>1.0</td>\n",
              "      <td>2020-05-01 00:55:47</td>\n",
              "      <td>2020-05-01 01:01:54</td>\n",
              "      <td>0.0</td>\n",
              "      <td>0.9</td>\n",
              "      <td>1.0</td>\n",
              "      <td>N</td>\n",
              "      <td>237</td>\n",
              "      <td>262</td>\n",
              "      <td>1.0</td>\n",
              "      <td>6.0</td>\n",
              "      <td>3.0</td>\n",
              "      <td>0.5</td>\n",
              "      <td>1.2</td>\n",
              "      <td>0.0</td>\n",
              "      <td>0.3</td>\n",
              "      <td>11.0</td>\n",
              "      <td>2.5</td>\n",
              "    </tr>\n",
              "  </tbody>\n",
              "</table>\n",
              "</div>\n",
              "      <button class=\"colab-df-convert\" onclick=\"convertToInteractive('df-cf2e0993-d325-4523-b1a9-231d31c6b6d1')\"\n",
              "              title=\"Convert this dataframe to an interactive table.\"\n",
              "              style=\"display:none;\">\n",
              "        \n",
              "  <svg xmlns=\"http://www.w3.org/2000/svg\" height=\"24px\"viewBox=\"0 0 24 24\"\n",
              "       width=\"24px\">\n",
              "    <path d=\"M0 0h24v24H0V0z\" fill=\"none\"/>\n",
              "    <path d=\"M18.56 5.44l.94 2.06.94-2.06 2.06-.94-2.06-.94-.94-2.06-.94 2.06-2.06.94zm-11 1L8.5 8.5l.94-2.06 2.06-.94-2.06-.94L8.5 2.5l-.94 2.06-2.06.94zm10 10l.94 2.06.94-2.06 2.06-.94-2.06-.94-.94-2.06-.94 2.06-2.06.94z\"/><path d=\"M17.41 7.96l-1.37-1.37c-.4-.4-.92-.59-1.43-.59-.52 0-1.04.2-1.43.59L10.3 9.45l-7.72 7.72c-.78.78-.78 2.05 0 2.83L4 21.41c.39.39.9.59 1.41.59.51 0 1.02-.2 1.41-.59l7.78-7.78 2.81-2.81c.8-.78.8-2.07 0-2.86zM5.41 20L4 18.59l7.72-7.72 1.47 1.35L5.41 20z\"/>\n",
              "  </svg>\n",
              "      </button>\n",
              "      \n",
              "  <style>\n",
              "    .colab-df-container {\n",
              "      display:flex;\n",
              "      flex-wrap:wrap;\n",
              "      gap: 12px;\n",
              "    }\n",
              "\n",
              "    .colab-df-convert {\n",
              "      background-color: #E8F0FE;\n",
              "      border: none;\n",
              "      border-radius: 50%;\n",
              "      cursor: pointer;\n",
              "      display: none;\n",
              "      fill: #1967D2;\n",
              "      height: 32px;\n",
              "      padding: 0 0 0 0;\n",
              "      width: 32px;\n",
              "    }\n",
              "\n",
              "    .colab-df-convert:hover {\n",
              "      background-color: #E2EBFA;\n",
              "      box-shadow: 0px 1px 2px rgba(60, 64, 67, 0.3), 0px 1px 3px 1px rgba(60, 64, 67, 0.15);\n",
              "      fill: #174EA6;\n",
              "    }\n",
              "\n",
              "    [theme=dark] .colab-df-convert {\n",
              "      background-color: #3B4455;\n",
              "      fill: #D2E3FC;\n",
              "    }\n",
              "\n",
              "    [theme=dark] .colab-df-convert:hover {\n",
              "      background-color: #434B5C;\n",
              "      box-shadow: 0px 1px 3px 1px rgba(0, 0, 0, 0.15);\n",
              "      filter: drop-shadow(0px 1px 2px rgba(0, 0, 0, 0.3));\n",
              "      fill: #FFFFFF;\n",
              "    }\n",
              "  </style>\n",
              "\n",
              "      <script>\n",
              "        const buttonEl =\n",
              "          document.querySelector('#df-cf2e0993-d325-4523-b1a9-231d31c6b6d1 button.colab-df-convert');\n",
              "        buttonEl.style.display =\n",
              "          google.colab.kernel.accessAllowed ? 'block' : 'none';\n",
              "\n",
              "        async function convertToInteractive(key) {\n",
              "          const element = document.querySelector('#df-cf2e0993-d325-4523-b1a9-231d31c6b6d1');\n",
              "          const dataTable =\n",
              "            await google.colab.kernel.invokeFunction('convertToInteractive',\n",
              "                                                     [key], {});\n",
              "          if (!dataTable) return;\n",
              "\n",
              "          const docLinkHtml = 'Like what you see? Visit the ' +\n",
              "            '<a target=\"_blank\" href=https://colab.research.google.com/notebooks/data_table.ipynb>data table notebook</a>'\n",
              "            + ' to learn more about interactive tables.';\n",
              "          element.innerHTML = '';\n",
              "          dataTable['output_type'] = 'display_data';\n",
              "          await google.colab.output.renderOutput(dataTable, element);\n",
              "          const docLink = document.createElement('div');\n",
              "          docLink.innerHTML = docLinkHtml;\n",
              "          element.appendChild(docLink);\n",
              "        }\n",
              "      </script>\n",
              "    </div>\n",
              "  </div>\n",
              "  "
            ]
          },
          "metadata": {},
          "execution_count": 4
        }
      ]
    },
    {
      "cell_type": "markdown",
      "source": [
        "On remarque notamment à l'aide du dictionnaire des variables que la variable à prédire `Total_amount` est la somme des variables suivantes : `fare_amount`, `extra`, `mta_tax`, `tip_amount`, `tolls_amount`, `improvement_surcharge` et `congestion_surcharge`. \n",
        "Les introduire dans notre modèle de prédiction n'est pas très pertinent, on les retire donc."
      ],
      "metadata": {
        "id": "pBlumc3ppaDY"
      }
    },
    {
      "cell_type": "code",
      "source": [
        "data = data.drop([\"fare_amount\", \"extra\", \"mta_tax\", \"tip_amount\", \"tolls_amount\", \"improvement_surcharge\", \"congestion_surcharge\"], axis=1)"
      ],
      "metadata": {
        "id": "XTPhDAcuq3Zm"
      },
      "execution_count": 5,
      "outputs": []
    },
    {
      "cell_type": "code",
      "source": [
        "data.shape"
      ],
      "metadata": {
        "id": "BgDAgMKUrKgH",
        "outputId": "fc78871e-9a95-4425-f2a7-e011d8966af3",
        "colab": {
          "base_uri": "https://localhost:8080/"
        }
      },
      "execution_count": 6,
      "outputs": [
        {
          "output_type": "execute_result",
          "data": {
            "text/plain": [
              "(348371, 11)"
            ]
          },
          "metadata": {},
          "execution_count": 6
        }
      ]
    },
    {
      "cell_type": "markdown",
      "metadata": {
        "id": "OI0t21FAnlB4"
      },
      "source": [
        "### Retrait des valeurs manquantes"
      ]
    },
    {
      "cell_type": "code",
      "source": [
        "data.isna().sum()"
      ],
      "metadata": {
        "id": "JX_NDoMcrGcP",
        "outputId": "9d6b94b0-290f-4a24-9b98-b8ae13319d2d",
        "colab": {
          "base_uri": "https://localhost:8080/"
        }
      },
      "execution_count": 7,
      "outputs": [
        {
          "output_type": "execute_result",
          "data": {
            "text/plain": [
              "VendorID                 58891\n",
              "tpep_pickup_datetime         0\n",
              "tpep_dropoff_datetime        0\n",
              "passenger_count          58891\n",
              "trip_distance                0\n",
              "RatecodeID               58891\n",
              "store_and_fwd_flag       58891\n",
              "PULocationID                 0\n",
              "DOLocationID                 0\n",
              "payment_type             58891\n",
              "total_amount                 0\n",
              "dtype: int64"
            ]
          },
          "metadata": {},
          "execution_count": 7
        }
      ]
    },
    {
      "cell_type": "markdown",
      "source": [
        "On observe des valeurs manquantes dans `VendorID`, `passenger_count`, `RatecodeID`, `store_and_fwd_flag` et `payment_type`. Ces individus ne représentant que 15% du dataset, on décide de les supprimer car il nous restera toujours assez de données pour travailler par la suite."
      ],
      "metadata": {
        "id": "baL6VIqMrJOP"
      }
    },
    {
      "cell_type": "code",
      "execution_count": 8,
      "metadata": {
        "id": "-gUChItYnlB4"
      },
      "outputs": [],
      "source": [
        "data = data.dropna()"
      ]
    },
    {
      "cell_type": "code",
      "execution_count": 9,
      "metadata": {
        "id": "9Hcs3_f-nlB4",
        "outputId": "8cee2221-60c2-4d01-9794-9870e00c6511",
        "colab": {
          "base_uri": "https://localhost:8080/"
        }
      },
      "outputs": [
        {
          "output_type": "execute_result",
          "data": {
            "text/plain": [
              "(289480, 11)"
            ]
          },
          "metadata": {},
          "execution_count": 9
        }
      ],
      "source": [
        "data.shape"
      ]
    },
    {
      "cell_type": "markdown",
      "metadata": {
        "id": "dG__tl69nlB6"
      },
      "source": [
        "### Identification des valeurs aberrantes"
      ]
    },
    {
      "cell_type": "code",
      "execution_count": 10,
      "metadata": {
        "id": "WbZbg8-tnlB6",
        "outputId": "0e27eebb-c372-482e-d79a-fda562bb2974",
        "colab": {
          "base_uri": "https://localhost:8080/"
        }
      },
      "outputs": [
        {
          "output_type": "stream",
          "name": "stdout",
          "text": [
            "Valeurs uniques dans VendorID : [1. 2.]\n",
            "Valeurs uniques dans tpep_pickup_datetime : ['2008-12-31 23:05:47' '2009-01-01 00:57:36' '2009-01-01 02:19:49' ...\n",
            " '2020-11-01 15:15:05' '2020-11-01 15:26:33' '2020-11-01 15:41:04']\n",
            "Valeurs uniques dans tpep_dropoff_datetime : ['2008-12-31 23:33:33' '2009-01-01 01:05:48' '2009-01-01 02:23:35' ...\n",
            " '2020-11-01 15:23:18' '2020-11-01 15:39:04' '2020-11-01 15:57:02']\n",
            "Valeurs uniques dans passenger_count : [0. 1. 2. 3. 4. 5. 6. 8. 9.]\n",
            "Valeurs uniques dans trip_distance : [0.000000e+00 1.000000e-02 2.000000e-02 ... 2.380000e+02 3.051000e+02\n",
            " 1.097355e+04]\n",
            "Valeurs uniques dans RatecodeID : [ 1.  2.  3.  4.  5.  6. 99.]\n",
            "Valeurs uniques dans store_and_fwd_flag : ['N' 'Y']\n",
            "Valeurs uniques dans PULocationID : [  1   2   3   4   5   6   7   8   9  10  11  12  13  14  15  16  17  18\n",
            "  19  20  21  22  23  24  25  26  28  29  31  32  33  34  35  36  37  38\n",
            "  39  40  41  42  43  44  45  46  47  48  49  50  51  52  53  54  55  56\n",
            "  57  58  59  60  61  62  63  64  65  66  67  68  69  70  71  72  73  74\n",
            "  75  76  77  78  79  80  81  82  83  85  86  87  88  89  90  91  92  93\n",
            "  94  95  96  97  98 100 101 102 106 107 108 112 113 114 115 116 117 118\n",
            " 119 120 121 122 123 124 125 126 127 128 129 130 131 132 133 134 135 136\n",
            " 137 138 139 140 141 142 143 144 145 146 147 148 149 150 151 152 153 154\n",
            " 155 156 157 158 159 160 161 162 163 164 165 166 167 168 169 170 171 172\n",
            " 173 174 175 177 178 179 180 181 182 183 184 185 186 187 188 189 190 191\n",
            " 192 193 194 195 196 197 198 200 201 202 203 205 206 207 208 209 210 211\n",
            " 212 213 214 215 216 217 218 219 220 221 222 223 224 225 226 227 228 229\n",
            " 230 231 232 233 234 235 236 237 238 239 240 241 242 243 244 245 246 247\n",
            " 248 249 250 251 252 253 254 255 256 257 258 259 260 261 262 263 264 265]\n",
            "Valeurs uniques dans DOLocationID : [  1   3   4   5   6   7   8   9  10  11  12  13  14  15  16  17  18  19\n",
            "  20  21  22  23  24  25  26  27  28  29  30  31  32  33  34  35  36  37\n",
            "  38  39  40  41  42  43  44  45  46  47  48  49  50  51  52  53  54  55\n",
            "  56  57  58  59  60  61  62  63  64  65  66  67  68  69  70  71  72  73\n",
            "  74  75  76  77  78  79  80  81  82  83  84  85  86  87  88  89  90  91\n",
            "  92  93  94  95  96  97  98  99 100 101 102 106 107 108 109 112 113 114\n",
            " 115 116 117 118 119 120 121 122 123 124 125 126 127 128 129 130 131 132\n",
            " 133 134 135 136 137 138 139 140 141 142 143 144 145 146 147 148 149 150\n",
            " 151 152 153 154 155 156 157 158 159 160 161 162 163 164 165 166 167 168\n",
            " 169 170 171 172 173 174 175 176 177 178 179 180 181 182 183 184 185 186\n",
            " 187 188 189 190 191 192 193 194 195 196 197 198 200 201 202 203 204 205\n",
            " 206 207 208 209 210 211 212 213 214 215 216 217 218 219 220 221 222 223\n",
            " 224 225 226 227 228 229 230 231 232 233 234 235 236 237 238 239 240 241\n",
            " 242 243 244 245 246 247 248 249 250 251 252 253 254 255 256 257 258 259\n",
            " 260 261 262 263 264 265]\n",
            "Valeurs uniques dans payment_type : [1. 2. 3. 4.]\n",
            "Valeurs uniques dans total_amount : [-2.4430000e+02 -2.3780000e+02 -1.3230000e+02 ...  9.5030000e+02\n",
            "  1.0428200e+03  4.2956225e+05]\n"
          ]
        }
      ],
      "source": [
        "for column in data.columns:\n",
        "    print(f\"Valeurs uniques dans {column} : {np.sort(data[column].unique())}\")"
      ]
    },
    {
      "cell_type": "markdown",
      "metadata": {
        "id": "GFRsmn4enlB7"
      },
      "source": [
        "VendorID : ok\n",
        " \n",
        "tpep_pickup_dateime : ok\n",
        " \n",
        "tpep_dropoff_datetime : ok\n",
        " \n",
        "passenger_count : les nombres de passagers à 8 et 9 semblent aberrantes, on les retire\n",
        " \n",
        "trip_distance : à étudier en détail, valeurs à 0 à retirer\n",
        " \n",
        "RateCodeID : vérifier combien il y a de 99 (valeurs absentes du dictionnaire). si négligeable, à supprimer\n",
        " \n",
        "store_and_fwd_flag : RAS\n",
        " \n",
        "PULocationID : RAS\n",
        " \n",
        "DOLocationID : vérifier en déail\n",
        "\n",
        "total_amount : passer les valeurs négatives en positif"
      ]
    },
    {
      "cell_type": "markdown",
      "source": [
        "On observe quelques valeurs intriguantes, voyons en détail :\n"
      ],
      "metadata": {
        "id": "pWIb4DM_NVuz"
      }
    },
    {
      "cell_type": "markdown",
      "source": [
        "Pour `tpep_pickup_datetime` et `tpep_dropoff_datetime`, on observe que certaines valeurs ne correspondent pas au mois de Mai 2020 comme convenu dans le périmètre de l'étude. On les retire, d'autant plus qu'elles ne reprédentent que 82 individus du dataset au maximum : nous aurons toujours assez de données pour continuer."
      ],
      "metadata": {
        "id": "H4kpJOuFNenD"
      }
    },
    {
      "cell_type": "code",
      "source": [
        "data[~data[\"tpep_pickup_datetime\"].str.contains(\"2020-05\")].head()"
      ],
      "metadata": {
        "colab": {
          "base_uri": "https://localhost:8080/",
          "height": 206
        },
        "id": "DKursPhZxS9R",
        "outputId": "be6cbd32-4e15-4334-adf0-a08b89fe6eb3"
      },
      "execution_count": 11,
      "outputs": [
        {
          "output_type": "execute_result",
          "data": {
            "text/plain": [
              "       VendorID tpep_pickup_datetime tpep_dropoff_datetime  passenger_count  \\\n",
              "598         2.0  2020-04-30 17:55:31   2020-04-30 18:00:22              1.0   \n",
              "599         2.0  2020-04-30 18:18:23   2020-05-01 17:30:12              1.0   \n",
              "1065        2.0  2020-04-30 17:37:42   2020-04-30 17:48:31              1.0   \n",
              "1066        2.0  2020-04-30 18:12:23   2020-05-01 17:29:16              1.0   \n",
              "35086       2.0  2009-01-01 02:19:49   2009-01-01 02:23:35              3.0   \n",
              "\n",
              "       trip_distance  RatecodeID store_and_fwd_flag  PULocationID  \\\n",
              "598             1.16         1.0                  N           238   \n",
              "599             1.07         1.0                  N           249   \n",
              "1065            2.77         1.0                  N           230   \n",
              "1066            5.32         1.0                  N           142   \n",
              "35086           0.98         1.0                  N            74   \n",
              "\n",
              "       DOLocationID  payment_type  total_amount  \n",
              "598             236           2.0          9.30  \n",
              "599             249           2.0         11.80  \n",
              "1065            263           1.0         16.56  \n",
              "1066            231           2.0         19.80  \n",
              "35086            75           2.0          5.80  "
            ],
            "text/html": [
              "\n",
              "  <div id=\"df-652ffb62-beb6-4c1f-80f0-3c2b9ebf5056\">\n",
              "    <div class=\"colab-df-container\">\n",
              "      <div>\n",
              "<style scoped>\n",
              "    .dataframe tbody tr th:only-of-type {\n",
              "        vertical-align: middle;\n",
              "    }\n",
              "\n",
              "    .dataframe tbody tr th {\n",
              "        vertical-align: top;\n",
              "    }\n",
              "\n",
              "    .dataframe thead th {\n",
              "        text-align: right;\n",
              "    }\n",
              "</style>\n",
              "<table border=\"1\" class=\"dataframe\">\n",
              "  <thead>\n",
              "    <tr style=\"text-align: right;\">\n",
              "      <th></th>\n",
              "      <th>VendorID</th>\n",
              "      <th>tpep_pickup_datetime</th>\n",
              "      <th>tpep_dropoff_datetime</th>\n",
              "      <th>passenger_count</th>\n",
              "      <th>trip_distance</th>\n",
              "      <th>RatecodeID</th>\n",
              "      <th>store_and_fwd_flag</th>\n",
              "      <th>PULocationID</th>\n",
              "      <th>DOLocationID</th>\n",
              "      <th>payment_type</th>\n",
              "      <th>total_amount</th>\n",
              "    </tr>\n",
              "  </thead>\n",
              "  <tbody>\n",
              "    <tr>\n",
              "      <th>598</th>\n",
              "      <td>2.0</td>\n",
              "      <td>2020-04-30 17:55:31</td>\n",
              "      <td>2020-04-30 18:00:22</td>\n",
              "      <td>1.0</td>\n",
              "      <td>1.16</td>\n",
              "      <td>1.0</td>\n",
              "      <td>N</td>\n",
              "      <td>238</td>\n",
              "      <td>236</td>\n",
              "      <td>2.0</td>\n",
              "      <td>9.30</td>\n",
              "    </tr>\n",
              "    <tr>\n",
              "      <th>599</th>\n",
              "      <td>2.0</td>\n",
              "      <td>2020-04-30 18:18:23</td>\n",
              "      <td>2020-05-01 17:30:12</td>\n",
              "      <td>1.0</td>\n",
              "      <td>1.07</td>\n",
              "      <td>1.0</td>\n",
              "      <td>N</td>\n",
              "      <td>249</td>\n",
              "      <td>249</td>\n",
              "      <td>2.0</td>\n",
              "      <td>11.80</td>\n",
              "    </tr>\n",
              "    <tr>\n",
              "      <th>1065</th>\n",
              "      <td>2.0</td>\n",
              "      <td>2020-04-30 17:37:42</td>\n",
              "      <td>2020-04-30 17:48:31</td>\n",
              "      <td>1.0</td>\n",
              "      <td>2.77</td>\n",
              "      <td>1.0</td>\n",
              "      <td>N</td>\n",
              "      <td>230</td>\n",
              "      <td>263</td>\n",
              "      <td>1.0</td>\n",
              "      <td>16.56</td>\n",
              "    </tr>\n",
              "    <tr>\n",
              "      <th>1066</th>\n",
              "      <td>2.0</td>\n",
              "      <td>2020-04-30 18:12:23</td>\n",
              "      <td>2020-05-01 17:29:16</td>\n",
              "      <td>1.0</td>\n",
              "      <td>5.32</td>\n",
              "      <td>1.0</td>\n",
              "      <td>N</td>\n",
              "      <td>142</td>\n",
              "      <td>231</td>\n",
              "      <td>2.0</td>\n",
              "      <td>19.80</td>\n",
              "    </tr>\n",
              "    <tr>\n",
              "      <th>35086</th>\n",
              "      <td>2.0</td>\n",
              "      <td>2009-01-01 02:19:49</td>\n",
              "      <td>2009-01-01 02:23:35</td>\n",
              "      <td>3.0</td>\n",
              "      <td>0.98</td>\n",
              "      <td>1.0</td>\n",
              "      <td>N</td>\n",
              "      <td>74</td>\n",
              "      <td>75</td>\n",
              "      <td>2.0</td>\n",
              "      <td>5.80</td>\n",
              "    </tr>\n",
              "  </tbody>\n",
              "</table>\n",
              "</div>\n",
              "      <button class=\"colab-df-convert\" onclick=\"convertToInteractive('df-652ffb62-beb6-4c1f-80f0-3c2b9ebf5056')\"\n",
              "              title=\"Convert this dataframe to an interactive table.\"\n",
              "              style=\"display:none;\">\n",
              "        \n",
              "  <svg xmlns=\"http://www.w3.org/2000/svg\" height=\"24px\"viewBox=\"0 0 24 24\"\n",
              "       width=\"24px\">\n",
              "    <path d=\"M0 0h24v24H0V0z\" fill=\"none\"/>\n",
              "    <path d=\"M18.56 5.44l.94 2.06.94-2.06 2.06-.94-2.06-.94-.94-2.06-.94 2.06-2.06.94zm-11 1L8.5 8.5l.94-2.06 2.06-.94-2.06-.94L8.5 2.5l-.94 2.06-2.06.94zm10 10l.94 2.06.94-2.06 2.06-.94-2.06-.94-.94-2.06-.94 2.06-2.06.94z\"/><path d=\"M17.41 7.96l-1.37-1.37c-.4-.4-.92-.59-1.43-.59-.52 0-1.04.2-1.43.59L10.3 9.45l-7.72 7.72c-.78.78-.78 2.05 0 2.83L4 21.41c.39.39.9.59 1.41.59.51 0 1.02-.2 1.41-.59l7.78-7.78 2.81-2.81c.8-.78.8-2.07 0-2.86zM5.41 20L4 18.59l7.72-7.72 1.47 1.35L5.41 20z\"/>\n",
              "  </svg>\n",
              "      </button>\n",
              "      \n",
              "  <style>\n",
              "    .colab-df-container {\n",
              "      display:flex;\n",
              "      flex-wrap:wrap;\n",
              "      gap: 12px;\n",
              "    }\n",
              "\n",
              "    .colab-df-convert {\n",
              "      background-color: #E8F0FE;\n",
              "      border: none;\n",
              "      border-radius: 50%;\n",
              "      cursor: pointer;\n",
              "      display: none;\n",
              "      fill: #1967D2;\n",
              "      height: 32px;\n",
              "      padding: 0 0 0 0;\n",
              "      width: 32px;\n",
              "    }\n",
              "\n",
              "    .colab-df-convert:hover {\n",
              "      background-color: #E2EBFA;\n",
              "      box-shadow: 0px 1px 2px rgba(60, 64, 67, 0.3), 0px 1px 3px 1px rgba(60, 64, 67, 0.15);\n",
              "      fill: #174EA6;\n",
              "    }\n",
              "\n",
              "    [theme=dark] .colab-df-convert {\n",
              "      background-color: #3B4455;\n",
              "      fill: #D2E3FC;\n",
              "    }\n",
              "\n",
              "    [theme=dark] .colab-df-convert:hover {\n",
              "      background-color: #434B5C;\n",
              "      box-shadow: 0px 1px 3px 1px rgba(0, 0, 0, 0.15);\n",
              "      filter: drop-shadow(0px 1px 2px rgba(0, 0, 0, 0.3));\n",
              "      fill: #FFFFFF;\n",
              "    }\n",
              "  </style>\n",
              "\n",
              "      <script>\n",
              "        const buttonEl =\n",
              "          document.querySelector('#df-652ffb62-beb6-4c1f-80f0-3c2b9ebf5056 button.colab-df-convert');\n",
              "        buttonEl.style.display =\n",
              "          google.colab.kernel.accessAllowed ? 'block' : 'none';\n",
              "\n",
              "        async function convertToInteractive(key) {\n",
              "          const element = document.querySelector('#df-652ffb62-beb6-4c1f-80f0-3c2b9ebf5056');\n",
              "          const dataTable =\n",
              "            await google.colab.kernel.invokeFunction('convertToInteractive',\n",
              "                                                     [key], {});\n",
              "          if (!dataTable) return;\n",
              "\n",
              "          const docLinkHtml = 'Like what you see? Visit the ' +\n",
              "            '<a target=\"_blank\" href=https://colab.research.google.com/notebooks/data_table.ipynb>data table notebook</a>'\n",
              "            + ' to learn more about interactive tables.';\n",
              "          element.innerHTML = '';\n",
              "          dataTable['output_type'] = 'display_data';\n",
              "          await google.colab.output.renderOutput(dataTable, element);\n",
              "          const docLink = document.createElement('div');\n",
              "          docLink.innerHTML = docLinkHtml;\n",
              "          element.appendChild(docLink);\n",
              "        }\n",
              "      </script>\n",
              "    </div>\n",
              "  </div>\n",
              "  "
            ]
          },
          "metadata": {},
          "execution_count": 11
        }
      ]
    },
    {
      "cell_type": "code",
      "source": [
        "print(\"Trajets hors mai 2020 : {}\".format(data[~data[\"tpep_pickup_datetime\"].str.contains(\"2020-05\")].shape[0]))"
      ],
      "metadata": {
        "colab": {
          "base_uri": "https://localhost:8080/"
        },
        "id": "QywiuEvJyC46",
        "outputId": "1ad11fbc-7d96-4c83-9195-a07fbc6baf51"
      },
      "execution_count": 12,
      "outputs": [
        {
          "output_type": "stream",
          "name": "stdout",
          "text": [
            "Trajets hors mai 2020 : 23\n"
          ]
        }
      ]
    },
    {
      "cell_type": "code",
      "source": [
        "print(\"Trajets hors mai 2020 : {}\".format(data[~data[\"tpep_dropoff_datetime\"].str.contains(\"2020-05\")].shape[0]))"
      ],
      "metadata": {
        "colab": {
          "base_uri": "https://localhost:8080/"
        },
        "id": "_R0vraKFx9L9",
        "outputId": "5d8e08cf-a1dc-4e5d-e25f-ed73062554e4"
      },
      "execution_count": 13,
      "outputs": [
        {
          "output_type": "stream",
          "name": "stdout",
          "text": [
            "Trajets hors mai 2020 : 69\n"
          ]
        }
      ]
    },
    {
      "cell_type": "code",
      "source": [
        "data = data[data[\"tpep_pickup_datetime\"].str.contains(\"2020-05\")]\n",
        "data = data[data[\"tpep_dropoff_datetime\"].str.contains(\"2020-05\")]"
      ],
      "metadata": {
        "id": "mLP8Lu5aNhis"
      },
      "execution_count": 14,
      "outputs": []
    },
    {
      "cell_type": "markdown",
      "source": [
        "Pour `passenger_count`, les valeurs 8 et 9 semblent aberrantes. En effet, difficile d'imaginer un taxi et une limousine avec 8 ou 9 passagers. D'après nos recherches, le maximum de passagers autorisés dans un taxi-limousine est de 6 personnes. \n",
        "\n",
        "Ces valeurs ne composant que deux individus de notre dataset, on les retire en gardant la variable."
      ],
      "metadata": {
        "id": "ARQT5Lz-N4W7"
      }
    },
    {
      "cell_type": "code",
      "source": [
        "data[data[\"passenger_count\"] >= 8]"
      ],
      "metadata": {
        "id": "Ia5kQtuPszim",
        "outputId": "ea03caa6-f2ba-47f3-eff0-d21851aff39a",
        "colab": {
          "base_uri": "https://localhost:8080/",
          "height": 112
        }
      },
      "execution_count": 15,
      "outputs": [
        {
          "output_type": "execute_result",
          "data": {
            "text/plain": [
              "        VendorID tpep_pickup_datetime tpep_dropoff_datetime  passenger_count  \\\n",
              "166705       2.0  2020-05-20 06:42:42   2020-05-20 06:42:48              9.0   \n",
              "288378       2.0  2020-05-31 20:53:17   2020-05-31 20:53:19              8.0   \n",
              "\n",
              "        trip_distance  RatecodeID store_and_fwd_flag  PULocationID  \\\n",
              "166705            0.0         5.0                  N           264   \n",
              "288378            0.0         5.0                  N           116   \n",
              "\n",
              "        DOLocationID  payment_type  total_amount  \n",
              "166705           264           1.0         11.76  \n",
              "288378           116           1.0         11.00  "
            ],
            "text/html": [
              "\n",
              "  <div id=\"df-8961e457-8bf0-4417-8b4c-f9b4e9330026\">\n",
              "    <div class=\"colab-df-container\">\n",
              "      <div>\n",
              "<style scoped>\n",
              "    .dataframe tbody tr th:only-of-type {\n",
              "        vertical-align: middle;\n",
              "    }\n",
              "\n",
              "    .dataframe tbody tr th {\n",
              "        vertical-align: top;\n",
              "    }\n",
              "\n",
              "    .dataframe thead th {\n",
              "        text-align: right;\n",
              "    }\n",
              "</style>\n",
              "<table border=\"1\" class=\"dataframe\">\n",
              "  <thead>\n",
              "    <tr style=\"text-align: right;\">\n",
              "      <th></th>\n",
              "      <th>VendorID</th>\n",
              "      <th>tpep_pickup_datetime</th>\n",
              "      <th>tpep_dropoff_datetime</th>\n",
              "      <th>passenger_count</th>\n",
              "      <th>trip_distance</th>\n",
              "      <th>RatecodeID</th>\n",
              "      <th>store_and_fwd_flag</th>\n",
              "      <th>PULocationID</th>\n",
              "      <th>DOLocationID</th>\n",
              "      <th>payment_type</th>\n",
              "      <th>total_amount</th>\n",
              "    </tr>\n",
              "  </thead>\n",
              "  <tbody>\n",
              "    <tr>\n",
              "      <th>166705</th>\n",
              "      <td>2.0</td>\n",
              "      <td>2020-05-20 06:42:42</td>\n",
              "      <td>2020-05-20 06:42:48</td>\n",
              "      <td>9.0</td>\n",
              "      <td>0.0</td>\n",
              "      <td>5.0</td>\n",
              "      <td>N</td>\n",
              "      <td>264</td>\n",
              "      <td>264</td>\n",
              "      <td>1.0</td>\n",
              "      <td>11.76</td>\n",
              "    </tr>\n",
              "    <tr>\n",
              "      <th>288378</th>\n",
              "      <td>2.0</td>\n",
              "      <td>2020-05-31 20:53:17</td>\n",
              "      <td>2020-05-31 20:53:19</td>\n",
              "      <td>8.0</td>\n",
              "      <td>0.0</td>\n",
              "      <td>5.0</td>\n",
              "      <td>N</td>\n",
              "      <td>116</td>\n",
              "      <td>116</td>\n",
              "      <td>1.0</td>\n",
              "      <td>11.00</td>\n",
              "    </tr>\n",
              "  </tbody>\n",
              "</table>\n",
              "</div>\n",
              "      <button class=\"colab-df-convert\" onclick=\"convertToInteractive('df-8961e457-8bf0-4417-8b4c-f9b4e9330026')\"\n",
              "              title=\"Convert this dataframe to an interactive table.\"\n",
              "              style=\"display:none;\">\n",
              "        \n",
              "  <svg xmlns=\"http://www.w3.org/2000/svg\" height=\"24px\"viewBox=\"0 0 24 24\"\n",
              "       width=\"24px\">\n",
              "    <path d=\"M0 0h24v24H0V0z\" fill=\"none\"/>\n",
              "    <path d=\"M18.56 5.44l.94 2.06.94-2.06 2.06-.94-2.06-.94-.94-2.06-.94 2.06-2.06.94zm-11 1L8.5 8.5l.94-2.06 2.06-.94-2.06-.94L8.5 2.5l-.94 2.06-2.06.94zm10 10l.94 2.06.94-2.06 2.06-.94-2.06-.94-.94-2.06-.94 2.06-2.06.94z\"/><path d=\"M17.41 7.96l-1.37-1.37c-.4-.4-.92-.59-1.43-.59-.52 0-1.04.2-1.43.59L10.3 9.45l-7.72 7.72c-.78.78-.78 2.05 0 2.83L4 21.41c.39.39.9.59 1.41.59.51 0 1.02-.2 1.41-.59l7.78-7.78 2.81-2.81c.8-.78.8-2.07 0-2.86zM5.41 20L4 18.59l7.72-7.72 1.47 1.35L5.41 20z\"/>\n",
              "  </svg>\n",
              "      </button>\n",
              "      \n",
              "  <style>\n",
              "    .colab-df-container {\n",
              "      display:flex;\n",
              "      flex-wrap:wrap;\n",
              "      gap: 12px;\n",
              "    }\n",
              "\n",
              "    .colab-df-convert {\n",
              "      background-color: #E8F0FE;\n",
              "      border: none;\n",
              "      border-radius: 50%;\n",
              "      cursor: pointer;\n",
              "      display: none;\n",
              "      fill: #1967D2;\n",
              "      height: 32px;\n",
              "      padding: 0 0 0 0;\n",
              "      width: 32px;\n",
              "    }\n",
              "\n",
              "    .colab-df-convert:hover {\n",
              "      background-color: #E2EBFA;\n",
              "      box-shadow: 0px 1px 2px rgba(60, 64, 67, 0.3), 0px 1px 3px 1px rgba(60, 64, 67, 0.15);\n",
              "      fill: #174EA6;\n",
              "    }\n",
              "\n",
              "    [theme=dark] .colab-df-convert {\n",
              "      background-color: #3B4455;\n",
              "      fill: #D2E3FC;\n",
              "    }\n",
              "\n",
              "    [theme=dark] .colab-df-convert:hover {\n",
              "      background-color: #434B5C;\n",
              "      box-shadow: 0px 1px 3px 1px rgba(0, 0, 0, 0.15);\n",
              "      filter: drop-shadow(0px 1px 2px rgba(0, 0, 0, 0.3));\n",
              "      fill: #FFFFFF;\n",
              "    }\n",
              "  </style>\n",
              "\n",
              "      <script>\n",
              "        const buttonEl =\n",
              "          document.querySelector('#df-8961e457-8bf0-4417-8b4c-f9b4e9330026 button.colab-df-convert');\n",
              "        buttonEl.style.display =\n",
              "          google.colab.kernel.accessAllowed ? 'block' : 'none';\n",
              "\n",
              "        async function convertToInteractive(key) {\n",
              "          const element = document.querySelector('#df-8961e457-8bf0-4417-8b4c-f9b4e9330026');\n",
              "          const dataTable =\n",
              "            await google.colab.kernel.invokeFunction('convertToInteractive',\n",
              "                                                     [key], {});\n",
              "          if (!dataTable) return;\n",
              "\n",
              "          const docLinkHtml = 'Like what you see? Visit the ' +\n",
              "            '<a target=\"_blank\" href=https://colab.research.google.com/notebooks/data_table.ipynb>data table notebook</a>'\n",
              "            + ' to learn more about interactive tables.';\n",
              "          element.innerHTML = '';\n",
              "          dataTable['output_type'] = 'display_data';\n",
              "          await google.colab.output.renderOutput(dataTable, element);\n",
              "          const docLink = document.createElement('div');\n",
              "          docLink.innerHTML = docLinkHtml;\n",
              "          element.appendChild(docLink);\n",
              "        }\n",
              "      </script>\n",
              "    </div>\n",
              "  </div>\n",
              "  "
            ]
          },
          "metadata": {},
          "execution_count": 15
        }
      ]
    },
    {
      "cell_type": "code",
      "source": [
        "data = data[data[\"passenger_count\"] < 8]"
      ],
      "metadata": {
        "id": "J4BZ83WWOSsC"
      },
      "execution_count": 16,
      "outputs": []
    },
    {
      "cell_type": "code",
      "source": [
        "data[data[\"passenger_count\"] < 1]"
      ],
      "metadata": {
        "colab": {
          "base_uri": "https://localhost:8080/",
          "height": 424
        },
        "id": "ZYY33ZZw051N",
        "outputId": "9ca55136-1b2d-47b1-d5e2-774356d17da2"
      },
      "execution_count": 17,
      "outputs": [
        {
          "output_type": "execute_result",
          "data": {
            "text/plain": [
              "        VendorID tpep_pickup_datetime tpep_dropoff_datetime  passenger_count  \\\n",
              "4            1.0  2020-05-01 00:55:47   2020-05-01 01:01:54              0.0   \n",
              "5            1.0  2020-05-01 00:38:37   2020-05-01 01:03:08              0.0   \n",
              "74           1.0  2020-05-01 00:02:48   2020-05-01 00:07:05              0.0   \n",
              "75           1.0  2020-05-01 00:20:58   2020-05-01 00:24:21              0.0   \n",
              "217          2.0  2020-05-01 03:13:06   2020-05-01 03:13:12              0.0   \n",
              "...          ...                  ...                   ...              ...   \n",
              "289283       1.0  2020-05-31 23:24:44   2020-05-31 23:42:29              0.0   \n",
              "289427       1.0  2020-05-31 23:00:43   2020-05-31 23:17:42              0.0   \n",
              "289428       1.0  2020-05-31 23:18:01   2020-05-31 23:25:24              0.0   \n",
              "289429       1.0  2020-05-31 23:28:44   2020-05-31 23:42:22              0.0   \n",
              "289454       1.0  2020-05-31 23:47:54   2020-05-31 23:55:45              0.0   \n",
              "\n",
              "        trip_distance  RatecodeID store_and_fwd_flag  PULocationID  \\\n",
              "4                 0.9         1.0                  N           237   \n",
              "5                12.0         1.0                  N           140   \n",
              "74                1.2         1.0                  N           137   \n",
              "75                0.6         1.0                  N           141   \n",
              "217               0.0         5.0                  N            41   \n",
              "...               ...         ...                ...           ...   \n",
              "289283            3.5         1.0                  N           264   \n",
              "289427            6.3         1.0                  N           162   \n",
              "289428            1.4         1.0                  N           170   \n",
              "289429            4.4         1.0                  N            48   \n",
              "289454            1.1         1.0                  N            74   \n",
              "\n",
              "        DOLocationID  payment_type  total_amount  \n",
              "4                262           1.0         11.00  \n",
              "5                 28           1.0         39.30  \n",
              "74               141           2.0          9.30  \n",
              "75               237           1.0         10.35  \n",
              "217               41           1.0         28.99  \n",
              "...              ...           ...           ...  \n",
              "289283            66           3.0         18.30  \n",
              "289427           244           2.0         23.80  \n",
              "289428           186           1.0         13.56  \n",
              "289429            41           1.0         21.95  \n",
              "289454            41           2.0          7.80  \n",
              "\n",
              "[9605 rows x 11 columns]"
            ],
            "text/html": [
              "\n",
              "  <div id=\"df-028c3204-26b9-4edb-999e-8f5f17e56ccc\">\n",
              "    <div class=\"colab-df-container\">\n",
              "      <div>\n",
              "<style scoped>\n",
              "    .dataframe tbody tr th:only-of-type {\n",
              "        vertical-align: middle;\n",
              "    }\n",
              "\n",
              "    .dataframe tbody tr th {\n",
              "        vertical-align: top;\n",
              "    }\n",
              "\n",
              "    .dataframe thead th {\n",
              "        text-align: right;\n",
              "    }\n",
              "</style>\n",
              "<table border=\"1\" class=\"dataframe\">\n",
              "  <thead>\n",
              "    <tr style=\"text-align: right;\">\n",
              "      <th></th>\n",
              "      <th>VendorID</th>\n",
              "      <th>tpep_pickup_datetime</th>\n",
              "      <th>tpep_dropoff_datetime</th>\n",
              "      <th>passenger_count</th>\n",
              "      <th>trip_distance</th>\n",
              "      <th>RatecodeID</th>\n",
              "      <th>store_and_fwd_flag</th>\n",
              "      <th>PULocationID</th>\n",
              "      <th>DOLocationID</th>\n",
              "      <th>payment_type</th>\n",
              "      <th>total_amount</th>\n",
              "    </tr>\n",
              "  </thead>\n",
              "  <tbody>\n",
              "    <tr>\n",
              "      <th>4</th>\n",
              "      <td>1.0</td>\n",
              "      <td>2020-05-01 00:55:47</td>\n",
              "      <td>2020-05-01 01:01:54</td>\n",
              "      <td>0.0</td>\n",
              "      <td>0.9</td>\n",
              "      <td>1.0</td>\n",
              "      <td>N</td>\n",
              "      <td>237</td>\n",
              "      <td>262</td>\n",
              "      <td>1.0</td>\n",
              "      <td>11.00</td>\n",
              "    </tr>\n",
              "    <tr>\n",
              "      <th>5</th>\n",
              "      <td>1.0</td>\n",
              "      <td>2020-05-01 00:38:37</td>\n",
              "      <td>2020-05-01 01:03:08</td>\n",
              "      <td>0.0</td>\n",
              "      <td>12.0</td>\n",
              "      <td>1.0</td>\n",
              "      <td>N</td>\n",
              "      <td>140</td>\n",
              "      <td>28</td>\n",
              "      <td>1.0</td>\n",
              "      <td>39.30</td>\n",
              "    </tr>\n",
              "    <tr>\n",
              "      <th>74</th>\n",
              "      <td>1.0</td>\n",
              "      <td>2020-05-01 00:02:48</td>\n",
              "      <td>2020-05-01 00:07:05</td>\n",
              "      <td>0.0</td>\n",
              "      <td>1.2</td>\n",
              "      <td>1.0</td>\n",
              "      <td>N</td>\n",
              "      <td>137</td>\n",
              "      <td>141</td>\n",
              "      <td>2.0</td>\n",
              "      <td>9.30</td>\n",
              "    </tr>\n",
              "    <tr>\n",
              "      <th>75</th>\n",
              "      <td>1.0</td>\n",
              "      <td>2020-05-01 00:20:58</td>\n",
              "      <td>2020-05-01 00:24:21</td>\n",
              "      <td>0.0</td>\n",
              "      <td>0.6</td>\n",
              "      <td>1.0</td>\n",
              "      <td>N</td>\n",
              "      <td>141</td>\n",
              "      <td>237</td>\n",
              "      <td>1.0</td>\n",
              "      <td>10.35</td>\n",
              "    </tr>\n",
              "    <tr>\n",
              "      <th>217</th>\n",
              "      <td>2.0</td>\n",
              "      <td>2020-05-01 03:13:06</td>\n",
              "      <td>2020-05-01 03:13:12</td>\n",
              "      <td>0.0</td>\n",
              "      <td>0.0</td>\n",
              "      <td>5.0</td>\n",
              "      <td>N</td>\n",
              "      <td>41</td>\n",
              "      <td>41</td>\n",
              "      <td>1.0</td>\n",
              "      <td>28.99</td>\n",
              "    </tr>\n",
              "    <tr>\n",
              "      <th>...</th>\n",
              "      <td>...</td>\n",
              "      <td>...</td>\n",
              "      <td>...</td>\n",
              "      <td>...</td>\n",
              "      <td>...</td>\n",
              "      <td>...</td>\n",
              "      <td>...</td>\n",
              "      <td>...</td>\n",
              "      <td>...</td>\n",
              "      <td>...</td>\n",
              "      <td>...</td>\n",
              "    </tr>\n",
              "    <tr>\n",
              "      <th>289283</th>\n",
              "      <td>1.0</td>\n",
              "      <td>2020-05-31 23:24:44</td>\n",
              "      <td>2020-05-31 23:42:29</td>\n",
              "      <td>0.0</td>\n",
              "      <td>3.5</td>\n",
              "      <td>1.0</td>\n",
              "      <td>N</td>\n",
              "      <td>264</td>\n",
              "      <td>66</td>\n",
              "      <td>3.0</td>\n",
              "      <td>18.30</td>\n",
              "    </tr>\n",
              "    <tr>\n",
              "      <th>289427</th>\n",
              "      <td>1.0</td>\n",
              "      <td>2020-05-31 23:00:43</td>\n",
              "      <td>2020-05-31 23:17:42</td>\n",
              "      <td>0.0</td>\n",
              "      <td>6.3</td>\n",
              "      <td>1.0</td>\n",
              "      <td>N</td>\n",
              "      <td>162</td>\n",
              "      <td>244</td>\n",
              "      <td>2.0</td>\n",
              "      <td>23.80</td>\n",
              "    </tr>\n",
              "    <tr>\n",
              "      <th>289428</th>\n",
              "      <td>1.0</td>\n",
              "      <td>2020-05-31 23:18:01</td>\n",
              "      <td>2020-05-31 23:25:24</td>\n",
              "      <td>0.0</td>\n",
              "      <td>1.4</td>\n",
              "      <td>1.0</td>\n",
              "      <td>N</td>\n",
              "      <td>170</td>\n",
              "      <td>186</td>\n",
              "      <td>1.0</td>\n",
              "      <td>13.56</td>\n",
              "    </tr>\n",
              "    <tr>\n",
              "      <th>289429</th>\n",
              "      <td>1.0</td>\n",
              "      <td>2020-05-31 23:28:44</td>\n",
              "      <td>2020-05-31 23:42:22</td>\n",
              "      <td>0.0</td>\n",
              "      <td>4.4</td>\n",
              "      <td>1.0</td>\n",
              "      <td>N</td>\n",
              "      <td>48</td>\n",
              "      <td>41</td>\n",
              "      <td>1.0</td>\n",
              "      <td>21.95</td>\n",
              "    </tr>\n",
              "    <tr>\n",
              "      <th>289454</th>\n",
              "      <td>1.0</td>\n",
              "      <td>2020-05-31 23:47:54</td>\n",
              "      <td>2020-05-31 23:55:45</td>\n",
              "      <td>0.0</td>\n",
              "      <td>1.1</td>\n",
              "      <td>1.0</td>\n",
              "      <td>N</td>\n",
              "      <td>74</td>\n",
              "      <td>41</td>\n",
              "      <td>2.0</td>\n",
              "      <td>7.80</td>\n",
              "    </tr>\n",
              "  </tbody>\n",
              "</table>\n",
              "<p>9605 rows × 11 columns</p>\n",
              "</div>\n",
              "      <button class=\"colab-df-convert\" onclick=\"convertToInteractive('df-028c3204-26b9-4edb-999e-8f5f17e56ccc')\"\n",
              "              title=\"Convert this dataframe to an interactive table.\"\n",
              "              style=\"display:none;\">\n",
              "        \n",
              "  <svg xmlns=\"http://www.w3.org/2000/svg\" height=\"24px\"viewBox=\"0 0 24 24\"\n",
              "       width=\"24px\">\n",
              "    <path d=\"M0 0h24v24H0V0z\" fill=\"none\"/>\n",
              "    <path d=\"M18.56 5.44l.94 2.06.94-2.06 2.06-.94-2.06-.94-.94-2.06-.94 2.06-2.06.94zm-11 1L8.5 8.5l.94-2.06 2.06-.94-2.06-.94L8.5 2.5l-.94 2.06-2.06.94zm10 10l.94 2.06.94-2.06 2.06-.94-2.06-.94-.94-2.06-.94 2.06-2.06.94z\"/><path d=\"M17.41 7.96l-1.37-1.37c-.4-.4-.92-.59-1.43-.59-.52 0-1.04.2-1.43.59L10.3 9.45l-7.72 7.72c-.78.78-.78 2.05 0 2.83L4 21.41c.39.39.9.59 1.41.59.51 0 1.02-.2 1.41-.59l7.78-7.78 2.81-2.81c.8-.78.8-2.07 0-2.86zM5.41 20L4 18.59l7.72-7.72 1.47 1.35L5.41 20z\"/>\n",
              "  </svg>\n",
              "      </button>\n",
              "      \n",
              "  <style>\n",
              "    .colab-df-container {\n",
              "      display:flex;\n",
              "      flex-wrap:wrap;\n",
              "      gap: 12px;\n",
              "    }\n",
              "\n",
              "    .colab-df-convert {\n",
              "      background-color: #E8F0FE;\n",
              "      border: none;\n",
              "      border-radius: 50%;\n",
              "      cursor: pointer;\n",
              "      display: none;\n",
              "      fill: #1967D2;\n",
              "      height: 32px;\n",
              "      padding: 0 0 0 0;\n",
              "      width: 32px;\n",
              "    }\n",
              "\n",
              "    .colab-df-convert:hover {\n",
              "      background-color: #E2EBFA;\n",
              "      box-shadow: 0px 1px 2px rgba(60, 64, 67, 0.3), 0px 1px 3px 1px rgba(60, 64, 67, 0.15);\n",
              "      fill: #174EA6;\n",
              "    }\n",
              "\n",
              "    [theme=dark] .colab-df-convert {\n",
              "      background-color: #3B4455;\n",
              "      fill: #D2E3FC;\n",
              "    }\n",
              "\n",
              "    [theme=dark] .colab-df-convert:hover {\n",
              "      background-color: #434B5C;\n",
              "      box-shadow: 0px 1px 3px 1px rgba(0, 0, 0, 0.15);\n",
              "      filter: drop-shadow(0px 1px 2px rgba(0, 0, 0, 0.3));\n",
              "      fill: #FFFFFF;\n",
              "    }\n",
              "  </style>\n",
              "\n",
              "      <script>\n",
              "        const buttonEl =\n",
              "          document.querySelector('#df-028c3204-26b9-4edb-999e-8f5f17e56ccc button.colab-df-convert');\n",
              "        buttonEl.style.display =\n",
              "          google.colab.kernel.accessAllowed ? 'block' : 'none';\n",
              "\n",
              "        async function convertToInteractive(key) {\n",
              "          const element = document.querySelector('#df-028c3204-26b9-4edb-999e-8f5f17e56ccc');\n",
              "          const dataTable =\n",
              "            await google.colab.kernel.invokeFunction('convertToInteractive',\n",
              "                                                     [key], {});\n",
              "          if (!dataTable) return;\n",
              "\n",
              "          const docLinkHtml = 'Like what you see? Visit the ' +\n",
              "            '<a target=\"_blank\" href=https://colab.research.google.com/notebooks/data_table.ipynb>data table notebook</a>'\n",
              "            + ' to learn more about interactive tables.';\n",
              "          element.innerHTML = '';\n",
              "          dataTable['output_type'] = 'display_data';\n",
              "          await google.colab.output.renderOutput(dataTable, element);\n",
              "          const docLink = document.createElement('div');\n",
              "          docLink.innerHTML = docLinkHtml;\n",
              "          element.appendChild(docLink);\n",
              "        }\n",
              "      </script>\n",
              "    </div>\n",
              "  </div>\n",
              "  "
            ]
          },
          "metadata": {},
          "execution_count": 17
        }
      ]
    },
    {
      "cell_type": "markdown",
      "source": [
        "On observe également 9605 lignes avec 0 passagers. \n",
        "\n",
        "Elles représentent 3% de notre dataset, on peut donc les supprimer en conservant la variable."
      ],
      "metadata": {
        "id": "l-H9KnloOJ1q"
      }
    },
    {
      "cell_type": "code",
      "source": [
        "data = data[data[\"passenger_count\"] > 0]"
      ],
      "metadata": {
        "id": "7cZ-QAiPOmRr"
      },
      "execution_count": 18,
      "outputs": []
    },
    {
      "cell_type": "markdown",
      "source": [
        "Pour `RatecodeID`, on observe la valeur 99 qui n'est pas renseignée dans le dictionnaire des variables :"
      ],
      "metadata": {
        "id": "xvJY3wQIP77u"
      }
    },
    {
      "cell_type": "code",
      "source": [
        "data[data[\"RatecodeID\"] == 99].head()"
      ],
      "metadata": {
        "colab": {
          "base_uri": "https://localhost:8080/",
          "height": 206
        },
        "id": "OPmAhLgbQBPe",
        "outputId": "1ab2fa63-5efc-4795-eeae-86dcb30a48b9"
      },
      "execution_count": 19,
      "outputs": [
        {
          "output_type": "execute_result",
          "data": {
            "text/plain": [
              "       VendorID tpep_pickup_datetime tpep_dropoff_datetime  passenger_count  \\\n",
              "1103        2.0  2020-05-01 07:59:33   2020-05-01 08:10:08              1.0   \n",
              "5312        2.0  2020-05-01 14:28:38   2020-05-01 14:32:06              1.0   \n",
              "10534       2.0  2020-05-02 07:33:40   2020-05-02 07:39:07              1.0   \n",
              "30597       1.0  2020-05-04 20:08:54   2020-05-04 20:09:47              1.0   \n",
              "69477       2.0  2020-05-09 02:26:49   2020-05-09 02:50:27              1.0   \n",
              "\n",
              "       trip_distance  RatecodeID store_and_fwd_flag  PULocationID  \\\n",
              "1103             0.0        99.0                  N           193   \n",
              "5312             0.0        99.0                  N           132   \n",
              "10534            0.0        99.0                  N           137   \n",
              "30597            0.0        99.0                  N           142   \n",
              "69477            0.0        99.0                  N            65   \n",
              "\n",
              "       DOLocationID  payment_type  total_amount  \n",
              "1103            146           1.0         20.23  \n",
              "5312            132           2.0          3.80  \n",
              "10534           198           2.0         23.14  \n",
              "30597           142           3.0     429562.25  \n",
              "69477           188           1.0         14.05  "
            ],
            "text/html": [
              "\n",
              "  <div id=\"df-5aa4edbb-f385-4900-a975-38eab662c8a6\">\n",
              "    <div class=\"colab-df-container\">\n",
              "      <div>\n",
              "<style scoped>\n",
              "    .dataframe tbody tr th:only-of-type {\n",
              "        vertical-align: middle;\n",
              "    }\n",
              "\n",
              "    .dataframe tbody tr th {\n",
              "        vertical-align: top;\n",
              "    }\n",
              "\n",
              "    .dataframe thead th {\n",
              "        text-align: right;\n",
              "    }\n",
              "</style>\n",
              "<table border=\"1\" class=\"dataframe\">\n",
              "  <thead>\n",
              "    <tr style=\"text-align: right;\">\n",
              "      <th></th>\n",
              "      <th>VendorID</th>\n",
              "      <th>tpep_pickup_datetime</th>\n",
              "      <th>tpep_dropoff_datetime</th>\n",
              "      <th>passenger_count</th>\n",
              "      <th>trip_distance</th>\n",
              "      <th>RatecodeID</th>\n",
              "      <th>store_and_fwd_flag</th>\n",
              "      <th>PULocationID</th>\n",
              "      <th>DOLocationID</th>\n",
              "      <th>payment_type</th>\n",
              "      <th>total_amount</th>\n",
              "    </tr>\n",
              "  </thead>\n",
              "  <tbody>\n",
              "    <tr>\n",
              "      <th>1103</th>\n",
              "      <td>2.0</td>\n",
              "      <td>2020-05-01 07:59:33</td>\n",
              "      <td>2020-05-01 08:10:08</td>\n",
              "      <td>1.0</td>\n",
              "      <td>0.0</td>\n",
              "      <td>99.0</td>\n",
              "      <td>N</td>\n",
              "      <td>193</td>\n",
              "      <td>146</td>\n",
              "      <td>1.0</td>\n",
              "      <td>20.23</td>\n",
              "    </tr>\n",
              "    <tr>\n",
              "      <th>5312</th>\n",
              "      <td>2.0</td>\n",
              "      <td>2020-05-01 14:28:38</td>\n",
              "      <td>2020-05-01 14:32:06</td>\n",
              "      <td>1.0</td>\n",
              "      <td>0.0</td>\n",
              "      <td>99.0</td>\n",
              "      <td>N</td>\n",
              "      <td>132</td>\n",
              "      <td>132</td>\n",
              "      <td>2.0</td>\n",
              "      <td>3.80</td>\n",
              "    </tr>\n",
              "    <tr>\n",
              "      <th>10534</th>\n",
              "      <td>2.0</td>\n",
              "      <td>2020-05-02 07:33:40</td>\n",
              "      <td>2020-05-02 07:39:07</td>\n",
              "      <td>1.0</td>\n",
              "      <td>0.0</td>\n",
              "      <td>99.0</td>\n",
              "      <td>N</td>\n",
              "      <td>137</td>\n",
              "      <td>198</td>\n",
              "      <td>2.0</td>\n",
              "      <td>23.14</td>\n",
              "    </tr>\n",
              "    <tr>\n",
              "      <th>30597</th>\n",
              "      <td>1.0</td>\n",
              "      <td>2020-05-04 20:08:54</td>\n",
              "      <td>2020-05-04 20:09:47</td>\n",
              "      <td>1.0</td>\n",
              "      <td>0.0</td>\n",
              "      <td>99.0</td>\n",
              "      <td>N</td>\n",
              "      <td>142</td>\n",
              "      <td>142</td>\n",
              "      <td>3.0</td>\n",
              "      <td>429562.25</td>\n",
              "    </tr>\n",
              "    <tr>\n",
              "      <th>69477</th>\n",
              "      <td>2.0</td>\n",
              "      <td>2020-05-09 02:26:49</td>\n",
              "      <td>2020-05-09 02:50:27</td>\n",
              "      <td>1.0</td>\n",
              "      <td>0.0</td>\n",
              "      <td>99.0</td>\n",
              "      <td>N</td>\n",
              "      <td>65</td>\n",
              "      <td>188</td>\n",
              "      <td>1.0</td>\n",
              "      <td>14.05</td>\n",
              "    </tr>\n",
              "  </tbody>\n",
              "</table>\n",
              "</div>\n",
              "      <button class=\"colab-df-convert\" onclick=\"convertToInteractive('df-5aa4edbb-f385-4900-a975-38eab662c8a6')\"\n",
              "              title=\"Convert this dataframe to an interactive table.\"\n",
              "              style=\"display:none;\">\n",
              "        \n",
              "  <svg xmlns=\"http://www.w3.org/2000/svg\" height=\"24px\"viewBox=\"0 0 24 24\"\n",
              "       width=\"24px\">\n",
              "    <path d=\"M0 0h24v24H0V0z\" fill=\"none\"/>\n",
              "    <path d=\"M18.56 5.44l.94 2.06.94-2.06 2.06-.94-2.06-.94-.94-2.06-.94 2.06-2.06.94zm-11 1L8.5 8.5l.94-2.06 2.06-.94-2.06-.94L8.5 2.5l-.94 2.06-2.06.94zm10 10l.94 2.06.94-2.06 2.06-.94-2.06-.94-.94-2.06-.94 2.06-2.06.94z\"/><path d=\"M17.41 7.96l-1.37-1.37c-.4-.4-.92-.59-1.43-.59-.52 0-1.04.2-1.43.59L10.3 9.45l-7.72 7.72c-.78.78-.78 2.05 0 2.83L4 21.41c.39.39.9.59 1.41.59.51 0 1.02-.2 1.41-.59l7.78-7.78 2.81-2.81c.8-.78.8-2.07 0-2.86zM5.41 20L4 18.59l7.72-7.72 1.47 1.35L5.41 20z\"/>\n",
              "  </svg>\n",
              "      </button>\n",
              "      \n",
              "  <style>\n",
              "    .colab-df-container {\n",
              "      display:flex;\n",
              "      flex-wrap:wrap;\n",
              "      gap: 12px;\n",
              "    }\n",
              "\n",
              "    .colab-df-convert {\n",
              "      background-color: #E8F0FE;\n",
              "      border: none;\n",
              "      border-radius: 50%;\n",
              "      cursor: pointer;\n",
              "      display: none;\n",
              "      fill: #1967D2;\n",
              "      height: 32px;\n",
              "      padding: 0 0 0 0;\n",
              "      width: 32px;\n",
              "    }\n",
              "\n",
              "    .colab-df-convert:hover {\n",
              "      background-color: #E2EBFA;\n",
              "      box-shadow: 0px 1px 2px rgba(60, 64, 67, 0.3), 0px 1px 3px 1px rgba(60, 64, 67, 0.15);\n",
              "      fill: #174EA6;\n",
              "    }\n",
              "\n",
              "    [theme=dark] .colab-df-convert {\n",
              "      background-color: #3B4455;\n",
              "      fill: #D2E3FC;\n",
              "    }\n",
              "\n",
              "    [theme=dark] .colab-df-convert:hover {\n",
              "      background-color: #434B5C;\n",
              "      box-shadow: 0px 1px 3px 1px rgba(0, 0, 0, 0.15);\n",
              "      filter: drop-shadow(0px 1px 2px rgba(0, 0, 0, 0.3));\n",
              "      fill: #FFFFFF;\n",
              "    }\n",
              "  </style>\n",
              "\n",
              "      <script>\n",
              "        const buttonEl =\n",
              "          document.querySelector('#df-5aa4edbb-f385-4900-a975-38eab662c8a6 button.colab-df-convert');\n",
              "        buttonEl.style.display =\n",
              "          google.colab.kernel.accessAllowed ? 'block' : 'none';\n",
              "\n",
              "        async function convertToInteractive(key) {\n",
              "          const element = document.querySelector('#df-5aa4edbb-f385-4900-a975-38eab662c8a6');\n",
              "          const dataTable =\n",
              "            await google.colab.kernel.invokeFunction('convertToInteractive',\n",
              "                                                     [key], {});\n",
              "          if (!dataTable) return;\n",
              "\n",
              "          const docLinkHtml = 'Like what you see? Visit the ' +\n",
              "            '<a target=\"_blank\" href=https://colab.research.google.com/notebooks/data_table.ipynb>data table notebook</a>'\n",
              "            + ' to learn more about interactive tables.';\n",
              "          element.innerHTML = '';\n",
              "          dataTable['output_type'] = 'display_data';\n",
              "          await google.colab.output.renderOutput(dataTable, element);\n",
              "          const docLink = document.createElement('div');\n",
              "          docLink.innerHTML = docLinkHtml;\n",
              "          element.appendChild(docLink);\n",
              "        }\n",
              "      </script>\n",
              "    </div>\n",
              "  </div>\n",
              "  "
            ]
          },
          "metadata": {},
          "execution_count": 19
        }
      ]
    },
    {
      "cell_type": "code",
      "source": [
        "data[data[\"RatecodeID\"] == 99].size"
      ],
      "metadata": {
        "colab": {
          "base_uri": "https://localhost:8080/"
        },
        "id": "OGJsn0C7QF0H",
        "outputId": "e39e1175-6078-4b4a-d4b8-6d0d8a36d456"
      },
      "execution_count": 20,
      "outputs": [
        {
          "output_type": "execute_result",
          "data": {
            "text/plain": [
              "198"
            ]
          },
          "metadata": {},
          "execution_count": 20
        }
      ]
    },
    {
      "cell_type": "markdown",
      "source": [
        "Il n'y a que 198 individus qui possèdent cette modalité, on les retire donc en conservant la variable."
      ],
      "metadata": {
        "id": "kWHFbtsfQGuX"
      }
    },
    {
      "cell_type": "code",
      "source": [
        "data = data[data[\"RatecodeID\"] != 99]"
      ],
      "metadata": {
        "id": "xaDuA45OQKjn"
      },
      "execution_count": 21,
      "outputs": []
    },
    {
      "cell_type": "markdown",
      "source": [
        "Examinons `trip_distance` :\n"
      ],
      "metadata": {
        "id": "OTZYuUxcQ19R"
      }
    },
    {
      "cell_type": "code",
      "source": [
        "data[\"trip_distance\"].describe()"
      ],
      "metadata": {
        "colab": {
          "base_uri": "https://localhost:8080/"
        },
        "id": "P7UGAWCI3O2v",
        "outputId": "1cb1aa4d-b646-48de-d54a-e22a9c083fce"
      },
      "execution_count": 22,
      "outputs": [
        {
          "output_type": "execute_result",
          "data": {
            "text/plain": [
              "count    279784.000000\n",
              "mean          2.737236\n",
              "std          21.038054\n",
              "min           0.000000\n",
              "25%           0.950000\n",
              "50%           1.700000\n",
              "75%           3.100000\n",
              "max       10973.550000\n",
              "Name: trip_distance, dtype: float64"
            ]
          },
          "metadata": {},
          "execution_count": 22
        }
      ]
    },
    {
      "cell_type": "code",
      "source": [
        "sns.boxplot(y=data[\"trip_distance\"])"
      ],
      "metadata": {
        "colab": {
          "base_uri": "https://localhost:8080/",
          "height": 266
        },
        "id": "WIJnrogQWPNc",
        "outputId": "624aa0b7-2e27-49b1-dc4e-0bf38009f224"
      },
      "execution_count": 23,
      "outputs": [
        {
          "output_type": "execute_result",
          "data": {
            "text/plain": [
              "<matplotlib.axes._subplots.AxesSubplot at 0x7f9efc6dd090>"
            ]
          },
          "metadata": {},
          "execution_count": 23
        },
        {
          "output_type": "display_data",
          "data": {
            "text/plain": [
              "<Figure size 432x288 with 1 Axes>"
            ],
            "image/png": "[encoded data removed]"
          },
          "metadata": {
            "needs_background": "light"
          }
        }
      ]
    },
    {
      "cell_type": "markdown",
      "source": [
        "On observe d'une part des trajets de 0 miles, ce qui est impossible à priori.\n",
        "\n",
        "On observe d'autre part que le trajet maximum enregistré est de 10 973 miles. \n",
        "Or les taxis de TLC ne peuvent aller qu'au Connecticut, New Jersey et dans l'Etat de New York au maximum d'après la [FAQ](https://www1.nyc.gov/site/tlc/passengers/passenger-frequently-asked-questions.page).\n",
        "\n",
        "Si on approxie cette surface à un cercle, sa superficie est d'environ 38 334,697 km². On obtient alors le diamètre du cercle par la formule :\n",
        "\n",
        "\n",
        "$Superficie = \\frac{\\pi \\times Diamètre^{2}}{2} \\Leftrightarrow Diamètre = \\sqrt{\\frac{2 \\times Superficie}{\\pi}}$"
      ],
      "metadata": {
        "id": "SVoxmLuZRKR_"
      }
    },
    {
      "cell_type": "code",
      "source": [
        "area = 22608+14371+141.297+1214.4 #somme des superficies des états de la zone d'action de TLC en km²\n",
        "diameter_in_km = math.sqrt(2*area/math.pi)\n",
        "diameter_in_miles = diameter_in_km * 1.60934 #on convertit en miles\n",
        "print(f\"Diamètre de la zone d'action (distance maximale parcourable) : {diameter_in_miles:.2f} miles\")"
      ],
      "metadata": {
        "colab": {
          "base_uri": "https://localhost:8080/"
        },
        "id": "GXlNP7KRRe1-",
        "outputId": "d314ab87-f88f-4238-b112-e6695dde7f0e"
      },
      "execution_count": 24,
      "outputs": [
        {
          "output_type": "stream",
          "name": "stdout",
          "text": [
            "Diamètre de la zone d'action (distance maximale parcourable) : 251.41 miles\n"
          ]
        }
      ]
    },
    {
      "cell_type": "markdown",
      "source": [
        "On retire donc de notre dataset toute valeur physiquement impossible : celles nulles et supérieures à 251,41 miles :"
      ],
      "metadata": {
        "id": "4ILaEWLxSQ32"
      }
    },
    {
      "cell_type": "code",
      "source": [
        "data = data[data[\"trip_distance\"] > 0]\n",
        "data = data[data[\"trip_distance\"] < diameter_in_miles]"
      ],
      "metadata": {
        "id": "WwkZPqfXSQi-"
      },
      "execution_count": 25,
      "outputs": []
    },
    {
      "cell_type": "code",
      "source": [
        "sns.boxplot(y=data[\"trip_distance\"])"
      ],
      "metadata": {
        "colab": {
          "base_uri": "https://localhost:8080/",
          "height": 266
        },
        "id": "OcE-bOL63pVv",
        "outputId": "e93328c3-1bfd-4490-904f-b27ed5a56e62"
      },
      "execution_count": 26,
      "outputs": [
        {
          "output_type": "execute_result",
          "data": {
            "text/plain": [
              "<matplotlib.axes._subplots.AxesSubplot at 0x7f9efbd9bed0>"
            ]
          },
          "metadata": {},
          "execution_count": 26
        },
        {
          "output_type": "display_data",
          "data": {
            "text/plain": [
              "<Figure size 432x288 with 1 Axes>"
            ],
            "image/png": "[encoded data removed]"
          },
          "metadata": {
            "needs_background": "light"
          }
        }
      ]
    },
    {
      "cell_type": "code",
      "source": [
        "sns.scatterplot(x=range(data[\"trip_distance\"].size), y=data[\"trip_distance\"])"
      ],
      "metadata": {
        "colab": {
          "base_uri": "https://localhost:8080/",
          "height": 286
        },
        "id": "zaRxAJhfZa5g",
        "outputId": "fa725b79-dbb2-4f78-bfa9-f71e44db2527"
      },
      "execution_count": 38,
      "outputs": [
        {
          "output_type": "execute_result",
          "data": {
            "text/plain": [
              "<matplotlib.axes._subplots.AxesSubplot at 0x7f9efb5a1150>"
            ]
          },
          "metadata": {},
          "execution_count": 38
        },
        {
          "output_type": "display_data",
          "data": {
            "text/plain": [
              "<Figure size 432x288 with 1 Axes>"
            ],
            "image/png": "[encoded data removed]"
          },
          "metadata": {
            "needs_background": "light"
          }
        }
      ]
    },
    {
      "cell_type": "markdown",
      "source": [
        "On observe encore beaucoup de points supérieurs à 75% des autres sur la boite à moustache mais on choisit de les garder pour l'instant. \n",
        " \n",
        "On observera l'effet de la standardisation des données lors de la phase de\n",
        "modélisation et l'effet de leur absence ou non sur l'amélioration de nos modèles."
      ],
      "metadata": {
        "id": "mWKjrAMJXlvP"
      }
    },
    {
      "cell_type": "markdown",
      "source": [
        "Observons la distribution de `total_amount` :"
      ],
      "metadata": {
        "id": "6zsN_r0WYB8w"
      }
    },
    {
      "cell_type": "code",
      "source": [
        "data[\"total_amount\"].describe()"
      ],
      "metadata": {
        "colab": {
          "base_uri": "https://localhost:8080/"
        },
        "id": "SPub1YD8YE-o",
        "outputId": "f1fa613c-e904-44df-ad17-a8854f26e9c3"
      },
      "execution_count": 27,
      "outputs": [
        {
          "output_type": "execute_result",
          "data": {
            "text/plain": [
              "count    270937.000000\n",
              "mean         15.794469\n",
              "std          12.353868\n",
              "min        -244.300000\n",
              "25%           9.800000\n",
              "50%          12.800000\n",
              "75%          17.800000\n",
              "max         846.290000\n",
              "Name: total_amount, dtype: float64"
            ]
          },
          "metadata": {},
          "execution_count": 27
        }
      ]
    },
    {
      "cell_type": "markdown",
      "source": [
        "On observe des valeurs négatives, ce qui est impossible. On les retire donc :"
      ],
      "metadata": {
        "id": "nbxMVotMYQ6f"
      }
    },
    {
      "cell_type": "code",
      "source": [
        "data = data[data[\"total_amount\"] > 0]"
      ],
      "metadata": {
        "id": "0A9oKnjWYa1o"
      },
      "execution_count": 28,
      "outputs": []
    },
    {
      "cell_type": "code",
      "source": [
        "sns.boxplot(y=data[\"total_amount\"])"
      ],
      "metadata": {
        "colab": {
          "base_uri": "https://localhost:8080/",
          "height": 266
        },
        "id": "tj9vb_gBYgE_",
        "outputId": "a13010ab-1989-4582-91f6-ed19526b93e5"
      },
      "execution_count": 29,
      "outputs": [
        {
          "output_type": "execute_result",
          "data": {
            "text/plain": [
              "<matplotlib.axes._subplots.AxesSubplot at 0x7f9efb8d2d10>"
            ]
          },
          "metadata": {},
          "execution_count": 29
        },
        {
          "output_type": "display_data",
          "data": {
            "text/plain": [
              "<Figure size 432x288 with 1 Axes>"
            ],
            "image/png": "[encoded data removed]"
          },
          "metadata": {
            "needs_background": "light"
          }
        }
      ]
    },
    {
      "cell_type": "code",
      "source": [
        "sns.scatterplot(x=range(data[\"total_amount\"].size), y=data[\"total_amount\"])"
      ],
      "metadata": {
        "colab": {
          "base_uri": "https://localhost:8080/",
          "height": 286
        },
        "id": "N_vkEZNeZOfI",
        "outputId": "7f12deae-45e1-4461-f2ad-8e515cab109b"
      },
      "execution_count": 37,
      "outputs": [
        {
          "output_type": "execute_result",
          "data": {
            "text/plain": [
              "<matplotlib.axes._subplots.AxesSubplot at 0x7f9ef9842490>"
            ]
          },
          "metadata": {},
          "execution_count": 37
        },
        {
          "output_type": "display_data",
          "data": {
            "text/plain": [
              "<Figure size 432x288 with 1 Axes>"
            ],
            "image/png": "[encoded data removed]"
          },
          "metadata": {
            "needs_background": "light"
          }
        }
      ]
    },
    {
      "cell_type": "markdown",
      "source": [
        "De même on observe encore beaucoup de valeurs atypiques que l'on garde en attente de standardisation durant la phase de modélisation.\n"
      ],
      "metadata": {
        "id": "eRM1YvuBZMt4"
      }
    },
    {
      "cell_type": "code",
      "source": [
        "data.shape"
      ],
      "metadata": {
        "colab": {
          "base_uri": "https://localhost:8080/"
        },
        "id": "WSL6i5nPZ2jY",
        "outputId": "9919a621-ec57-4d6f-82fd-69484ec0e0ea"
      },
      "execution_count": 39,
      "outputs": [
        {
          "output_type": "execute_result",
          "data": {
            "text/plain": [
              "(269595, 11)"
            ]
          },
          "metadata": {},
          "execution_count": 39
        }
      ]
    },
    {
      "cell_type": "markdown",
      "source": [
        "On a désormais un dataset composé de 269 565 individus purgé des valeurs aberrantes, on peut passer à la phase d'analyse exploratoire.\n",
        "\n",
        "On exporte le dataset nettoyé :"
      ],
      "metadata": {
        "id": "tMx12B7kaCvw"
      }
    },
    {
      "cell_type": "code",
      "source": [
        "data.to_csv(\"cleaned_dataset.csv\")"
      ],
      "metadata": {
        "id": "AO08GNWsap1g"
      },
      "execution_count": 40,
      "outputs": []
    }
  ],
  "metadata": {
    "interpreter": {
      "hash": "a707b6ce8c685eb936424fcc3009d4b4b7a52543c4db09380a3fc49186ceb509"
    },
    "kernelspec": {
      "display_name": "Python 3.8.8 ('base')",
      "language": "python",
      "name": "python3"
    },
    "language_info": {
      "codemirror_mode": {
        "name": "ipython",
        "version": 3
      },
      "file_extension": ".py",
      "mimetype": "text/x-python",
      "name": "python",
      "nbconvert_exporter": "python",
      "pygments_lexer": "ipython3",
      "version": "3.8.8"
    },
    "orig_nbformat": 4,
    "colab": {
      "name": "Copie de data_cleaning.ipynb",
      "provenance": [],
      "collapsed_sections": []
    }
  },
  "nbformat": 4,
  "nbformat_minor": 0
}