{
  "cells": [
    {
      "cell_type": "markdown",
      "metadata": {
        "id": "view-in-github",
        "colab_type": "text"
      },
      "source": [
        "<a href=\"https://colab.research.google.com/github/cmnemoi/ProjetDataScienceLPSID/blob/main/src/data_cleaning.ipynb\" target=\"_parent\"><img src=\"https://colab.research.google.com/assets/colab-badge.svg\" alt=\"Open In Colab\"/></a>"
      ]
    },
    {
      "cell_type": "markdown",
      "metadata": {
        "id": "4kkdzUGmnlBy"
      },
      "source": [
        "# Projet Data Science - Nettoyage des données\n",
        "### Enzo Risbetz et Charles-Meldhine MADI MNEMOI\n"
      ]
    },
    {
      "cell_type": "markdown",
      "source": [
        "Cette étape consiste à télécharger les données et ensuite les nettoyer, à supprimer les colonnes indésirables, à convertir certaine variable si nécessaire. "
      ],
      "metadata": {
        "id": "JWailZynaJNX"
      }
    },
    {
      "cell_type": "markdown",
      "source": [
        " ### Méthode d’extraction des données :\n",
        "\n",
        "Nous avons téléchargé le fichier Excel provenant du site : https://www1.nyc.gov/site/tlc/about/tlc-trip-record-data.page Les données sont celle du mois de Mai pour l’année 2020.\n"
      ],
      "metadata": {
        "id": "4g7bCQ5xW9-b"
      }
    },
    {
      "cell_type": "markdown",
      "metadata": {
        "id": "ceOtRPx_nlB0"
      },
      "source": [
        "### Importation des packages et des données"
      ]
    },
    {
      "cell_type": "code",
      "execution_count": 132,
      "metadata": {
        "id": "qTdUNZM7nlB0"
      },
      "outputs": [],
      "source": [
        "import math\n",
        "import numpy as np\n",
        "import pandas as pd\n",
        "import matplotlib.pyplot as plt\n",
        "import seaborn as sns\n",
        "sns.set()"
      ]
    },
    {
      "cell_type": "code",
      "execution_count": 133,
      "metadata": {
        "id": "ZS9uwVhYnlB1",
        "outputId": "696fb319-0889-4f57-dd9d-d037e43f2547",
        "colab": {
          "base_uri": "https://localhost:8080/"
        }
      },
      "outputs": [
        {
          "output_type": "stream",
          "name": "stderr",
          "text": [
            "/usr/local/lib/python3.7/dist-packages/IPython/core/interactiveshell.py:2882: DtypeWarning: Columns (6) have mixed types.Specify dtype option on import or set low_memory=False.\n",
            "  exec(code_obj, self.user_global_ns, self.user_ns)\n"
          ]
        }
      ],
      "source": [
        "data = pd.read_csv(\"https://raw.githubusercontent.com/cmnemoi/ProjetDataScienceLPSID/data_cleaning/data/data.csv\")"
      ]
    },
    {
      "cell_type": "code",
      "execution_count": 134,
      "metadata": {
        "id": "ts5112sqnlB3",
        "outputId": "ce91dc60-3a5e-4f87-90ec-ddf5fb303d00",
        "colab": {
          "base_uri": "https://localhost:8080/"
        }
      },
      "outputs": [
        {
          "output_type": "execute_result",
          "data": {
            "text/plain": [
              "Index(['VendorID', 'tpep_pickup_datetime', 'tpep_dropoff_datetime',\n",
              "       'passenger_count', 'trip_distance', 'RatecodeID', 'store_and_fwd_flag',\n",
              "       'PULocationID', 'DOLocationID', 'payment_type', 'fare_amount', 'extra',\n",
              "       'mta_tax', 'tip_amount', 'tolls_amount', 'improvement_surcharge',\n",
              "       'total_amount', 'congestion_surcharge'],\n",
              "      dtype='object')"
            ]
          },
          "metadata": {},
          "execution_count": 134
        }
      ],
      "source": [
        "data.columns"
      ]
    },
    {
      "cell_type": "code",
      "source": [
        "data.head(5)"
      ],
      "metadata": {
        "id": "3uGNb1sZpekZ",
        "outputId": "3d846951-1a49-46a8-85a9-88fcfd541e19",
        "colab": {
          "base_uri": "https://localhost:8080/",
          "height": 270
        }
      },
      "execution_count": 135,
      "outputs": [
        {
          "output_type": "execute_result",
          "data": {
            "text/plain": [
              "   VendorID tpep_pickup_datetime tpep_dropoff_datetime  passenger_count  \\\n",
              "0       1.0  2020-05-01 00:02:28   2020-05-01 00:18:07              1.0   \n",
              "1       1.0  2020-05-01 00:23:21   2020-05-01 00:26:01              2.0   \n",
              "2       1.0  2020-05-01 00:54:58   2020-05-01 00:57:11              1.0   \n",
              "3       1.0  2020-05-01 00:07:10   2020-05-01 00:12:46              1.0   \n",
              "4       1.0  2020-05-01 00:55:47   2020-05-01 01:01:54              0.0   \n",
              "\n",
              "   trip_distance  RatecodeID store_and_fwd_flag  PULocationID  DOLocationID  \\\n",
              "0            0.0         1.0                  N           234           256   \n",
              "1            0.4         1.0                  N           264           264   \n",
              "2            0.3         1.0                  N           264           264   \n",
              "3            1.7         1.0                  N           107           229   \n",
              "4            0.9         1.0                  N           237           262   \n",
              "\n",
              "   payment_type  fare_amount  extra  mta_tax  tip_amount  tolls_amount  \\\n",
              "0           1.0         12.2    3.0      0.5         2.4           0.0   \n",
              "1           1.0          4.0    0.5      0.5         0.5           0.0   \n",
              "2           2.0          3.5    0.5      0.5         0.0           0.0   \n",
              "3           2.0          7.0    3.0      0.5         0.0           0.0   \n",
              "4           1.0          6.0    3.0      0.5         1.2           0.0   \n",
              "\n",
              "   improvement_surcharge  total_amount  congestion_surcharge  \n",
              "0                    0.3          18.4                   2.5  \n",
              "1                    0.3           5.8                   0.0  \n",
              "2                    0.3           4.8                   0.0  \n",
              "3                    0.3          10.8                   2.5  \n",
              "4                    0.3          11.0                   2.5  "
            ],
            "text/html": [
              "\n",
              "  <div id=\"df-a94766e5-6a89-45b5-b1ee-ce810a819990\">\n",
              "    <div class=\"colab-df-container\">\n",
              "      <div>\n",
              "<style scoped>\n",
              "    .dataframe tbody tr th:only-of-type {\n",
              "        vertical-align: middle;\n",
              "    }\n",
              "\n",
              "    .dataframe tbody tr th {\n",
              "        vertical-align: top;\n",
              "    }\n",
              "\n",
              "    .dataframe thead th {\n",
              "        text-align: right;\n",
              "    }\n",
              "</style>\n",
              "<table border=\"1\" class=\"dataframe\">\n",
              "  <thead>\n",
              "    <tr style=\"text-align: right;\">\n",
              "      <th></th>\n",
              "      <th>VendorID</th>\n",
              "      <th>tpep_pickup_datetime</th>\n",
              "      <th>tpep_dropoff_datetime</th>\n",
              "      <th>passenger_count</th>\n",
              "      <th>trip_distance</th>\n",
              "      <th>RatecodeID</th>\n",
              "      <th>store_and_fwd_flag</th>\n",
              "      <th>PULocationID</th>\n",
              "      <th>DOLocationID</th>\n",
              "      <th>payment_type</th>\n",
              "      <th>fare_amount</th>\n",
              "      <th>extra</th>\n",
              "      <th>mta_tax</th>\n",
              "      <th>tip_amount</th>\n",
              "      <th>tolls_amount</th>\n",
              "      <th>improvement_surcharge</th>\n",
              "      <th>total_amount</th>\n",
              "      <th>congestion_surcharge</th>\n",
              "    </tr>\n",
              "  </thead>\n",
              "  <tbody>\n",
              "    <tr>\n",
              "      <th>0</th>\n",
              "      <td>1.0</td>\n",
              "      <td>2020-05-01 00:02:28</td>\n",
              "      <td>2020-05-01 00:18:07</td>\n",
              "      <td>1.0</td>\n",
              "      <td>0.0</td>\n",
              "      <td>1.0</td>\n",
              "      <td>N</td>\n",
              "      <td>234</td>\n",
              "      <td>256</td>\n",
              "      <td>1.0</td>\n",
              "      <td>12.2</td>\n",
              "      <td>3.0</td>\n",
              "      <td>0.5</td>\n",
              "      <td>2.4</td>\n",
              "      <td>0.0</td>\n",
              "      <td>0.3</td>\n",
              "      <td>18.4</td>\n",
              "      <td>2.5</td>\n",
              "    </tr>\n",
              "    <tr>\n",
              "      <th>1</th>\n",
              "      <td>1.0</td>\n",
              "      <td>2020-05-01 00:23:21</td>\n",
              "      <td>2020-05-01 00:26:01</td>\n",
              "      <td>2.0</td>\n",
              "      <td>0.4</td>\n",
              "      <td>1.0</td>\n",
              "      <td>N</td>\n",
              "      <td>264</td>\n",
              "      <td>264</td>\n",
              "      <td>1.0</td>\n",
              "      <td>4.0</td>\n",
              "      <td>0.5</td>\n",
              "      <td>0.5</td>\n",
              "      <td>0.5</td>\n",
              "      <td>0.0</td>\n",
              "      <td>0.3</td>\n",
              "      <td>5.8</td>\n",
              "      <td>0.0</td>\n",
              "    </tr>\n",
              "    <tr>\n",
              "      <th>2</th>\n",
              "      <td>1.0</td>\n",
              "      <td>2020-05-01 00:54:58</td>\n",
              "      <td>2020-05-01 00:57:11</td>\n",
              "      <td>1.0</td>\n",
              "      <td>0.3</td>\n",
              "      <td>1.0</td>\n",
              "      <td>N</td>\n",
              "      <td>264</td>\n",
              "      <td>264</td>\n",
              "      <td>2.0</td>\n",
              "      <td>3.5</td>\n",
              "      <td>0.5</td>\n",
              "      <td>0.5</td>\n",
              "      <td>0.0</td>\n",
              "      <td>0.0</td>\n",
              "      <td>0.3</td>\n",
              "      <td>4.8</td>\n",
              "      <td>0.0</td>\n",
              "    </tr>\n",
              "    <tr>\n",
              "      <th>3</th>\n",
              "      <td>1.0</td>\n",
              "      <td>2020-05-01 00:07:10</td>\n",
              "      <td>2020-05-01 00:12:46</td>\n",
              "      <td>1.0</td>\n",
              "      <td>1.7</td>\n",
              "      <td>1.0</td>\n",
              "      <td>N</td>\n",
              "      <td>107</td>\n",
              "      <td>229</td>\n",
              "      <td>2.0</td>\n",
              "      <td>7.0</td>\n",
              "      <td>3.0</td>\n",
              "      <td>0.5</td>\n",
              "      <td>0.0</td>\n",
              "      <td>0.0</td>\n",
              "      <td>0.3</td>\n",
              "      <td>10.8</td>\n",
              "      <td>2.5</td>\n",
              "    </tr>\n",
              "    <tr>\n",
              "      <th>4</th>\n",
              "      <td>1.0</td>\n",
              "      <td>2020-05-01 00:55:47</td>\n",
              "      <td>2020-05-01 01:01:54</td>\n",
              "      <td>0.0</td>\n",
              "      <td>0.9</td>\n",
              "      <td>1.0</td>\n",
              "      <td>N</td>\n",
              "      <td>237</td>\n",
              "      <td>262</td>\n",
              "      <td>1.0</td>\n",
              "      <td>6.0</td>\n",
              "      <td>3.0</td>\n",
              "      <td>0.5</td>\n",
              "      <td>1.2</td>\n",
              "      <td>0.0</td>\n",
              "      <td>0.3</td>\n",
              "      <td>11.0</td>\n",
              "      <td>2.5</td>\n",
              "    </tr>\n",
              "  </tbody>\n",
              "</table>\n",
              "</div>\n",
              "      <button class=\"colab-df-convert\" onclick=\"convertToInteractive('df-a94766e5-6a89-45b5-b1ee-ce810a819990')\"\n",
              "              title=\"Convert this dataframe to an interactive table.\"\n",
              "              style=\"display:none;\">\n",
              "        \n",
              "  <svg xmlns=\"http://www.w3.org/2000/svg\" height=\"24px\"viewBox=\"0 0 24 24\"\n",
              "       width=\"24px\">\n",
              "    <path d=\"M0 0h24v24H0V0z\" fill=\"none\"/>\n",
              "    <path d=\"M18.56 5.44l.94 2.06.94-2.06 2.06-.94-2.06-.94-.94-2.06-.94 2.06-2.06.94zm-11 1L8.5 8.5l.94-2.06 2.06-.94-2.06-.94L8.5 2.5l-.94 2.06-2.06.94zm10 10l.94 2.06.94-2.06 2.06-.94-2.06-.94-.94-2.06-.94 2.06-2.06.94z\"/><path d=\"M17.41 7.96l-1.37-1.37c-.4-.4-.92-.59-1.43-.59-.52 0-1.04.2-1.43.59L10.3 9.45l-7.72 7.72c-.78.78-.78 2.05 0 2.83L4 21.41c.39.39.9.59 1.41.59.51 0 1.02-.2 1.41-.59l7.78-7.78 2.81-2.81c.8-.78.8-2.07 0-2.86zM5.41 20L4 18.59l7.72-7.72 1.47 1.35L5.41 20z\"/>\n",
              "  </svg>\n",
              "      </button>\n",
              "      \n",
              "  <style>\n",
              "    .colab-df-container {\n",
              "      display:flex;\n",
              "      flex-wrap:wrap;\n",
              "      gap: 12px;\n",
              "    }\n",
              "\n",
              "    .colab-df-convert {\n",
              "      background-color: #E8F0FE;\n",
              "      border: none;\n",
              "      border-radius: 50%;\n",
              "      cursor: pointer;\n",
              "      display: none;\n",
              "      fill: #1967D2;\n",
              "      height: 32px;\n",
              "      padding: 0 0 0 0;\n",
              "      width: 32px;\n",
              "    }\n",
              "\n",
              "    .colab-df-convert:hover {\n",
              "      background-color: #E2EBFA;\n",
              "      box-shadow: 0px 1px 2px rgba(60, 64, 67, 0.3), 0px 1px 3px 1px rgba(60, 64, 67, 0.15);\n",
              "      fill: #174EA6;\n",
              "    }\n",
              "\n",
              "    [theme=dark] .colab-df-convert {\n",
              "      background-color: #3B4455;\n",
              "      fill: #D2E3FC;\n",
              "    }\n",
              "\n",
              "    [theme=dark] .colab-df-convert:hover {\n",
              "      background-color: #434B5C;\n",
              "      box-shadow: 0px 1px 3px 1px rgba(0, 0, 0, 0.15);\n",
              "      filter: drop-shadow(0px 1px 2px rgba(0, 0, 0, 0.3));\n",
              "      fill: #FFFFFF;\n",
              "    }\n",
              "  </style>\n",
              "\n",
              "      <script>\n",
              "        const buttonEl =\n",
              "          document.querySelector('#df-a94766e5-6a89-45b5-b1ee-ce810a819990 button.colab-df-convert');\n",
              "        buttonEl.style.display =\n",
              "          google.colab.kernel.accessAllowed ? 'block' : 'none';\n",
              "\n",
              "        async function convertToInteractive(key) {\n",
              "          const element = document.querySelector('#df-a94766e5-6a89-45b5-b1ee-ce810a819990');\n",
              "          const dataTable =\n",
              "            await google.colab.kernel.invokeFunction('convertToInteractive',\n",
              "                                                     [key], {});\n",
              "          if (!dataTable) return;\n",
              "\n",
              "          const docLinkHtml = 'Like what you see? Visit the ' +\n",
              "            '<a target=\"_blank\" href=https://colab.research.google.com/notebooks/data_table.ipynb>data table notebook</a>'\n",
              "            + ' to learn more about interactive tables.';\n",
              "          element.innerHTML = '';\n",
              "          dataTable['output_type'] = 'display_data';\n",
              "          await google.colab.output.renderOutput(dataTable, element);\n",
              "          const docLink = document.createElement('div');\n",
              "          docLink.innerHTML = docLinkHtml;\n",
              "          element.appendChild(docLink);\n",
              "        }\n",
              "      </script>\n",
              "    </div>\n",
              "  </div>\n",
              "  "
            ]
          },
          "metadata": {},
          "execution_count": 135
        }
      ]
    },
    {
      "cell_type": "markdown",
      "source": [
        "On remarque notamment à l'aide du dictionnaire des variables que la variable à prédire `Total_amount` est la somme des variables suivantes : `fare_amount`, `extra`, `mta_tax`, `tip_amount`, `tolls_amount`, `improvement_surcharge` et `congestion_surcharge`.\n",
        "\n",
        "De plus, `RatecodeID` est une variable codant le type de tarif à appliquer.\n",
        "\n",
        "Introduire ces variables dans notre modèle de prédiction n'est pas très pertinent, on les retire donc."
      ],
      "metadata": {
        "id": "pBlumc3ppaDY"
      }
    },
    {
      "cell_type": "code",
      "source": [
        "data = data.drop([\"fare_amount\", \"extra\", \"mta_tax\", \"tip_amount\", \"tolls_amount\", \"improvement_surcharge\", \"congestion_surcharge\", \"RatecodeID\"], axis=1)"
      ],
      "metadata": {
        "id": "XTPhDAcuq3Zm"
      },
      "execution_count": 136,
      "outputs": []
    },
    {
      "cell_type": "markdown",
      "source": [
        "On remarque également les variables `PULocationID` et `DOLocationID`, qui sont les zones de début et de fin de course. \n",
        "Utilisons un dataset qui répertorie les libellés de ces zones pour les fusionner avec notre dataset :"
      ],
      "metadata": {
        "id": "jqJ9wBMBkxSF"
      }
    },
    {
      "cell_type": "code",
      "source": [
        "TLC_lookup_zones = pd.read_csv(\"https://s3.amazonaws.com/nyc-tlc/misc/taxi+_zone_lookup.csv\")\n",
        "TLC_lookup_zones[\"PULocationID\"] = TLC_lookup_zones[\"LocationID\"]\n",
        "TLC_lookup_zones[\"DOLocationID\"] = TLC_lookup_zones[\"LocationID\"]\n",
        "TLC_lookup_zones.head()"
      ],
      "metadata": {
        "colab": {
          "base_uri": "https://localhost:8080/",
          "height": 206
        },
        "id": "J3lOM5Csk5pk",
        "outputId": "6497e7b9-df8e-4943-cbdb-c4acbdbab2cb"
      },
      "execution_count": 137,
      "outputs": [
        {
          "output_type": "execute_result",
          "data": {
            "text/plain": [
              "   LocationID        Borough                     Zone service_zone  \\\n",
              "0           1            EWR           Newark Airport          EWR   \n",
              "1           2         Queens              Jamaica Bay    Boro Zone   \n",
              "2           3          Bronx  Allerton/Pelham Gardens    Boro Zone   \n",
              "3           4      Manhattan            Alphabet City  Yellow Zone   \n",
              "4           5  Staten Island            Arden Heights    Boro Zone   \n",
              "\n",
              "   PULocationID  DOLocationID  \n",
              "0             1             1  \n",
              "1             2             2  \n",
              "2             3             3  \n",
              "3             4             4  \n",
              "4             5             5  "
            ],
            "text/html": [
              "\n",
              "  <div id=\"df-c333afc4-c281-49c3-ad4c-a10a02f7b741\">\n",
              "    <div class=\"colab-df-container\">\n",
              "      <div>\n",
              "<style scoped>\n",
              "    .dataframe tbody tr th:only-of-type {\n",
              "        vertical-align: middle;\n",
              "    }\n",
              "\n",
              "    .dataframe tbody tr th {\n",
              "        vertical-align: top;\n",
              "    }\n",
              "\n",
              "    .dataframe thead th {\n",
              "        text-align: right;\n",
              "    }\n",
              "</style>\n",
              "<table border=\"1\" class=\"dataframe\">\n",
              "  <thead>\n",
              "    <tr style=\"text-align: right;\">\n",
              "      <th></th>\n",
              "      <th>LocationID</th>\n",
              "      <th>Borough</th>\n",
              "      <th>Zone</th>\n",
              "      <th>service_zone</th>\n",
              "      <th>PULocationID</th>\n",
              "      <th>DOLocationID</th>\n",
              "    </tr>\n",
              "  </thead>\n",
              "  <tbody>\n",
              "    <tr>\n",
              "      <th>0</th>\n",
              "      <td>1</td>\n",
              "      <td>EWR</td>\n",
              "      <td>Newark Airport</td>\n",
              "      <td>EWR</td>\n",
              "      <td>1</td>\n",
              "      <td>1</td>\n",
              "    </tr>\n",
              "    <tr>\n",
              "      <th>1</th>\n",
              "      <td>2</td>\n",
              "      <td>Queens</td>\n",
              "      <td>Jamaica Bay</td>\n",
              "      <td>Boro Zone</td>\n",
              "      <td>2</td>\n",
              "      <td>2</td>\n",
              "    </tr>\n",
              "    <tr>\n",
              "      <th>2</th>\n",
              "      <td>3</td>\n",
              "      <td>Bronx</td>\n",
              "      <td>Allerton/Pelham Gardens</td>\n",
              "      <td>Boro Zone</td>\n",
              "      <td>3</td>\n",
              "      <td>3</td>\n",
              "    </tr>\n",
              "    <tr>\n",
              "      <th>3</th>\n",
              "      <td>4</td>\n",
              "      <td>Manhattan</td>\n",
              "      <td>Alphabet City</td>\n",
              "      <td>Yellow Zone</td>\n",
              "      <td>4</td>\n",
              "      <td>4</td>\n",
              "    </tr>\n",
              "    <tr>\n",
              "      <th>4</th>\n",
              "      <td>5</td>\n",
              "      <td>Staten Island</td>\n",
              "      <td>Arden Heights</td>\n",
              "      <td>Boro Zone</td>\n",
              "      <td>5</td>\n",
              "      <td>5</td>\n",
              "    </tr>\n",
              "  </tbody>\n",
              "</table>\n",
              "</div>\n",
              "      <button class=\"colab-df-convert\" onclick=\"convertToInteractive('df-c333afc4-c281-49c3-ad4c-a10a02f7b741')\"\n",
              "              title=\"Convert this dataframe to an interactive table.\"\n",
              "              style=\"display:none;\">\n",
              "        \n",
              "  <svg xmlns=\"http://www.w3.org/2000/svg\" height=\"24px\"viewBox=\"0 0 24 24\"\n",
              "       width=\"24px\">\n",
              "    <path d=\"M0 0h24v24H0V0z\" fill=\"none\"/>\n",
              "    <path d=\"M18.56 5.44l.94 2.06.94-2.06 2.06-.94-2.06-.94-.94-2.06-.94 2.06-2.06.94zm-11 1L8.5 8.5l.94-2.06 2.06-.94-2.06-.94L8.5 2.5l-.94 2.06-2.06.94zm10 10l.94 2.06.94-2.06 2.06-.94-2.06-.94-.94-2.06-.94 2.06-2.06.94z\"/><path d=\"M17.41 7.96l-1.37-1.37c-.4-.4-.92-.59-1.43-.59-.52 0-1.04.2-1.43.59L10.3 9.45l-7.72 7.72c-.78.78-.78 2.05 0 2.83L4 21.41c.39.39.9.59 1.41.59.51 0 1.02-.2 1.41-.59l7.78-7.78 2.81-2.81c.8-.78.8-2.07 0-2.86zM5.41 20L4 18.59l7.72-7.72 1.47 1.35L5.41 20z\"/>\n",
              "  </svg>\n",
              "      </button>\n",
              "      \n",
              "  <style>\n",
              "    .colab-df-container {\n",
              "      display:flex;\n",
              "      flex-wrap:wrap;\n",
              "      gap: 12px;\n",
              "    }\n",
              "\n",
              "    .colab-df-convert {\n",
              "      background-color: #E8F0FE;\n",
              "      border: none;\n",
              "      border-radius: 50%;\n",
              "      cursor: pointer;\n",
              "      display: none;\n",
              "      fill: #1967D2;\n",
              "      height: 32px;\n",
              "      padding: 0 0 0 0;\n",
              "      width: 32px;\n",
              "    }\n",
              "\n",
              "    .colab-df-convert:hover {\n",
              "      background-color: #E2EBFA;\n",
              "      box-shadow: 0px 1px 2px rgba(60, 64, 67, 0.3), 0px 1px 3px 1px rgba(60, 64, 67, 0.15);\n",
              "      fill: #174EA6;\n",
              "    }\n",
              "\n",
              "    [theme=dark] .colab-df-convert {\n",
              "      background-color: #3B4455;\n",
              "      fill: #D2E3FC;\n",
              "    }\n",
              "\n",
              "    [theme=dark] .colab-df-convert:hover {\n",
              "      background-color: #434B5C;\n",
              "      box-shadow: 0px 1px 3px 1px rgba(0, 0, 0, 0.15);\n",
              "      filter: drop-shadow(0px 1px 2px rgba(0, 0, 0, 0.3));\n",
              "      fill: #FFFFFF;\n",
              "    }\n",
              "  </style>\n",
              "\n",
              "      <script>\n",
              "        const buttonEl =\n",
              "          document.querySelector('#df-c333afc4-c281-49c3-ad4c-a10a02f7b741 button.colab-df-convert');\n",
              "        buttonEl.style.display =\n",
              "          google.colab.kernel.accessAllowed ? 'block' : 'none';\n",
              "\n",
              "        async function convertToInteractive(key) {\n",
              "          const element = document.querySelector('#df-c333afc4-c281-49c3-ad4c-a10a02f7b741');\n",
              "          const dataTable =\n",
              "            await google.colab.kernel.invokeFunction('convertToInteractive',\n",
              "                                                     [key], {});\n",
              "          if (!dataTable) return;\n",
              "\n",
              "          const docLinkHtml = 'Like what you see? Visit the ' +\n",
              "            '<a target=\"_blank\" href=https://colab.research.google.com/notebooks/data_table.ipynb>data table notebook</a>'\n",
              "            + ' to learn more about interactive tables.';\n",
              "          element.innerHTML = '';\n",
              "          dataTable['output_type'] = 'display_data';\n",
              "          await google.colab.output.renderOutput(dataTable, element);\n",
              "          const docLink = document.createElement('div');\n",
              "          docLink.innerHTML = docLinkHtml;\n",
              "          element.appendChild(docLink);\n",
              "        }\n",
              "      </script>\n",
              "    </div>\n",
              "  </div>\n",
              "  "
            ]
          },
          "metadata": {},
          "execution_count": 137
        }
      ]
    },
    {
      "cell_type": "code",
      "source": [
        "#on fait des inner join\n",
        "data = pd.merge(data, TLC_lookup_zones[[\"PULocationID\", \"Zone\"]], on=\"PULocationID\", how=\"inner\")\n",
        "data[\"PULocationLabel\"] = data[\"Zone\"]\n",
        "data.head()\n",
        "data = data.drop(\"Zone\", axis=1)\n",
        "data = pd.merge(data, TLC_lookup_zones[[\"DOLocationID\", \"Zone\"]], on=\"DOLocationID\", how=\"inner\")\n",
        "data[\"DOLocationLabel\"] = data[\"Zone\"]\n",
        "data = data.drop(\"Zone\", axis=1)\n",
        "data.head()"
      ],
      "metadata": {
        "colab": {
          "base_uri": "https://localhost:8080/",
          "height": 357
        },
        "id": "WHKF9J3znpuO",
        "outputId": "6461e4f0-7861-49a8-9fb5-4d2f47782099"
      },
      "execution_count": 138,
      "outputs": [
        {
          "output_type": "execute_result",
          "data": {
            "text/plain": [
              "   VendorID tpep_pickup_datetime tpep_dropoff_datetime  passenger_count  \\\n",
              "0       1.0  2020-05-01 00:02:28   2020-05-01 00:18:07              1.0   \n",
              "1       1.0  2020-05-01 16:25:12   2020-05-01 16:45:33              1.0   \n",
              "2       2.0  2020-05-06 12:58:26   2020-05-06 13:16:11              5.0   \n",
              "3       1.0  2020-05-06 17:22:10   2020-05-06 17:38:17              1.0   \n",
              "4       2.0  2020-05-07 13:03:37   2020-05-07 13:21:53              2.0   \n",
              "\n",
              "   trip_distance store_and_fwd_flag  PULocationID  DOLocationID  payment_type  \\\n",
              "0           0.00                  N           234           256           1.0   \n",
              "1           4.30                  N           234           256           1.0   \n",
              "2           3.89                  N           234           256           1.0   \n",
              "3           3.80                  N           234           256           1.0   \n",
              "4           4.97                  N           234           256           1.0   \n",
              "\n",
              "   total_amount PULocationLabel            DOLocationLabel  \n",
              "0         18.40        Union Sq  Williamsburg (South Side)  \n",
              "1         23.98        Union Sq  Williamsburg (South Side)  \n",
              "2         22.56        Union Sq  Williamsburg (South Side)  \n",
              "3         21.80        Union Sq  Williamsburg (South Side)  \n",
              "4         24.36        Union Sq  Williamsburg (South Side)  "
            ],
            "text/html": [
              "\n",
              "  <div id=\"df-ca2d2732-de8f-4f4c-91ee-bf687fcc25bc\">\n",
              "    <div class=\"colab-df-container\">\n",
              "      <div>\n",
              "<style scoped>\n",
              "    .dataframe tbody tr th:only-of-type {\n",
              "        vertical-align: middle;\n",
              "    }\n",
              "\n",
              "    .dataframe tbody tr th {\n",
              "        vertical-align: top;\n",
              "    }\n",
              "\n",
              "    .dataframe thead th {\n",
              "        text-align: right;\n",
              "    }\n",
              "</style>\n",
              "<table border=\"1\" class=\"dataframe\">\n",
              "  <thead>\n",
              "    <tr style=\"text-align: right;\">\n",
              "      <th></th>\n",
              "      <th>VendorID</th>\n",
              "      <th>tpep_pickup_datetime</th>\n",
              "      <th>tpep_dropoff_datetime</th>\n",
              "      <th>passenger_count</th>\n",
              "      <th>trip_distance</th>\n",
              "      <th>store_and_fwd_flag</th>\n",
              "      <th>PULocationID</th>\n",
              "      <th>DOLocationID</th>\n",
              "      <th>payment_type</th>\n",
              "      <th>total_amount</th>\n",
              "      <th>PULocationLabel</th>\n",
              "      <th>DOLocationLabel</th>\n",
              "    </tr>\n",
              "  </thead>\n",
              "  <tbody>\n",
              "    <tr>\n",
              "      <th>0</th>\n",
              "      <td>1.0</td>\n",
              "      <td>2020-05-01 00:02:28</td>\n",
              "      <td>2020-05-01 00:18:07</td>\n",
              "      <td>1.0</td>\n",
              "      <td>0.00</td>\n",
              "      <td>N</td>\n",
              "      <td>234</td>\n",
              "      <td>256</td>\n",
              "      <td>1.0</td>\n",
              "      <td>18.40</td>\n",
              "      <td>Union Sq</td>\n",
              "      <td>Williamsburg (South Side)</td>\n",
              "    </tr>\n",
              "    <tr>\n",
              "      <th>1</th>\n",
              "      <td>1.0</td>\n",
              "      <td>2020-05-01 16:25:12</td>\n",
              "      <td>2020-05-01 16:45:33</td>\n",
              "      <td>1.0</td>\n",
              "      <td>4.30</td>\n",
              "      <td>N</td>\n",
              "      <td>234</td>\n",
              "      <td>256</td>\n",
              "      <td>1.0</td>\n",
              "      <td>23.98</td>\n",
              "      <td>Union Sq</td>\n",
              "      <td>Williamsburg (South Side)</td>\n",
              "    </tr>\n",
              "    <tr>\n",
              "      <th>2</th>\n",
              "      <td>2.0</td>\n",
              "      <td>2020-05-06 12:58:26</td>\n",
              "      <td>2020-05-06 13:16:11</td>\n",
              "      <td>5.0</td>\n",
              "      <td>3.89</td>\n",
              "      <td>N</td>\n",
              "      <td>234</td>\n",
              "      <td>256</td>\n",
              "      <td>1.0</td>\n",
              "      <td>22.56</td>\n",
              "      <td>Union Sq</td>\n",
              "      <td>Williamsburg (South Side)</td>\n",
              "    </tr>\n",
              "    <tr>\n",
              "      <th>3</th>\n",
              "      <td>1.0</td>\n",
              "      <td>2020-05-06 17:22:10</td>\n",
              "      <td>2020-05-06 17:38:17</td>\n",
              "      <td>1.0</td>\n",
              "      <td>3.80</td>\n",
              "      <td>N</td>\n",
              "      <td>234</td>\n",
              "      <td>256</td>\n",
              "      <td>1.0</td>\n",
              "      <td>21.80</td>\n",
              "      <td>Union Sq</td>\n",
              "      <td>Williamsburg (South Side)</td>\n",
              "    </tr>\n",
              "    <tr>\n",
              "      <th>4</th>\n",
              "      <td>2.0</td>\n",
              "      <td>2020-05-07 13:03:37</td>\n",
              "      <td>2020-05-07 13:21:53</td>\n",
              "      <td>2.0</td>\n",
              "      <td>4.97</td>\n",
              "      <td>N</td>\n",
              "      <td>234</td>\n",
              "      <td>256</td>\n",
              "      <td>1.0</td>\n",
              "      <td>24.36</td>\n",
              "      <td>Union Sq</td>\n",
              "      <td>Williamsburg (South Side)</td>\n",
              "    </tr>\n",
              "  </tbody>\n",
              "</table>\n",
              "</div>\n",
              "      <button class=\"colab-df-convert\" onclick=\"convertToInteractive('df-ca2d2732-de8f-4f4c-91ee-bf687fcc25bc')\"\n",
              "              title=\"Convert this dataframe to an interactive table.\"\n",
              "              style=\"display:none;\">\n",
              "        \n",
              "  <svg xmlns=\"http://www.w3.org/2000/svg\" height=\"24px\"viewBox=\"0 0 24 24\"\n",
              "       width=\"24px\">\n",
              "    <path d=\"M0 0h24v24H0V0z\" fill=\"none\"/>\n",
              "    <path d=\"M18.56 5.44l.94 2.06.94-2.06 2.06-.94-2.06-.94-.94-2.06-.94 2.06-2.06.94zm-11 1L8.5 8.5l.94-2.06 2.06-.94-2.06-.94L8.5 2.5l-.94 2.06-2.06.94zm10 10l.94 2.06.94-2.06 2.06-.94-2.06-.94-.94-2.06-.94 2.06-2.06.94z\"/><path d=\"M17.41 7.96l-1.37-1.37c-.4-.4-.92-.59-1.43-.59-.52 0-1.04.2-1.43.59L10.3 9.45l-7.72 7.72c-.78.78-.78 2.05 0 2.83L4 21.41c.39.39.9.59 1.41.59.51 0 1.02-.2 1.41-.59l7.78-7.78 2.81-2.81c.8-.78.8-2.07 0-2.86zM5.41 20L4 18.59l7.72-7.72 1.47 1.35L5.41 20z\"/>\n",
              "  </svg>\n",
              "      </button>\n",
              "      \n",
              "  <style>\n",
              "    .colab-df-container {\n",
              "      display:flex;\n",
              "      flex-wrap:wrap;\n",
              "      gap: 12px;\n",
              "    }\n",
              "\n",
              "    .colab-df-convert {\n",
              "      background-color: #E8F0FE;\n",
              "      border: none;\n",
              "      border-radius: 50%;\n",
              "      cursor: pointer;\n",
              "      display: none;\n",
              "      fill: #1967D2;\n",
              "      height: 32px;\n",
              "      padding: 0 0 0 0;\n",
              "      width: 32px;\n",
              "    }\n",
              "\n",
              "    .colab-df-convert:hover {\n",
              "      background-color: #E2EBFA;\n",
              "      box-shadow: 0px 1px 2px rgba(60, 64, 67, 0.3), 0px 1px 3px 1px rgba(60, 64, 67, 0.15);\n",
              "      fill: #174EA6;\n",
              "    }\n",
              "\n",
              "    [theme=dark] .colab-df-convert {\n",
              "      background-color: #3B4455;\n",
              "      fill: #D2E3FC;\n",
              "    }\n",
              "\n",
              "    [theme=dark] .colab-df-convert:hover {\n",
              "      background-color: #434B5C;\n",
              "      box-shadow: 0px 1px 3px 1px rgba(0, 0, 0, 0.15);\n",
              "      filter: drop-shadow(0px 1px 2px rgba(0, 0, 0, 0.3));\n",
              "      fill: #FFFFFF;\n",
              "    }\n",
              "  </style>\n",
              "\n",
              "      <script>\n",
              "        const buttonEl =\n",
              "          document.querySelector('#df-ca2d2732-de8f-4f4c-91ee-bf687fcc25bc button.colab-df-convert');\n",
              "        buttonEl.style.display =\n",
              "          google.colab.kernel.accessAllowed ? 'block' : 'none';\n",
              "\n",
              "        async function convertToInteractive(key) {\n",
              "          const element = document.querySelector('#df-ca2d2732-de8f-4f4c-91ee-bf687fcc25bc');\n",
              "          const dataTable =\n",
              "            await google.colab.kernel.invokeFunction('convertToInteractive',\n",
              "                                                     [key], {});\n",
              "          if (!dataTable) return;\n",
              "\n",
              "          const docLinkHtml = 'Like what you see? Visit the ' +\n",
              "            '<a target=\"_blank\" href=https://colab.research.google.com/notebooks/data_table.ipynb>data table notebook</a>'\n",
              "            + ' to learn more about interactive tables.';\n",
              "          element.innerHTML = '';\n",
              "          dataTable['output_type'] = 'display_data';\n",
              "          await google.colab.output.renderOutput(dataTable, element);\n",
              "          const docLink = document.createElement('div');\n",
              "          docLink.innerHTML = docLinkHtml;\n",
              "          element.appendChild(docLink);\n",
              "        }\n",
              "      </script>\n",
              "    </div>\n",
              "  </div>\n",
              "  "
            ]
          },
          "metadata": {},
          "execution_count": 138
        }
      ]
    },
    {
      "cell_type": "code",
      "source": [
        "data.shape"
      ],
      "metadata": {
        "id": "BgDAgMKUrKgH",
        "outputId": "9ba222d5-6854-4059-cd27-8e1f538e68a4",
        "colab": {
          "base_uri": "https://localhost:8080/"
        }
      },
      "execution_count": 139,
      "outputs": [
        {
          "output_type": "execute_result",
          "data": {
            "text/plain": [
              "(348371, 12)"
            ]
          },
          "metadata": {},
          "execution_count": 139
        }
      ]
    },
    {
      "cell_type": "markdown",
      "metadata": {
        "id": "OI0t21FAnlB4"
      },
      "source": [
        "### Retrait des valeurs manquantes"
      ]
    },
    {
      "cell_type": "code",
      "source": [
        "data.isna().sum()"
      ],
      "metadata": {
        "id": "JX_NDoMcrGcP",
        "outputId": "0881a95b-fe54-46cb-c5ea-eb21d4e59014",
        "colab": {
          "base_uri": "https://localhost:8080/"
        }
      },
      "execution_count": 140,
      "outputs": [
        {
          "output_type": "execute_result",
          "data": {
            "text/plain": [
              "VendorID                 58891\n",
              "tpep_pickup_datetime         0\n",
              "tpep_dropoff_datetime        0\n",
              "passenger_count          58891\n",
              "trip_distance                0\n",
              "store_and_fwd_flag       58891\n",
              "PULocationID                 0\n",
              "DOLocationID                 0\n",
              "payment_type             58891\n",
              "total_amount                 0\n",
              "PULocationLabel            619\n",
              "DOLocationLabel           2269\n",
              "dtype: int64"
            ]
          },
          "metadata": {},
          "execution_count": 140
        }
      ]
    },
    {
      "cell_type": "markdown",
      "source": [
        "On observe des valeurs manquantes dans `VendorID`, `passenger_count`, `store_and_fwd_flag` et `payment_type`. Ces individus ne représentant que 15% du dataset, on décide de les supprimer car il nous restera toujours assez de données pour travailler par la suite."
      ],
      "metadata": {
        "id": "baL6VIqMrJOP"
      }
    },
    {
      "cell_type": "code",
      "execution_count": 141,
      "metadata": {
        "id": "-gUChItYnlB4"
      },
      "outputs": [],
      "source": [
        "data = data.dropna(subset=[\"VendorID\", \"passenger_count\", \"store_and_fwd_flag\", \"payment_type\"])"
      ]
    },
    {
      "cell_type": "code",
      "execution_count": 142,
      "metadata": {
        "id": "9Hcs3_f-nlB4",
        "outputId": "5c0cd6e9-1d07-4e03-ad18-43d81874b6bd",
        "colab": {
          "base_uri": "https://localhost:8080/"
        }
      },
      "outputs": [
        {
          "output_type": "execute_result",
          "data": {
            "text/plain": [
              "(289480, 12)"
            ]
          },
          "metadata": {},
          "execution_count": 142
        }
      ],
      "source": [
        "data.shape"
      ]
    },
    {
      "cell_type": "markdown",
      "metadata": {
        "id": "dG__tl69nlB6"
      },
      "source": [
        "### Identification des valeurs aberrantes"
      ]
    },
    {
      "cell_type": "code",
      "execution_count": 143,
      "metadata": {
        "id": "WbZbg8-tnlB6",
        "outputId": "6ddcb81e-60af-4f70-a94a-80b899a79bfd",
        "colab": {
          "base_uri": "https://localhost:8080/"
        }
      },
      "outputs": [
        {
          "output_type": "stream",
          "name": "stdout",
          "text": [
            "Valeurs uniques dans VendorID : [1. 2.]\n",
            "Valeurs uniques dans tpep_pickup_datetime : ['2008-12-31 23:05:47' '2009-01-01 00:57:36' '2009-01-01 02:19:49' ...\n",
            " '2020-11-01 15:15:05' '2020-11-01 15:26:33' '2020-11-01 15:41:04']\n",
            "Valeurs uniques dans tpep_dropoff_datetime : ['2008-12-31 23:33:33' '2009-01-01 01:05:48' '2009-01-01 02:23:35' ...\n",
            " '2020-11-01 15:23:18' '2020-11-01 15:39:04' '2020-11-01 15:57:02']\n",
            "Valeurs uniques dans passenger_count : [0. 1. 2. 3. 4. 5. 6. 8. 9.]\n",
            "Valeurs uniques dans trip_distance : [0.000000e+00 1.000000e-02 2.000000e-02 ... 2.380000e+02 3.051000e+02\n",
            " 1.097355e+04]\n",
            "Valeurs uniques dans store_and_fwd_flag : ['N' 'Y']\n",
            "Valeurs uniques dans PULocationID : [  1   2   3   4   5   6   7   8   9  10  11  12  13  14  15  16  17  18\n",
            "  19  20  21  22  23  24  25  26  28  29  31  32  33  34  35  36  37  38\n",
            "  39  40  41  42  43  44  45  46  47  48  49  50  51  52  53  54  55  56\n",
            "  57  58  59  60  61  62  63  64  65  66  67  68  69  70  71  72  73  74\n",
            "  75  76  77  78  79  80  81  82  83  85  86  87  88  89  90  91  92  93\n",
            "  94  95  96  97  98 100 101 102 106 107 108 112 113 114 115 116 117 118\n",
            " 119 120 121 122 123 124 125 126 127 128 129 130 131 132 133 134 135 136\n",
            " 137 138 139 140 141 142 143 144 145 146 147 148 149 150 151 152 153 154\n",
            " 155 156 157 158 159 160 161 162 163 164 165 166 167 168 169 170 171 172\n",
            " 173 174 175 177 178 179 180 181 182 183 184 185 186 187 188 189 190 191\n",
            " 192 193 194 195 196 197 198 200 201 202 203 205 206 207 208 209 210 211\n",
            " 212 213 214 215 216 217 218 219 220 221 222 223 224 225 226 227 228 229\n",
            " 230 231 232 233 234 235 236 237 238 239 240 241 242 243 244 245 246 247\n",
            " 248 249 250 251 252 253 254 255 256 257 258 259 260 261 262 263 264 265]\n",
            "Valeurs uniques dans DOLocationID : [  1   3   4   5   6   7   8   9  10  11  12  13  14  15  16  17  18  19\n",
            "  20  21  22  23  24  25  26  27  28  29  30  31  32  33  34  35  36  37\n",
            "  38  39  40  41  42  43  44  45  46  47  48  49  50  51  52  53  54  55\n",
            "  56  57  58  59  60  61  62  63  64  65  66  67  68  69  70  71  72  73\n",
            "  74  75  76  77  78  79  80  81  82  83  84  85  86  87  88  89  90  91\n",
            "  92  93  94  95  96  97  98  99 100 101 102 106 107 108 109 112 113 114\n",
            " 115 116 117 118 119 120 121 122 123 124 125 126 127 128 129 130 131 132\n",
            " 133 134 135 136 137 138 139 140 141 142 143 144 145 146 147 148 149 150\n",
            " 151 152 153 154 155 156 157 158 159 160 161 162 163 164 165 166 167 168\n",
            " 169 170 171 172 173 174 175 176 177 178 179 180 181 182 183 184 185 186\n",
            " 187 188 189 190 191 192 193 194 195 196 197 198 200 201 202 203 204 205\n",
            " 206 207 208 209 210 211 212 213 214 215 216 217 218 219 220 221 222 223\n",
            " 224 225 226 227 228 229 230 231 232 233 234 235 236 237 238 239 240 241\n",
            " 242 243 244 245 246 247 248 249 250 251 252 253 254 255 256 257 258 259\n",
            " 260 261 262 263 264 265]\n",
            "Valeurs uniques dans payment_type : [1. 2. 3. 4.]\n",
            "Valeurs uniques dans total_amount : [-2.4430000e+02 -2.3780000e+02 -1.3230000e+02 ...  9.5030000e+02\n",
            "  1.0428200e+03  4.2956225e+05]\n"
          ]
        }
      ],
      "source": [
        "for column in data.columns:\n",
        "  try:\n",
        "      print(f\"Valeurs uniques dans {column} : {np.sort(data[column].unique())}\")\n",
        "  except Exception as e:\n",
        "      continue"
      ]
    },
    {
      "cell_type": "markdown",
      "source": [
        "On observe quelques valeurs intriguantes, voyons en détail :\n"
      ],
      "metadata": {
        "id": "pWIb4DM_NVuz"
      }
    },
    {
      "cell_type": "markdown",
      "source": [
        "Pour `tpep_pickup_datetime` et `tpep_dropoff_datetime`, on observe que certaines valeurs ne correspondent pas au mois de Mai 2020 comme convenu dans le périmètre de l'étude. On les retire, d'autant plus qu'elles ne reprédentent que 82 individus du dataset au maximum : nous aurons toujours assez de données pour continuer."
      ],
      "metadata": {
        "id": "H4kpJOuFNenD"
      }
    },
    {
      "cell_type": "code",
      "source": [
        "data[~data[\"tpep_pickup_datetime\"].str.contains(\"2020-05\")].head()"
      ],
      "metadata": {
        "colab": {
          "base_uri": "https://localhost:8080/",
          "height": 288
        },
        "id": "DKursPhZxS9R",
        "outputId": "b4075a91-4cba-4b8d-d681-6d0c5c2c8ef3"
      },
      "execution_count": 144,
      "outputs": [
        {
          "output_type": "execute_result",
          "data": {
            "text/plain": [
              "       VendorID tpep_pickup_datetime tpep_dropoff_datetime  passenger_count  \\\n",
              "20223       2.0  2020-07-18 00:38:57   2020-07-18 00:55:00              1.0   \n",
              "49428       2.0  2020-04-30 18:18:23   2020-05-01 17:30:12              1.0   \n",
              "71920       2.0  2020-11-01 15:41:04   2020-11-01 15:57:02              1.0   \n",
              "74883       2.0  2020-06-05 08:14:36   2020-06-05 08:16:56              1.0   \n",
              "85488       2.0  2020-06-05 08:37:44   2020-06-05 08:44:38              1.0   \n",
              "\n",
              "       trip_distance store_and_fwd_flag  PULocationID  DOLocationID  \\\n",
              "20223           5.51                  N           142           244   \n",
              "49428           1.07                  N           249           249   \n",
              "71920           6.21                  N           152            68   \n",
              "74883           0.48                  N            68            68   \n",
              "85488           2.02                  N            43           170   \n",
              "\n",
              "       payment_type  total_amount      PULocationLabel  \\\n",
              "20223           2.0         23.30  Lincoln Square East   \n",
              "49428           2.0         11.80         West Village   \n",
              "71920           2.0         24.30       Manhattanville   \n",
              "74883           2.0          6.80         East Chelsea   \n",
              "85488           1.0         14.16         Central Park   \n",
              "\n",
              "                DOLocationLabel  \n",
              "20223  Washington Heights South  \n",
              "49428              West Village  \n",
              "71920              East Chelsea  \n",
              "74883              East Chelsea  \n",
              "85488               Murray Hill  "
            ],
            "text/html": [
              "\n",
              "  <div id=\"df-cc8e943c-285e-42dc-b3d4-184724ecdb96\">\n",
              "    <div class=\"colab-df-container\">\n",
              "      <div>\n",
              "<style scoped>\n",
              "    .dataframe tbody tr th:only-of-type {\n",
              "        vertical-align: middle;\n",
              "    }\n",
              "\n",
              "    .dataframe tbody tr th {\n",
              "        vertical-align: top;\n",
              "    }\n",
              "\n",
              "    .dataframe thead th {\n",
              "        text-align: right;\n",
              "    }\n",
              "</style>\n",
              "<table border=\"1\" class=\"dataframe\">\n",
              "  <thead>\n",
              "    <tr style=\"text-align: right;\">\n",
              "      <th></th>\n",
              "      <th>VendorID</th>\n",
              "      <th>tpep_pickup_datetime</th>\n",
              "      <th>tpep_dropoff_datetime</th>\n",
              "      <th>passenger_count</th>\n",
              "      <th>trip_distance</th>\n",
              "      <th>store_and_fwd_flag</th>\n",
              "      <th>PULocationID</th>\n",
              "      <th>DOLocationID</th>\n",
              "      <th>payment_type</th>\n",
              "      <th>total_amount</th>\n",
              "      <th>PULocationLabel</th>\n",
              "      <th>DOLocationLabel</th>\n",
              "    </tr>\n",
              "  </thead>\n",
              "  <tbody>\n",
              "    <tr>\n",
              "      <th>20223</th>\n",
              "      <td>2.0</td>\n",
              "      <td>2020-07-18 00:38:57</td>\n",
              "      <td>2020-07-18 00:55:00</td>\n",
              "      <td>1.0</td>\n",
              "      <td>5.51</td>\n",
              "      <td>N</td>\n",
              "      <td>142</td>\n",
              "      <td>244</td>\n",
              "      <td>2.0</td>\n",
              "      <td>23.30</td>\n",
              "      <td>Lincoln Square East</td>\n",
              "      <td>Washington Heights South</td>\n",
              "    </tr>\n",
              "    <tr>\n",
              "      <th>49428</th>\n",
              "      <td>2.0</td>\n",
              "      <td>2020-04-30 18:18:23</td>\n",
              "      <td>2020-05-01 17:30:12</td>\n",
              "      <td>1.0</td>\n",
              "      <td>1.07</td>\n",
              "      <td>N</td>\n",
              "      <td>249</td>\n",
              "      <td>249</td>\n",
              "      <td>2.0</td>\n",
              "      <td>11.80</td>\n",
              "      <td>West Village</td>\n",
              "      <td>West Village</td>\n",
              "    </tr>\n",
              "    <tr>\n",
              "      <th>71920</th>\n",
              "      <td>2.0</td>\n",
              "      <td>2020-11-01 15:41:04</td>\n",
              "      <td>2020-11-01 15:57:02</td>\n",
              "      <td>1.0</td>\n",
              "      <td>6.21</td>\n",
              "      <td>N</td>\n",
              "      <td>152</td>\n",
              "      <td>68</td>\n",
              "      <td>2.0</td>\n",
              "      <td>24.30</td>\n",
              "      <td>Manhattanville</td>\n",
              "      <td>East Chelsea</td>\n",
              "    </tr>\n",
              "    <tr>\n",
              "      <th>74883</th>\n",
              "      <td>2.0</td>\n",
              "      <td>2020-06-05 08:14:36</td>\n",
              "      <td>2020-06-05 08:16:56</td>\n",
              "      <td>1.0</td>\n",
              "      <td>0.48</td>\n",
              "      <td>N</td>\n",
              "      <td>68</td>\n",
              "      <td>68</td>\n",
              "      <td>2.0</td>\n",
              "      <td>6.80</td>\n",
              "      <td>East Chelsea</td>\n",
              "      <td>East Chelsea</td>\n",
              "    </tr>\n",
              "    <tr>\n",
              "      <th>85488</th>\n",
              "      <td>2.0</td>\n",
              "      <td>2020-06-05 08:37:44</td>\n",
              "      <td>2020-06-05 08:44:38</td>\n",
              "      <td>1.0</td>\n",
              "      <td>2.02</td>\n",
              "      <td>N</td>\n",
              "      <td>43</td>\n",
              "      <td>170</td>\n",
              "      <td>1.0</td>\n",
              "      <td>14.16</td>\n",
              "      <td>Central Park</td>\n",
              "      <td>Murray Hill</td>\n",
              "    </tr>\n",
              "  </tbody>\n",
              "</table>\n",
              "</div>\n",
              "      <button class=\"colab-df-convert\" onclick=\"convertToInteractive('df-cc8e943c-285e-42dc-b3d4-184724ecdb96')\"\n",
              "              title=\"Convert this dataframe to an interactive table.\"\n",
              "              style=\"display:none;\">\n",
              "        \n",
              "  <svg xmlns=\"http://www.w3.org/2000/svg\" height=\"24px\"viewBox=\"0 0 24 24\"\n",
              "       width=\"24px\">\n",
              "    <path d=\"M0 0h24v24H0V0z\" fill=\"none\"/>\n",
              "    <path d=\"M18.56 5.44l.94 2.06.94-2.06 2.06-.94-2.06-.94-.94-2.06-.94 2.06-2.06.94zm-11 1L8.5 8.5l.94-2.06 2.06-.94-2.06-.94L8.5 2.5l-.94 2.06-2.06.94zm10 10l.94 2.06.94-2.06 2.06-.94-2.06-.94-.94-2.06-.94 2.06-2.06.94z\"/><path d=\"M17.41 7.96l-1.37-1.37c-.4-.4-.92-.59-1.43-.59-.52 0-1.04.2-1.43.59L10.3 9.45l-7.72 7.72c-.78.78-.78 2.05 0 2.83L4 21.41c.39.39.9.59 1.41.59.51 0 1.02-.2 1.41-.59l7.78-7.78 2.81-2.81c.8-.78.8-2.07 0-2.86zM5.41 20L4 18.59l7.72-7.72 1.47 1.35L5.41 20z\"/>\n",
              "  </svg>\n",
              "      </button>\n",
              "      \n",
              "  <style>\n",
              "    .colab-df-container {\n",
              "      display:flex;\n",
              "      flex-wrap:wrap;\n",
              "      gap: 12px;\n",
              "    }\n",
              "\n",
              "    .colab-df-convert {\n",
              "      background-color: #E8F0FE;\n",
              "      border: none;\n",
              "      border-radius: 50%;\n",
              "      cursor: pointer;\n",
              "      display: none;\n",
              "      fill: #1967D2;\n",
              "      height: 32px;\n",
              "      padding: 0 0 0 0;\n",
              "      width: 32px;\n",
              "    }\n",
              "\n",
              "    .colab-df-convert:hover {\n",
              "      background-color: #E2EBFA;\n",
              "      box-shadow: 0px 1px 2px rgba(60, 64, 67, 0.3), 0px 1px 3px 1px rgba(60, 64, 67, 0.15);\n",
              "      fill: #174EA6;\n",
              "    }\n",
              "\n",
              "    [theme=dark] .colab-df-convert {\n",
              "      background-color: #3B4455;\n",
              "      fill: #D2E3FC;\n",
              "    }\n",
              "\n",
              "    [theme=dark] .colab-df-convert:hover {\n",
              "      background-color: #434B5C;\n",
              "      box-shadow: 0px 1px 3px 1px rgba(0, 0, 0, 0.15);\n",
              "      filter: drop-shadow(0px 1px 2px rgba(0, 0, 0, 0.3));\n",
              "      fill: #FFFFFF;\n",
              "    }\n",
              "  </style>\n",
              "\n",
              "      <script>\n",
              "        const buttonEl =\n",
              "          document.querySelector('#df-cc8e943c-285e-42dc-b3d4-184724ecdb96 button.colab-df-convert');\n",
              "        buttonEl.style.display =\n",
              "          google.colab.kernel.accessAllowed ? 'block' : 'none';\n",
              "\n",
              "        async function convertToInteractive(key) {\n",
              "          const element = document.querySelector('#df-cc8e943c-285e-42dc-b3d4-184724ecdb96');\n",
              "          const dataTable =\n",
              "            await google.colab.kernel.invokeFunction('convertToInteractive',\n",
              "                                                     [key], {});\n",
              "          if (!dataTable) return;\n",
              "\n",
              "          const docLinkHtml = 'Like what you see? Visit the ' +\n",
              "            '<a target=\"_blank\" href=https://colab.research.google.com/notebooks/data_table.ipynb>data table notebook</a>'\n",
              "            + ' to learn more about interactive tables.';\n",
              "          element.innerHTML = '';\n",
              "          dataTable['output_type'] = 'display_data';\n",
              "          await google.colab.output.renderOutput(dataTable, element);\n",
              "          const docLink = document.createElement('div');\n",
              "          docLink.innerHTML = docLinkHtml;\n",
              "          element.appendChild(docLink);\n",
              "        }\n",
              "      </script>\n",
              "    </div>\n",
              "  </div>\n",
              "  "
            ]
          },
          "metadata": {},
          "execution_count": 144
        }
      ]
    },
    {
      "cell_type": "code",
      "source": [
        "print(\"Trajets hors mai 2020 : {}\".format(data[~data[\"tpep_pickup_datetime\"].str.contains(\"2020-05\")].shape[0]))"
      ],
      "metadata": {
        "colab": {
          "base_uri": "https://localhost:8080/"
        },
        "id": "QywiuEvJyC46",
        "outputId": "3f79047a-52c4-4621-976c-482337a100b5"
      },
      "execution_count": 145,
      "outputs": [
        {
          "output_type": "stream",
          "name": "stdout",
          "text": [
            "Trajets hors mai 2020 : 23\n"
          ]
        }
      ]
    },
    {
      "cell_type": "code",
      "source": [
        "print(\"Trajets hors mai 2020 : {}\".format(data[~data[\"tpep_dropoff_datetime\"].str.contains(\"2020-05\")].shape[0]))"
      ],
      "metadata": {
        "colab": {
          "base_uri": "https://localhost:8080/"
        },
        "id": "_R0vraKFx9L9",
        "outputId": "6b1f7816-f05f-4010-cf7d-862fb72abed4"
      },
      "execution_count": 146,
      "outputs": [
        {
          "output_type": "stream",
          "name": "stdout",
          "text": [
            "Trajets hors mai 2020 : 69\n"
          ]
        }
      ]
    },
    {
      "cell_type": "code",
      "source": [
        "data = data[data[\"tpep_pickup_datetime\"].str.contains(\"2020-05\")]\n",
        "data = data[data[\"tpep_dropoff_datetime\"].str.contains(\"2020-05\")]"
      ],
      "metadata": {
        "id": "mLP8Lu5aNhis"
      },
      "execution_count": 147,
      "outputs": []
    },
    {
      "cell_type": "markdown",
      "source": [
        "Pour `passenger_count`, les valeurs 8 et 9 semblent aberrantes. En effet, difficile d'imaginer un taxi et une limousine avec 8 ou 9 passagers. D'après nos recherches, le maximum de passagers autorisés dans un taxi-limousine est de 6 personnes. \n",
        "\n",
        "Ces valeurs ne composant que deux individus de notre dataset, on les retire en gardant la variable."
      ],
      "metadata": {
        "id": "ARQT5Lz-N4W7"
      }
    },
    {
      "cell_type": "code",
      "source": [
        "data[data[\"passenger_count\"] >= 8]"
      ],
      "metadata": {
        "id": "Ia5kQtuPszim",
        "outputId": "3079f06a-e2c9-4b8f-9b5c-727270129ad1",
        "colab": {
          "base_uri": "https://localhost:8080/",
          "height": 176
        }
      },
      "execution_count": 148,
      "outputs": [
        {
          "output_type": "execute_result",
          "data": {
            "text/plain": [
              "        VendorID tpep_pickup_datetime tpep_dropoff_datetime  passenger_count  \\\n",
              "278583       2.0  2020-05-31 20:53:17   2020-05-31 20:53:19              8.0   \n",
              "290971       2.0  2020-05-20 06:42:42   2020-05-20 06:42:48              9.0   \n",
              "\n",
              "        trip_distance store_and_fwd_flag  PULocationID  DOLocationID  \\\n",
              "278583            0.0                  N           116           116   \n",
              "290971            0.0                  N           264           264   \n",
              "\n",
              "        payment_type  total_amount   PULocationLabel   DOLocationLabel  \n",
              "278583           1.0         11.00  Hamilton Heights  Hamilton Heights  \n",
              "290971           1.0         11.76                NV                NV  "
            ],
            "text/html": [
              "\n",
              "  <div id=\"df-9bb0512e-8666-4255-b756-507ff991d99d\">\n",
              "    <div class=\"colab-df-container\">\n",
              "      <div>\n",
              "<style scoped>\n",
              "    .dataframe tbody tr th:only-of-type {\n",
              "        vertical-align: middle;\n",
              "    }\n",
              "\n",
              "    .dataframe tbody tr th {\n",
              "        vertical-align: top;\n",
              "    }\n",
              "\n",
              "    .dataframe thead th {\n",
              "        text-align: right;\n",
              "    }\n",
              "</style>\n",
              "<table border=\"1\" class=\"dataframe\">\n",
              "  <thead>\n",
              "    <tr style=\"text-align: right;\">\n",
              "      <th></th>\n",
              "      <th>VendorID</th>\n",
              "      <th>tpep_pickup_datetime</th>\n",
              "      <th>tpep_dropoff_datetime</th>\n",
              "      <th>passenger_count</th>\n",
              "      <th>trip_distance</th>\n",
              "      <th>store_and_fwd_flag</th>\n",
              "      <th>PULocationID</th>\n",
              "      <th>DOLocationID</th>\n",
              "      <th>payment_type</th>\n",
              "      <th>total_amount</th>\n",
              "      <th>PULocationLabel</th>\n",
              "      <th>DOLocationLabel</th>\n",
              "    </tr>\n",
              "  </thead>\n",
              "  <tbody>\n",
              "    <tr>\n",
              "      <th>278583</th>\n",
              "      <td>2.0</td>\n",
              "      <td>2020-05-31 20:53:17</td>\n",
              "      <td>2020-05-31 20:53:19</td>\n",
              "      <td>8.0</td>\n",
              "      <td>0.0</td>\n",
              "      <td>N</td>\n",
              "      <td>116</td>\n",
              "      <td>116</td>\n",
              "      <td>1.0</td>\n",
              "      <td>11.00</td>\n",
              "      <td>Hamilton Heights</td>\n",
              "      <td>Hamilton Heights</td>\n",
              "    </tr>\n",
              "    <tr>\n",
              "      <th>290971</th>\n",
              "      <td>2.0</td>\n",
              "      <td>2020-05-20 06:42:42</td>\n",
              "      <td>2020-05-20 06:42:48</td>\n",
              "      <td>9.0</td>\n",
              "      <td>0.0</td>\n",
              "      <td>N</td>\n",
              "      <td>264</td>\n",
              "      <td>264</td>\n",
              "      <td>1.0</td>\n",
              "      <td>11.76</td>\n",
              "      <td>NV</td>\n",
              "      <td>NV</td>\n",
              "    </tr>\n",
              "  </tbody>\n",
              "</table>\n",
              "</div>\n",
              "      <button class=\"colab-df-convert\" onclick=\"convertToInteractive('df-9bb0512e-8666-4255-b756-507ff991d99d')\"\n",
              "              title=\"Convert this dataframe to an interactive table.\"\n",
              "              style=\"display:none;\">\n",
              "        \n",
              "  <svg xmlns=\"http://www.w3.org/2000/svg\" height=\"24px\"viewBox=\"0 0 24 24\"\n",
              "       width=\"24px\">\n",
              "    <path d=\"M0 0h24v24H0V0z\" fill=\"none\"/>\n",
              "    <path d=\"M18.56 5.44l.94 2.06.94-2.06 2.06-.94-2.06-.94-.94-2.06-.94 2.06-2.06.94zm-11 1L8.5 8.5l.94-2.06 2.06-.94-2.06-.94L8.5 2.5l-.94 2.06-2.06.94zm10 10l.94 2.06.94-2.06 2.06-.94-2.06-.94-.94-2.06-.94 2.06-2.06.94z\"/><path d=\"M17.41 7.96l-1.37-1.37c-.4-.4-.92-.59-1.43-.59-.52 0-1.04.2-1.43.59L10.3 9.45l-7.72 7.72c-.78.78-.78 2.05 0 2.83L4 21.41c.39.39.9.59 1.41.59.51 0 1.02-.2 1.41-.59l7.78-7.78 2.81-2.81c.8-.78.8-2.07 0-2.86zM5.41 20L4 18.59l7.72-7.72 1.47 1.35L5.41 20z\"/>\n",
              "  </svg>\n",
              "      </button>\n",
              "      \n",
              "  <style>\n",
              "    .colab-df-container {\n",
              "      display:flex;\n",
              "      flex-wrap:wrap;\n",
              "      gap: 12px;\n",
              "    }\n",
              "\n",
              "    .colab-df-convert {\n",
              "      background-color: #E8F0FE;\n",
              "      border: none;\n",
              "      border-radius: 50%;\n",
              "      cursor: pointer;\n",
              "      display: none;\n",
              "      fill: #1967D2;\n",
              "      height: 32px;\n",
              "      padding: 0 0 0 0;\n",
              "      width: 32px;\n",
              "    }\n",
              "\n",
              "    .colab-df-convert:hover {\n",
              "      background-color: #E2EBFA;\n",
              "      box-shadow: 0px 1px 2px rgba(60, 64, 67, 0.3), 0px 1px 3px 1px rgba(60, 64, 67, 0.15);\n",
              "      fill: #174EA6;\n",
              "    }\n",
              "\n",
              "    [theme=dark] .colab-df-convert {\n",
              "      background-color: #3B4455;\n",
              "      fill: #D2E3FC;\n",
              "    }\n",
              "\n",
              "    [theme=dark] .colab-df-convert:hover {\n",
              "      background-color: #434B5C;\n",
              "      box-shadow: 0px 1px 3px 1px rgba(0, 0, 0, 0.15);\n",
              "      filter: drop-shadow(0px 1px 2px rgba(0, 0, 0, 0.3));\n",
              "      fill: #FFFFFF;\n",
              "    }\n",
              "  </style>\n",
              "\n",
              "      <script>\n",
              "        const buttonEl =\n",
              "          document.querySelector('#df-9bb0512e-8666-4255-b756-507ff991d99d button.colab-df-convert');\n",
              "        buttonEl.style.display =\n",
              "          google.colab.kernel.accessAllowed ? 'block' : 'none';\n",
              "\n",
              "        async function convertToInteractive(key) {\n",
              "          const element = document.querySelector('#df-9bb0512e-8666-4255-b756-507ff991d99d');\n",
              "          const dataTable =\n",
              "            await google.colab.kernel.invokeFunction('convertToInteractive',\n",
              "                                                     [key], {});\n",
              "          if (!dataTable) return;\n",
              "\n",
              "          const docLinkHtml = 'Like what you see? Visit the ' +\n",
              "            '<a target=\"_blank\" href=https://colab.research.google.com/notebooks/data_table.ipynb>data table notebook</a>'\n",
              "            + ' to learn more about interactive tables.';\n",
              "          element.innerHTML = '';\n",
              "          dataTable['output_type'] = 'display_data';\n",
              "          await google.colab.output.renderOutput(dataTable, element);\n",
              "          const docLink = document.createElement('div');\n",
              "          docLink.innerHTML = docLinkHtml;\n",
              "          element.appendChild(docLink);\n",
              "        }\n",
              "      </script>\n",
              "    </div>\n",
              "  </div>\n",
              "  "
            ]
          },
          "metadata": {},
          "execution_count": 148
        }
      ]
    },
    {
      "cell_type": "code",
      "source": [
        "data = data[data[\"passenger_count\"] < 8]"
      ],
      "metadata": {
        "id": "J4BZ83WWOSsC"
      },
      "execution_count": 149,
      "outputs": []
    },
    {
      "cell_type": "code",
      "source": [
        "data[data[\"passenger_count\"] < 1]"
      ],
      "metadata": {
        "colab": {
          "base_uri": "https://localhost:8080/",
          "height": 644
        },
        "id": "ZYY33ZZw051N",
        "outputId": "df910b40-d0b4-4c2a-cc61-1aeac4949f59"
      },
      "execution_count": 150,
      "outputs": [
        {
          "output_type": "execute_result",
          "data": {
            "text/plain": [
              "        VendorID tpep_pickup_datetime tpep_dropoff_datetime  passenger_count  \\\n",
              "11           1.0  2020-05-25 16:24:04   2020-05-25 16:38:44              0.0   \n",
              "81           1.0  2020-05-29 18:02:31   2020-05-29 18:13:52              0.0   \n",
              "86           1.0  2020-05-21 10:16:03   2020-05-21 10:44:47              0.0   \n",
              "110          1.0  2020-05-23 19:31:42   2020-05-23 19:50:29              0.0   \n",
              "132          1.0  2020-05-29 00:30:58   2020-05-29 00:48:20              0.0   \n",
              "...          ...                  ...                   ...              ...   \n",
              "348077       1.0  2020-05-13 05:21:37   2020-05-13 05:21:40              0.0   \n",
              "348078       1.0  2020-05-13 06:36:45   2020-05-13 06:37:04              0.0   \n",
              "348096       1.0  2020-05-26 12:18:13   2020-05-26 12:19:34              0.0   \n",
              "348105       1.0  2020-05-30 06:48:04   2020-05-30 06:52:05              0.0   \n",
              "348276       1.0  2020-05-07 01:58:38   2020-05-07 02:31:11              0.0   \n",
              "\n",
              "        trip_distance store_and_fwd_flag  PULocationID  DOLocationID  \\\n",
              "11                3.4                  N           234           256   \n",
              "81                2.6                  N            79           256   \n",
              "86                9.3                  N           151           256   \n",
              "110               8.4                  N           263           256   \n",
              "132              10.7                  N            75           256   \n",
              "...               ...                ...           ...           ...   \n",
              "348077            0.0                  N           207           207   \n",
              "348078            0.0                  Y           207           207   \n",
              "348096            0.0                  N           207           207   \n",
              "348105            1.3                  N           129           207   \n",
              "348276           23.0                  N            45             5   \n",
              "\n",
              "        payment_type  total_amount                   PULocationLabel  \\\n",
              "11               3.0         16.80                          Union Sq   \n",
              "81               1.0         17.14                      East Village   \n",
              "86               2.0         34.30                  Manhattan Valley   \n",
              "110              1.0         28.80                    Yorkville West   \n",
              "132              2.0         36.92                 East Harlem South   \n",
              "...              ...           ...                               ...   \n",
              "348077           3.0          3.80  Saint Michaels Cemetery/Woodside   \n",
              "348078           2.0          0.30  Saint Michaels Cemetery/Woodside   \n",
              "348096           2.0          3.80  Saint Michaels Cemetery/Woodside   \n",
              "348105           2.0          6.80                   Jackson Heights   \n",
              "348276           3.0         78.04                         Chinatown   \n",
              "\n",
              "                         DOLocationLabel  \n",
              "11             Williamsburg (South Side)  \n",
              "81             Williamsburg (South Side)  \n",
              "86             Williamsburg (South Side)  \n",
              "110            Williamsburg (South Side)  \n",
              "132            Williamsburg (South Side)  \n",
              "...                                  ...  \n",
              "348077  Saint Michaels Cemetery/Woodside  \n",
              "348078  Saint Michaels Cemetery/Woodside  \n",
              "348096  Saint Michaels Cemetery/Woodside  \n",
              "348105  Saint Michaels Cemetery/Woodside  \n",
              "348276                     Arden Heights  \n",
              "\n",
              "[9605 rows x 12 columns]"
            ],
            "text/html": [
              "\n",
              "  <div id=\"df-6c743985-294a-4a3b-b39e-76f3172b67eb\">\n",
              "    <div class=\"colab-df-container\">\n",
              "      <div>\n",
              "<style scoped>\n",
              "    .dataframe tbody tr th:only-of-type {\n",
              "        vertical-align: middle;\n",
              "    }\n",
              "\n",
              "    .dataframe tbody tr th {\n",
              "        vertical-align: top;\n",
              "    }\n",
              "\n",
              "    .dataframe thead th {\n",
              "        text-align: right;\n",
              "    }\n",
              "</style>\n",
              "<table border=\"1\" class=\"dataframe\">\n",
              "  <thead>\n",
              "    <tr style=\"text-align: right;\">\n",
              "      <th></th>\n",
              "      <th>VendorID</th>\n",
              "      <th>tpep_pickup_datetime</th>\n",
              "      <th>tpep_dropoff_datetime</th>\n",
              "      <th>passenger_count</th>\n",
              "      <th>trip_distance</th>\n",
              "      <th>store_and_fwd_flag</th>\n",
              "      <th>PULocationID</th>\n",
              "      <th>DOLocationID</th>\n",
              "      <th>payment_type</th>\n",
              "      <th>total_amount</th>\n",
              "      <th>PULocationLabel</th>\n",
              "      <th>DOLocationLabel</th>\n",
              "    </tr>\n",
              "  </thead>\n",
              "  <tbody>\n",
              "    <tr>\n",
              "      <th>11</th>\n",
              "      <td>1.0</td>\n",
              "      <td>2020-05-25 16:24:04</td>\n",
              "      <td>2020-05-25 16:38:44</td>\n",
              "      <td>0.0</td>\n",
              "      <td>3.4</td>\n",
              "      <td>N</td>\n",
              "      <td>234</td>\n",
              "      <td>256</td>\n",
              "      <td>3.0</td>\n",
              "      <td>16.80</td>\n",
              "      <td>Union Sq</td>\n",
              "      <td>Williamsburg (South Side)</td>\n",
              "    </tr>\n",
              "    <tr>\n",
              "      <th>81</th>\n",
              "      <td>1.0</td>\n",
              "      <td>2020-05-29 18:02:31</td>\n",
              "      <td>2020-05-29 18:13:52</td>\n",
              "      <td>0.0</td>\n",
              "      <td>2.6</td>\n",
              "      <td>N</td>\n",
              "      <td>79</td>\n",
              "      <td>256</td>\n",
              "      <td>1.0</td>\n",
              "      <td>17.14</td>\n",
              "      <td>East Village</td>\n",
              "      <td>Williamsburg (South Side)</td>\n",
              "    </tr>\n",
              "    <tr>\n",
              "      <th>86</th>\n",
              "      <td>1.0</td>\n",
              "      <td>2020-05-21 10:16:03</td>\n",
              "      <td>2020-05-21 10:44:47</td>\n",
              "      <td>0.0</td>\n",
              "      <td>9.3</td>\n",
              "      <td>N</td>\n",
              "      <td>151</td>\n",
              "      <td>256</td>\n",
              "      <td>2.0</td>\n",
              "      <td>34.30</td>\n",
              "      <td>Manhattan Valley</td>\n",
              "      <td>Williamsburg (South Side)</td>\n",
              "    </tr>\n",
              "    <tr>\n",
              "      <th>110</th>\n",
              "      <td>1.0</td>\n",
              "      <td>2020-05-23 19:31:42</td>\n",
              "      <td>2020-05-23 19:50:29</td>\n",
              "      <td>0.0</td>\n",
              "      <td>8.4</td>\n",
              "      <td>N</td>\n",
              "      <td>263</td>\n",
              "      <td>256</td>\n",
              "      <td>1.0</td>\n",
              "      <td>28.80</td>\n",
              "      <td>Yorkville West</td>\n",
              "      <td>Williamsburg (South Side)</td>\n",
              "    </tr>\n",
              "    <tr>\n",
              "      <th>132</th>\n",
              "      <td>1.0</td>\n",
              "      <td>2020-05-29 00:30:58</td>\n",
              "      <td>2020-05-29 00:48:20</td>\n",
              "      <td>0.0</td>\n",
              "      <td>10.7</td>\n",
              "      <td>N</td>\n",
              "      <td>75</td>\n",
              "      <td>256</td>\n",
              "      <td>2.0</td>\n",
              "      <td>36.92</td>\n",
              "      <td>East Harlem South</td>\n",
              "      <td>Williamsburg (South Side)</td>\n",
              "    </tr>\n",
              "    <tr>\n",
              "      <th>...</th>\n",
              "      <td>...</td>\n",
              "      <td>...</td>\n",
              "      <td>...</td>\n",
              "      <td>...</td>\n",
              "      <td>...</td>\n",
              "      <td>...</td>\n",
              "      <td>...</td>\n",
              "      <td>...</td>\n",
              "      <td>...</td>\n",
              "      <td>...</td>\n",
              "      <td>...</td>\n",
              "      <td>...</td>\n",
              "    </tr>\n",
              "    <tr>\n",
              "      <th>348077</th>\n",
              "      <td>1.0</td>\n",
              "      <td>2020-05-13 05:21:37</td>\n",
              "      <td>2020-05-13 05:21:40</td>\n",
              "      <td>0.0</td>\n",
              "      <td>0.0</td>\n",
              "      <td>N</td>\n",
              "      <td>207</td>\n",
              "      <td>207</td>\n",
              "      <td>3.0</td>\n",
              "      <td>3.80</td>\n",
              "      <td>Saint Michaels Cemetery/Woodside</td>\n",
              "      <td>Saint Michaels Cemetery/Woodside</td>\n",
              "    </tr>\n",
              "    <tr>\n",
              "      <th>348078</th>\n",
              "      <td>1.0</td>\n",
              "      <td>2020-05-13 06:36:45</td>\n",
              "      <td>2020-05-13 06:37:04</td>\n",
              "      <td>0.0</td>\n",
              "      <td>0.0</td>\n",
              "      <td>Y</td>\n",
              "      <td>207</td>\n",
              "      <td>207</td>\n",
              "      <td>2.0</td>\n",
              "      <td>0.30</td>\n",
              "      <td>Saint Michaels Cemetery/Woodside</td>\n",
              "      <td>Saint Michaels Cemetery/Woodside</td>\n",
              "    </tr>\n",
              "    <tr>\n",
              "      <th>348096</th>\n",
              "      <td>1.0</td>\n",
              "      <td>2020-05-26 12:18:13</td>\n",
              "      <td>2020-05-26 12:19:34</td>\n",
              "      <td>0.0</td>\n",
              "      <td>0.0</td>\n",
              "      <td>N</td>\n",
              "      <td>207</td>\n",
              "      <td>207</td>\n",
              "      <td>2.0</td>\n",
              "      <td>3.80</td>\n",
              "      <td>Saint Michaels Cemetery/Woodside</td>\n",
              "      <td>Saint Michaels Cemetery/Woodside</td>\n",
              "    </tr>\n",
              "    <tr>\n",
              "      <th>348105</th>\n",
              "      <td>1.0</td>\n",
              "      <td>2020-05-30 06:48:04</td>\n",
              "      <td>2020-05-30 06:52:05</td>\n",
              "      <td>0.0</td>\n",
              "      <td>1.3</td>\n",
              "      <td>N</td>\n",
              "      <td>129</td>\n",
              "      <td>207</td>\n",
              "      <td>2.0</td>\n",
              "      <td>6.80</td>\n",
              "      <td>Jackson Heights</td>\n",
              "      <td>Saint Michaels Cemetery/Woodside</td>\n",
              "    </tr>\n",
              "    <tr>\n",
              "      <th>348276</th>\n",
              "      <td>1.0</td>\n",
              "      <td>2020-05-07 01:58:38</td>\n",
              "      <td>2020-05-07 02:31:11</td>\n",
              "      <td>0.0</td>\n",
              "      <td>23.0</td>\n",
              "      <td>N</td>\n",
              "      <td>45</td>\n",
              "      <td>5</td>\n",
              "      <td>3.0</td>\n",
              "      <td>78.04</td>\n",
              "      <td>Chinatown</td>\n",
              "      <td>Arden Heights</td>\n",
              "    </tr>\n",
              "  </tbody>\n",
              "</table>\n",
              "<p>9605 rows × 12 columns</p>\n",
              "</div>\n",
              "      <button class=\"colab-df-convert\" onclick=\"convertToInteractive('df-6c743985-294a-4a3b-b39e-76f3172b67eb')\"\n",
              "              title=\"Convert this dataframe to an interactive table.\"\n",
              "              style=\"display:none;\">\n",
              "        \n",
              "  <svg xmlns=\"http://www.w3.org/2000/svg\" height=\"24px\"viewBox=\"0 0 24 24\"\n",
              "       width=\"24px\">\n",
              "    <path d=\"M0 0h24v24H0V0z\" fill=\"none\"/>\n",
              "    <path d=\"M18.56 5.44l.94 2.06.94-2.06 2.06-.94-2.06-.94-.94-2.06-.94 2.06-2.06.94zm-11 1L8.5 8.5l.94-2.06 2.06-.94-2.06-.94L8.5 2.5l-.94 2.06-2.06.94zm10 10l.94 2.06.94-2.06 2.06-.94-2.06-.94-.94-2.06-.94 2.06-2.06.94z\"/><path d=\"M17.41 7.96l-1.37-1.37c-.4-.4-.92-.59-1.43-.59-.52 0-1.04.2-1.43.59L10.3 9.45l-7.72 7.72c-.78.78-.78 2.05 0 2.83L4 21.41c.39.39.9.59 1.41.59.51 0 1.02-.2 1.41-.59l7.78-7.78 2.81-2.81c.8-.78.8-2.07 0-2.86zM5.41 20L4 18.59l7.72-7.72 1.47 1.35L5.41 20z\"/>\n",
              "  </svg>\n",
              "      </button>\n",
              "      \n",
              "  <style>\n",
              "    .colab-df-container {\n",
              "      display:flex;\n",
              "      flex-wrap:wrap;\n",
              "      gap: 12px;\n",
              "    }\n",
              "\n",
              "    .colab-df-convert {\n",
              "      background-color: #E8F0FE;\n",
              "      border: none;\n",
              "      border-radius: 50%;\n",
              "      cursor: pointer;\n",
              "      display: none;\n",
              "      fill: #1967D2;\n",
              "      height: 32px;\n",
              "      padding: 0 0 0 0;\n",
              "      width: 32px;\n",
              "    }\n",
              "\n",
              "    .colab-df-convert:hover {\n",
              "      background-color: #E2EBFA;\n",
              "      box-shadow: 0px 1px 2px rgba(60, 64, 67, 0.3), 0px 1px 3px 1px rgba(60, 64, 67, 0.15);\n",
              "      fill: #174EA6;\n",
              "    }\n",
              "\n",
              "    [theme=dark] .colab-df-convert {\n",
              "      background-color: #3B4455;\n",
              "      fill: #D2E3FC;\n",
              "    }\n",
              "\n",
              "    [theme=dark] .colab-df-convert:hover {\n",
              "      background-color: #434B5C;\n",
              "      box-shadow: 0px 1px 3px 1px rgba(0, 0, 0, 0.15);\n",
              "      filter: drop-shadow(0px 1px 2px rgba(0, 0, 0, 0.3));\n",
              "      fill: #FFFFFF;\n",
              "    }\n",
              "  </style>\n",
              "\n",
              "      <script>\n",
              "        const buttonEl =\n",
              "          document.querySelector('#df-6c743985-294a-4a3b-b39e-76f3172b67eb button.colab-df-convert');\n",
              "        buttonEl.style.display =\n",
              "          google.colab.kernel.accessAllowed ? 'block' : 'none';\n",
              "\n",
              "        async function convertToInteractive(key) {\n",
              "          const element = document.querySelector('#df-6c743985-294a-4a3b-b39e-76f3172b67eb');\n",
              "          const dataTable =\n",
              "            await google.colab.kernel.invokeFunction('convertToInteractive',\n",
              "                                                     [key], {});\n",
              "          if (!dataTable) return;\n",
              "\n",
              "          const docLinkHtml = 'Like what you see? Visit the ' +\n",
              "            '<a target=\"_blank\" href=https://colab.research.google.com/notebooks/data_table.ipynb>data table notebook</a>'\n",
              "            + ' to learn more about interactive tables.';\n",
              "          element.innerHTML = '';\n",
              "          dataTable['output_type'] = 'display_data';\n",
              "          await google.colab.output.renderOutput(dataTable, element);\n",
              "          const docLink = document.createElement('div');\n",
              "          docLink.innerHTML = docLinkHtml;\n",
              "          element.appendChild(docLink);\n",
              "        }\n",
              "      </script>\n",
              "    </div>\n",
              "  </div>\n",
              "  "
            ]
          },
          "metadata": {},
          "execution_count": 150
        }
      ]
    },
    {
      "cell_type": "markdown",
      "source": [
        "On observe également 9605 lignes avec 0 passagers. \n",
        "\n",
        "Elles représentent 3% de notre dataset, on peut donc les supprimer en conservant la variable."
      ],
      "metadata": {
        "id": "l-H9KnloOJ1q"
      }
    },
    {
      "cell_type": "code",
      "source": [
        "data = data[data[\"passenger_count\"] > 0]"
      ],
      "metadata": {
        "id": "7cZ-QAiPOmRr"
      },
      "execution_count": 151,
      "outputs": []
    },
    {
      "cell_type": "markdown",
      "source": [
        "Examinons `trip_distance` :\n"
      ],
      "metadata": {
        "id": "OTZYuUxcQ19R"
      }
    },
    {
      "cell_type": "code",
      "source": [
        "data[\"trip_distance\"].describe()"
      ],
      "metadata": {
        "colab": {
          "base_uri": "https://localhost:8080/"
        },
        "id": "P7UGAWCI3O2v",
        "outputId": "7857cd44-e3d5-4575-9490-4f3638f28fc4"
      },
      "execution_count": 152,
      "outputs": [
        {
          "output_type": "execute_result",
          "data": {
            "text/plain": [
              "count    279802.000000\n",
              "mean          2.737067\n",
              "std          21.037388\n",
              "min           0.000000\n",
              "25%           0.950000\n",
              "50%           1.700000\n",
              "75%           3.100000\n",
              "max       10973.550000\n",
              "Name: trip_distance, dtype: float64"
            ]
          },
          "metadata": {},
          "execution_count": 152
        }
      ]
    },
    {
      "cell_type": "code",
      "source": [
        "sns.boxplot(y=data[\"trip_distance\"])"
      ],
      "metadata": {
        "colab": {
          "base_uri": "https://localhost:8080/",
          "height": 266
        },
        "id": "WIJnrogQWPNc",
        "outputId": "af5aa58e-b314-42c7-b306-2f40ecb1f1cc"
      },
      "execution_count": 153,
      "outputs": [
        {
          "output_type": "execute_result",
          "data": {
            "text/plain": [
              "<matplotlib.axes._subplots.AxesSubplot at 0x7f1cd5981290>"
            ]
          },
          "metadata": {},
          "execution_count": 153
        },
        {
          "output_type": "display_data",
          "data": {
            "text/plain": [
              "<Figure size 432x288 with 1 Axes>"
            ],
            "image/png": "[encoded data removed]"
          },
          "metadata": {}
        }
      ]
    },
    {
      "cell_type": "markdown",
      "source": [
        "On observe d'une part des trajets de 0 miles, ce qui est impossible à priori.\n",
        "\n",
        "On observe d'autre part que le trajet maximum enregistré est de 10 973 miles. \n",
        "Or les taxis de TLC ne peuvent aller qu'au Connecticut, New Jersey et dans l'Etat de New York au maximum d'après la [FAQ](https://www1.nyc.gov/site/tlc/passengers/passenger-frequently-asked-questions.page).\n",
        "\n",
        "Si on approxime cette surface à un cercle, sa superficie est d'environ 38 334,697 km². On obtient alors le diamètre du cercle par la formule :\n",
        "\n",
        "\n",
        "$Superficie = \\frac{\\pi \\times Diamètre^{2}}{2} \\Leftrightarrow Diamètre = \\sqrt{\\frac{2 \\times Superficie}{\\pi}}$"
      ],
      "metadata": {
        "id": "SVoxmLuZRKR_"
      }
    },
    {
      "cell_type": "code",
      "source": [
        "area = 22608+14371+141.297+1214.4 #somme des superficies des états de la zone d'action de TLC en km²\n",
        "diameter_in_km = math.sqrt(2*area/math.pi)\n",
        "diameter_in_miles = diameter_in_km * 1.60934 #on convertit en miles\n",
        "print(f\"Diamètre de la zone d'action (distance maximale parcourable) : {diameter_in_miles:.2f} miles\")"
      ],
      "metadata": {
        "colab": {
          "base_uri": "https://localhost:8080/"
        },
        "id": "GXlNP7KRRe1-",
        "outputId": "89425010-0cec-4858-e15d-d206de1cd891"
      },
      "execution_count": 154,
      "outputs": [
        {
          "output_type": "stream",
          "name": "stdout",
          "text": [
            "Diamètre de la zone d'action (distance maximale parcourable) : 251.41 miles\n"
          ]
        }
      ]
    },
    {
      "cell_type": "markdown",
      "source": [
        "On retire donc de notre dataset toute valeur physiquement impossible : celles nulles et supérieures à 251,41 miles :"
      ],
      "metadata": {
        "id": "4ILaEWLxSQ32"
      }
    },
    {
      "cell_type": "code",
      "source": [
        "data = data[data[\"trip_distance\"] > 0]\n",
        "data = data[data[\"trip_distance\"] < diameter_in_miles]"
      ],
      "metadata": {
        "id": "WwkZPqfXSQi-"
      },
      "execution_count": 155,
      "outputs": []
    },
    {
      "cell_type": "code",
      "source": [
        "sns.boxplot(y=data[\"trip_distance\"])"
      ],
      "metadata": {
        "colab": {
          "base_uri": "https://localhost:8080/",
          "height": 266
        },
        "id": "OcE-bOL63pVv",
        "outputId": "dce0d924-398d-4239-f05d-8e7d5939fcc9"
      },
      "execution_count": 156,
      "outputs": [
        {
          "output_type": "execute_result",
          "data": {
            "text/plain": [
              "<matplotlib.axes._subplots.AxesSubplot at 0x7f1cd5954190>"
            ]
          },
          "metadata": {},
          "execution_count": 156
        },
        {
          "output_type": "display_data",
          "data": {
            "text/plain": [
              "<Figure size 432x288 with 1 Axes>"
            ],
            "image/png": "[encoded data removed]"
          },
          "metadata": {}
        }
      ]
    },
    {
      "cell_type": "code",
      "source": [
        "sns.scatterplot(x=range(data[\"trip_distance\"].size), y=data[\"trip_distance\"])"
      ],
      "metadata": {
        "colab": {
          "base_uri": "https://localhost:8080/",
          "height": 286
        },
        "id": "zaRxAJhfZa5g",
        "outputId": "b1b5750d-f064-41bc-c162-6a9efac323a6"
      },
      "execution_count": 157,
      "outputs": [
        {
          "output_type": "execute_result",
          "data": {
            "text/plain": [
              "<matplotlib.axes._subplots.AxesSubplot at 0x7f1cd58b2a90>"
            ]
          },
          "metadata": {},
          "execution_count": 157
        },
        {
          "output_type": "display_data",
          "data": {
            "text/plain": [
              "<Figure size 432x288 with 1 Axes>"
            ],
            "image/png": "[encoded data removed]"
          },
          "metadata": {}
        }
      ]
    },
    {
      "cell_type": "markdown",
      "source": [
        "On observe encore beaucoup de points supérieurs à 75% des autres sur la boite à moustache mais on choisit de les garder pour l'instant. \n",
        " \n",
        "On observera l'effet de la standardisation des données lors de la phase de\n",
        "modélisation et l'effet de leur absence ou non sur l'amélioration de nos modèles."
      ],
      "metadata": {
        "id": "mWKjrAMJXlvP"
      }
    },
    {
      "cell_type": "markdown",
      "source": [
        "Observons la distribution de `total_amount` :"
      ],
      "metadata": {
        "id": "6zsN_r0WYB8w"
      }
    },
    {
      "cell_type": "code",
      "source": [
        "data[\"total_amount\"].describe()"
      ],
      "metadata": {
        "colab": {
          "base_uri": "https://localhost:8080/"
        },
        "id": "SPub1YD8YE-o",
        "outputId": "94ceed01-26a2-4447-b271-da3e8f0929d1"
      },
      "execution_count": 158,
      "outputs": [
        {
          "output_type": "execute_result",
          "data": {
            "text/plain": [
              "count    270940.000000\n",
              "mean         15.794375\n",
              "std          12.353834\n",
              "min        -244.300000\n",
              "25%           9.800000\n",
              "50%          12.800000\n",
              "75%          17.800000\n",
              "max         846.290000\n",
              "Name: total_amount, dtype: float64"
            ]
          },
          "metadata": {},
          "execution_count": 158
        }
      ]
    },
    {
      "cell_type": "markdown",
      "source": [
        "On observe des valeurs négatives, ce qui est impossible. On les retire donc :"
      ],
      "metadata": {
        "id": "nbxMVotMYQ6f"
      }
    },
    {
      "cell_type": "code",
      "source": [
        "data = data[data[\"total_amount\"] > 0]"
      ],
      "metadata": {
        "id": "0A9oKnjWYa1o"
      },
      "execution_count": 159,
      "outputs": []
    },
    {
      "cell_type": "code",
      "source": [
        "sns.boxplot(y=data[\"total_amount\"])"
      ],
      "metadata": {
        "colab": {
          "base_uri": "https://localhost:8080/",
          "height": 266
        },
        "id": "tj9vb_gBYgE_",
        "outputId": "56c4eb1f-1724-46bf-9150-2c6034b2b4c9"
      },
      "execution_count": 160,
      "outputs": [
        {
          "output_type": "execute_result",
          "data": {
            "text/plain": [
              "<matplotlib.axes._subplots.AxesSubplot at 0x7f1cd582a0d0>"
            ]
          },
          "metadata": {},
          "execution_count": 160
        },
        {
          "output_type": "display_data",
          "data": {
            "text/plain": [
              "<Figure size 432x288 with 1 Axes>"
            ],
            "image/png": "[encoded data removed]"
          },
          "metadata": {}
        }
      ]
    },
    {
      "cell_type": "code",
      "source": [
        "sns.scatterplot(x=range(data[\"total_amount\"].size), y=data[\"total_amount\"])"
      ],
      "metadata": {
        "colab": {
          "base_uri": "https://localhost:8080/",
          "height": 286
        },
        "id": "N_vkEZNeZOfI",
        "outputId": "1d1601d4-9ba4-43f3-bac8-e1fdac7b86f8"
      },
      "execution_count": 161,
      "outputs": [
        {
          "output_type": "execute_result",
          "data": {
            "text/plain": [
              "<matplotlib.axes._subplots.AxesSubplot at 0x7f1cd5800110>"
            ]
          },
          "metadata": {},
          "execution_count": 161
        },
        {
          "output_type": "display_data",
          "data": {
            "text/plain": [
              "<Figure size 432x288 with 1 Axes>"
            ],
            "image/png": "[encoded data removed]"
          },
          "metadata": {}
        }
      ]
    },
    {
      "cell_type": "markdown",
      "source": [
        "De même on observe encore beaucoup de valeurs atypiques que l'on garde en attente de standardisation durant la phase de modélisation.\n"
      ],
      "metadata": {
        "id": "eRM1YvuBZMt4"
      }
    },
    {
      "cell_type": "code",
      "source": [
        "data.shape"
      ],
      "metadata": {
        "colab": {
          "base_uri": "https://localhost:8080/"
        },
        "id": "WSL6i5nPZ2jY",
        "outputId": "fc7bbf6f-3476-4269-bd46-029a960a1095"
      },
      "execution_count": 162,
      "outputs": [
        {
          "output_type": "execute_result",
          "data": {
            "text/plain": [
              "(269598, 12)"
            ]
          },
          "metadata": {},
          "execution_count": 162
        }
      ]
    },
    {
      "cell_type": "markdown",
      "source": [
        "On a désormais un dataset composé de 269 598 individus purgé des valeurs aberrantes, on peut passer à la phase d'analyse exploratoire.\n",
        "\n",
        "On exporte le dataset nettoyé :"
      ],
      "metadata": {
        "id": "tMx12B7kaCvw"
      }
    },
    {
      "cell_type": "code",
      "source": [
        "data.to_csv(\"cleaned_dataset.csv\", index=False)"
      ],
      "metadata": {
        "id": "AO08GNWsap1g"
      },
      "execution_count": 163,
      "outputs": []
    }
  ],
  "metadata": {
    "interpreter": {
      "hash": "a707b6ce8c685eb936424fcc3009d4b4b7a52543c4db09380a3fc49186ceb509"
    },
    "kernelspec": {
      "display_name": "Python 3.8.8 ('base')",
      "language": "python",
      "name": "python3"
    },
    "language_info": {
      "codemirror_mode": {
        "name": "ipython",
        "version": 3
      },
      "file_extension": ".py",
      "mimetype": "text/x-python",
      "name": "python",
      "nbconvert_exporter": "python",
      "pygments_lexer": "ipython3",
      "version": "3.8.8"
    },
    "orig_nbformat": 4,
    "colab": {
      "name": "data_cleaning.ipynb",
      "provenance": [],
      "collapsed_sections": [],
      "include_colab_link": true
    }
  },
  "nbformat": 4,
  "nbformat_minor": 0
}