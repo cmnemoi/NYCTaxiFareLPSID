{
  "cells": [
    {
      "cell_type": "markdown",
      "metadata": {
        "id": "view-in-github",
        "colab_type": "text"
      },
      "source": [
        "<a href=\"https://colab.research.google.com/github/cmnemoi/ProjetDataScienceLPSID/blob/main/src/data_cleaning.ipynb\" target=\"_parent\"><img src=\"https://colab.research.google.com/assets/colab-badge.svg\" alt=\"Open In Colab\"/></a>"
      ]
    },
    {
      "cell_type": "markdown",
      "metadata": {
        "id": "4kkdzUGmnlBy"
      },
      "source": [
        "# Projet Data Science - Nettoyage des données\n",
        "### Enzo Risbetz et Charles-Meldhine MADI MNEMOI\n"
      ]
    },
    {
      "cell_type": "markdown",
      "source": [
        "Cette étape consiste à télécharger les données et ensuite les nettoyer, à supprimer les colonnes indésirables, à convertir certaine variable si nécessaire. "
      ],
      "metadata": {
        "id": "JWailZynaJNX"
      }
    },
    {
      "cell_type": "markdown",
      "source": [
        " ### Méthode d’extraction des données :\n",
        "\n",
        "Nous avons téléchargé le fichier Excel provenant du site : https://www1.nyc.gov/site/tlc/about/tlc-trip-record-data.page Les données sont celle du mois de Mai pour l’année 2020.\n"
      ],
      "metadata": {
        "id": "4g7bCQ5xW9-b"
      }
    },
    {
      "cell_type": "markdown",
      "metadata": {
        "id": "ceOtRPx_nlB0"
      },
      "source": [
        "### Importation des packages et des données"
      ]
    },
    {
      "cell_type": "code",
      "execution_count": 40,
      "metadata": {
        "id": "qTdUNZM7nlB0"
      },
      "outputs": [],
      "source": [
        "import math\n",
        "import numpy as np\n",
        "import pandas as pd\n",
        "import matplotlib.pyplot as plt\n",
        "import seaborn as sns\n",
        "sns.set()"
      ]
    },
    {
      "cell_type": "code",
      "execution_count": 41,
      "metadata": {
        "id": "ZS9uwVhYnlB1",
        "outputId": "85b785c5-f671-4214-9541-45a79c4c66ea",
        "colab": {
          "base_uri": "https://localhost:8080/"
        }
      },
      "outputs": [
        {
          "output_type": "stream",
          "name": "stderr",
          "text": [
            "/usr/local/lib/python3.7/dist-packages/IPython/core/interactiveshell.py:2882: DtypeWarning: Columns (6) have mixed types.Specify dtype option on import or set low_memory=False.\n",
            "  exec(code_obj, self.user_global_ns, self.user_ns)\n"
          ]
        }
      ],
      "source": [
        "data = pd.read_csv(\"https://raw.githubusercontent.com/cmnemoi/ProjetDataScienceLPSID/data_cleaning/data/data.csv\")"
      ]
    },
    {
      "cell_type": "code",
      "execution_count": 42,
      "metadata": {
        "id": "ts5112sqnlB3",
        "outputId": "37628caa-0123-4919-b216-54c1f26fe9fc",
        "colab": {
          "base_uri": "https://localhost:8080/"
        }
      },
      "outputs": [
        {
          "output_type": "execute_result",
          "data": {
            "text/plain": [
              "Index(['VendorID', 'tpep_pickup_datetime', 'tpep_dropoff_datetime',\n",
              "       'passenger_count', 'trip_distance', 'RatecodeID', 'store_and_fwd_flag',\n",
              "       'PULocationID', 'DOLocationID', 'payment_type', 'fare_amount', 'extra',\n",
              "       'mta_tax', 'tip_amount', 'tolls_amount', 'improvement_surcharge',\n",
              "       'total_amount', 'congestion_surcharge'],\n",
              "      dtype='object')"
            ]
          },
          "metadata": {},
          "execution_count": 42
        }
      ],
      "source": [
        "data.columns"
      ]
    },
    {
      "cell_type": "code",
      "source": [
        "data.head(5)"
      ],
      "metadata": {
        "id": "3uGNb1sZpekZ",
        "outputId": "6833ba2d-20aa-4704-a996-03f085258b8c",
        "colab": {
          "base_uri": "https://localhost:8080/",
          "height": 270
        }
      },
      "execution_count": 43,
      "outputs": [
        {
          "output_type": "execute_result",
          "data": {
            "text/plain": [
              "   VendorID tpep_pickup_datetime tpep_dropoff_datetime  passenger_count  \\\n",
              "0       1.0  2020-05-01 00:02:28   2020-05-01 00:18:07              1.0   \n",
              "1       1.0  2020-05-01 00:23:21   2020-05-01 00:26:01              2.0   \n",
              "2       1.0  2020-05-01 00:54:58   2020-05-01 00:57:11              1.0   \n",
              "3       1.0  2020-05-01 00:07:10   2020-05-01 00:12:46              1.0   \n",
              "4       1.0  2020-05-01 00:55:47   2020-05-01 01:01:54              0.0   \n",
              "\n",
              "   trip_distance  RatecodeID store_and_fwd_flag  PULocationID  DOLocationID  \\\n",
              "0            0.0         1.0                  N           234           256   \n",
              "1            0.4         1.0                  N           264           264   \n",
              "2            0.3         1.0                  N           264           264   \n",
              "3            1.7         1.0                  N           107           229   \n",
              "4            0.9         1.0                  N           237           262   \n",
              "\n",
              "   payment_type  fare_amount  extra  mta_tax  tip_amount  tolls_amount  \\\n",
              "0           1.0         12.2    3.0      0.5         2.4           0.0   \n",
              "1           1.0          4.0    0.5      0.5         0.5           0.0   \n",
              "2           2.0          3.5    0.5      0.5         0.0           0.0   \n",
              "3           2.0          7.0    3.0      0.5         0.0           0.0   \n",
              "4           1.0          6.0    3.0      0.5         1.2           0.0   \n",
              "\n",
              "   improvement_surcharge  total_amount  congestion_surcharge  \n",
              "0                    0.3          18.4                   2.5  \n",
              "1                    0.3           5.8                   0.0  \n",
              "2                    0.3           4.8                   0.0  \n",
              "3                    0.3          10.8                   2.5  \n",
              "4                    0.3          11.0                   2.5  "
            ],
            "text/html": [
              "\n",
              "  <div id=\"df-c450fb5d-a405-4031-9055-9b32625d8f98\">\n",
              "    <div class=\"colab-df-container\">\n",
              "      <div>\n",
              "<style scoped>\n",
              "    .dataframe tbody tr th:only-of-type {\n",
              "        vertical-align: middle;\n",
              "    }\n",
              "\n",
              "    .dataframe tbody tr th {\n",
              "        vertical-align: top;\n",
              "    }\n",
              "\n",
              "    .dataframe thead th {\n",
              "        text-align: right;\n",
              "    }\n",
              "</style>\n",
              "<table border=\"1\" class=\"dataframe\">\n",
              "  <thead>\n",
              "    <tr style=\"text-align: right;\">\n",
              "      <th></th>\n",
              "      <th>VendorID</th>\n",
              "      <th>tpep_pickup_datetime</th>\n",
              "      <th>tpep_dropoff_datetime</th>\n",
              "      <th>passenger_count</th>\n",
              "      <th>trip_distance</th>\n",
              "      <th>RatecodeID</th>\n",
              "      <th>store_and_fwd_flag</th>\n",
              "      <th>PULocationID</th>\n",
              "      <th>DOLocationID</th>\n",
              "      <th>payment_type</th>\n",
              "      <th>fare_amount</th>\n",
              "      <th>extra</th>\n",
              "      <th>mta_tax</th>\n",
              "      <th>tip_amount</th>\n",
              "      <th>tolls_amount</th>\n",
              "      <th>improvement_surcharge</th>\n",
              "      <th>total_amount</th>\n",
              "      <th>congestion_surcharge</th>\n",
              "    </tr>\n",
              "  </thead>\n",
              "  <tbody>\n",
              "    <tr>\n",
              "      <th>0</th>\n",
              "      <td>1.0</td>\n",
              "      <td>2020-05-01 00:02:28</td>\n",
              "      <td>2020-05-01 00:18:07</td>\n",
              "      <td>1.0</td>\n",
              "      <td>0.0</td>\n",
              "      <td>1.0</td>\n",
              "      <td>N</td>\n",
              "      <td>234</td>\n",
              "      <td>256</td>\n",
              "      <td>1.0</td>\n",
              "      <td>12.2</td>\n",
              "      <td>3.0</td>\n",
              "      <td>0.5</td>\n",
              "      <td>2.4</td>\n",
              "      <td>0.0</td>\n",
              "      <td>0.3</td>\n",
              "      <td>18.4</td>\n",
              "      <td>2.5</td>\n",
              "    </tr>\n",
              "    <tr>\n",
              "      <th>1</th>\n",
              "      <td>1.0</td>\n",
              "      <td>2020-05-01 00:23:21</td>\n",
              "      <td>2020-05-01 00:26:01</td>\n",
              "      <td>2.0</td>\n",
              "      <td>0.4</td>\n",
              "      <td>1.0</td>\n",
              "      <td>N</td>\n",
              "      <td>264</td>\n",
              "      <td>264</td>\n",
              "      <td>1.0</td>\n",
              "      <td>4.0</td>\n",
              "      <td>0.5</td>\n",
              "      <td>0.5</td>\n",
              "      <td>0.5</td>\n",
              "      <td>0.0</td>\n",
              "      <td>0.3</td>\n",
              "      <td>5.8</td>\n",
              "      <td>0.0</td>\n",
              "    </tr>\n",
              "    <tr>\n",
              "      <th>2</th>\n",
              "      <td>1.0</td>\n",
              "      <td>2020-05-01 00:54:58</td>\n",
              "      <td>2020-05-01 00:57:11</td>\n",
              "      <td>1.0</td>\n",
              "      <td>0.3</td>\n",
              "      <td>1.0</td>\n",
              "      <td>N</td>\n",
              "      <td>264</td>\n",
              "      <td>264</td>\n",
              "      <td>2.0</td>\n",
              "      <td>3.5</td>\n",
              "      <td>0.5</td>\n",
              "      <td>0.5</td>\n",
              "      <td>0.0</td>\n",
              "      <td>0.0</td>\n",
              "      <td>0.3</td>\n",
              "      <td>4.8</td>\n",
              "      <td>0.0</td>\n",
              "    </tr>\n",
              "    <tr>\n",
              "      <th>3</th>\n",
              "      <td>1.0</td>\n",
              "      <td>2020-05-01 00:07:10</td>\n",
              "      <td>2020-05-01 00:12:46</td>\n",
              "      <td>1.0</td>\n",
              "      <td>1.7</td>\n",
              "      <td>1.0</td>\n",
              "      <td>N</td>\n",
              "      <td>107</td>\n",
              "      <td>229</td>\n",
              "      <td>2.0</td>\n",
              "      <td>7.0</td>\n",
              "      <td>3.0</td>\n",
              "      <td>0.5</td>\n",
              "      <td>0.0</td>\n",
              "      <td>0.0</td>\n",
              "      <td>0.3</td>\n",
              "      <td>10.8</td>\n",
              "      <td>2.5</td>\n",
              "    </tr>\n",
              "    <tr>\n",
              "      <th>4</th>\n",
              "      <td>1.0</td>\n",
              "      <td>2020-05-01 00:55:47</td>\n",
              "      <td>2020-05-01 01:01:54</td>\n",
              "      <td>0.0</td>\n",
              "      <td>0.9</td>\n",
              "      <td>1.0</td>\n",
              "      <td>N</td>\n",
              "      <td>237</td>\n",
              "      <td>262</td>\n",
              "      <td>1.0</td>\n",
              "      <td>6.0</td>\n",
              "      <td>3.0</td>\n",
              "      <td>0.5</td>\n",
              "      <td>1.2</td>\n",
              "      <td>0.0</td>\n",
              "      <td>0.3</td>\n",
              "      <td>11.0</td>\n",
              "      <td>2.5</td>\n",
              "    </tr>\n",
              "  </tbody>\n",
              "</table>\n",
              "</div>\n",
              "      <button class=\"colab-df-convert\" onclick=\"convertToInteractive('df-c450fb5d-a405-4031-9055-9b32625d8f98')\"\n",
              "              title=\"Convert this dataframe to an interactive table.\"\n",
              "              style=\"display:none;\">\n",
              "        \n",
              "  <svg xmlns=\"http://www.w3.org/2000/svg\" height=\"24px\"viewBox=\"0 0 24 24\"\n",
              "       width=\"24px\">\n",
              "    <path d=\"M0 0h24v24H0V0z\" fill=\"none\"/>\n",
              "    <path d=\"M18.56 5.44l.94 2.06.94-2.06 2.06-.94-2.06-.94-.94-2.06-.94 2.06-2.06.94zm-11 1L8.5 8.5l.94-2.06 2.06-.94-2.06-.94L8.5 2.5l-.94 2.06-2.06.94zm10 10l.94 2.06.94-2.06 2.06-.94-2.06-.94-.94-2.06-.94 2.06-2.06.94z\"/><path d=\"M17.41 7.96l-1.37-1.37c-.4-.4-.92-.59-1.43-.59-.52 0-1.04.2-1.43.59L10.3 9.45l-7.72 7.72c-.78.78-.78 2.05 0 2.83L4 21.41c.39.39.9.59 1.41.59.51 0 1.02-.2 1.41-.59l7.78-7.78 2.81-2.81c.8-.78.8-2.07 0-2.86zM5.41 20L4 18.59l7.72-7.72 1.47 1.35L5.41 20z\"/>\n",
              "  </svg>\n",
              "      </button>\n",
              "      \n",
              "  <style>\n",
              "    .colab-df-container {\n",
              "      display:flex;\n",
              "      flex-wrap:wrap;\n",
              "      gap: 12px;\n",
              "    }\n",
              "\n",
              "    .colab-df-convert {\n",
              "      background-color: #E8F0FE;\n",
              "      border: none;\n",
              "      border-radius: 50%;\n",
              "      cursor: pointer;\n",
              "      display: none;\n",
              "      fill: #1967D2;\n",
              "      height: 32px;\n",
              "      padding: 0 0 0 0;\n",
              "      width: 32px;\n",
              "    }\n",
              "\n",
              "    .colab-df-convert:hover {\n",
              "      background-color: #E2EBFA;\n",
              "      box-shadow: 0px 1px 2px rgba(60, 64, 67, 0.3), 0px 1px 3px 1px rgba(60, 64, 67, 0.15);\n",
              "      fill: #174EA6;\n",
              "    }\n",
              "\n",
              "    [theme=dark] .colab-df-convert {\n",
              "      background-color: #3B4455;\n",
              "      fill: #D2E3FC;\n",
              "    }\n",
              "\n",
              "    [theme=dark] .colab-df-convert:hover {\n",
              "      background-color: #434B5C;\n",
              "      box-shadow: 0px 1px 3px 1px rgba(0, 0, 0, 0.15);\n",
              "      filter: drop-shadow(0px 1px 2px rgba(0, 0, 0, 0.3));\n",
              "      fill: #FFFFFF;\n",
              "    }\n",
              "  </style>\n",
              "\n",
              "      <script>\n",
              "        const buttonEl =\n",
              "          document.querySelector('#df-c450fb5d-a405-4031-9055-9b32625d8f98 button.colab-df-convert');\n",
              "        buttonEl.style.display =\n",
              "          google.colab.kernel.accessAllowed ? 'block' : 'none';\n",
              "\n",
              "        async function convertToInteractive(key) {\n",
              "          const element = document.querySelector('#df-c450fb5d-a405-4031-9055-9b32625d8f98');\n",
              "          const dataTable =\n",
              "            await google.colab.kernel.invokeFunction('convertToInteractive',\n",
              "                                                     [key], {});\n",
              "          if (!dataTable) return;\n",
              "\n",
              "          const docLinkHtml = 'Like what you see? Visit the ' +\n",
              "            '<a target=\"_blank\" href=https://colab.research.google.com/notebooks/data_table.ipynb>data table notebook</a>'\n",
              "            + ' to learn more about interactive tables.';\n",
              "          element.innerHTML = '';\n",
              "          dataTable['output_type'] = 'display_data';\n",
              "          await google.colab.output.renderOutput(dataTable, element);\n",
              "          const docLink = document.createElement('div');\n",
              "          docLink.innerHTML = docLinkHtml;\n",
              "          element.appendChild(docLink);\n",
              "        }\n",
              "      </script>\n",
              "    </div>\n",
              "  </div>\n",
              "  "
            ]
          },
          "metadata": {},
          "execution_count": 43
        }
      ]
    },
    {
      "cell_type": "markdown",
      "source": [
        "On remarque notamment à l'aide du dictionnaire des variables que la variable à prédire `Total_amount` est la somme des variables suivantes : `fare_amount`, `extra`, `mta_tax`, `tip_amount`, `tolls_amount`, `improvement_surcharge` et `congestion_surcharge`. \n",
        "Les introduire dans notre modèle de prédiction n'est pas très pertinent, on les retire donc."
      ],
      "metadata": {
        "id": "pBlumc3ppaDY"
      }
    },
    {
      "cell_type": "code",
      "source": [
        "data = data.drop([\"fare_amount\", \"extra\", \"mta_tax\", \"tip_amount\", \"tolls_amount\", \"improvement_surcharge\", \"congestion_surcharge\"], axis=1)"
      ],
      "metadata": {
        "id": "XTPhDAcuq3Zm"
      },
      "execution_count": 44,
      "outputs": []
    },
    {
      "cell_type": "markdown",
      "source": [
        "On remarque également les variables `PULocationID` et `DOLocationID`, qui sont les zones de début et de fin de course. \n",
        "Utilisons un dataset qui répertorie les libellés de ces zones pour les fusionner avec notre dataset :"
      ],
      "metadata": {
        "id": "jqJ9wBMBkxSF"
      }
    },
    {
      "cell_type": "code",
      "source": [
        "TLC_lookup_zones = pd.read_csv(\"https://s3.amazonaws.com/nyc-tlc/misc/taxi+_zone_lookup.csv\")\n",
        "TLC_lookup_zones[\"PULocationID\"] = TLC_lookup_zones[\"LocationID\"]\n",
        "TLC_lookup_zones[\"DOLocationID\"] = TLC_lookup_zones[\"LocationID\"]\n",
        "TLC_lookup_zones.head()"
      ],
      "metadata": {
        "colab": {
          "base_uri": "https://localhost:8080/",
          "height": 206
        },
        "id": "J3lOM5Csk5pk",
        "outputId": "339d3708-20bb-48a4-d3de-6292947af277"
      },
      "execution_count": 45,
      "outputs": [
        {
          "output_type": "execute_result",
          "data": {
            "text/plain": [
              "   LocationID        Borough                     Zone service_zone  \\\n",
              "0           1            EWR           Newark Airport          EWR   \n",
              "1           2         Queens              Jamaica Bay    Boro Zone   \n",
              "2           3          Bronx  Allerton/Pelham Gardens    Boro Zone   \n",
              "3           4      Manhattan            Alphabet City  Yellow Zone   \n",
              "4           5  Staten Island            Arden Heights    Boro Zone   \n",
              "\n",
              "   PULocationID  DOLocationID  \n",
              "0             1             1  \n",
              "1             2             2  \n",
              "2             3             3  \n",
              "3             4             4  \n",
              "4             5             5  "
            ],
            "text/html": [
              "\n",
              "  <div id=\"df-3605ca03-9262-4d7f-87e3-58e09e16e8d3\">\n",
              "    <div class=\"colab-df-container\">\n",
              "      <div>\n",
              "<style scoped>\n",
              "    .dataframe tbody tr th:only-of-type {\n",
              "        vertical-align: middle;\n",
              "    }\n",
              "\n",
              "    .dataframe tbody tr th {\n",
              "        vertical-align: top;\n",
              "    }\n",
              "\n",
              "    .dataframe thead th {\n",
              "        text-align: right;\n",
              "    }\n",
              "</style>\n",
              "<table border=\"1\" class=\"dataframe\">\n",
              "  <thead>\n",
              "    <tr style=\"text-align: right;\">\n",
              "      <th></th>\n",
              "      <th>LocationID</th>\n",
              "      <th>Borough</th>\n",
              "      <th>Zone</th>\n",
              "      <th>service_zone</th>\n",
              "      <th>PULocationID</th>\n",
              "      <th>DOLocationID</th>\n",
              "    </tr>\n",
              "  </thead>\n",
              "  <tbody>\n",
              "    <tr>\n",
              "      <th>0</th>\n",
              "      <td>1</td>\n",
              "      <td>EWR</td>\n",
              "      <td>Newark Airport</td>\n",
              "      <td>EWR</td>\n",
              "      <td>1</td>\n",
              "      <td>1</td>\n",
              "    </tr>\n",
              "    <tr>\n",
              "      <th>1</th>\n",
              "      <td>2</td>\n",
              "      <td>Queens</td>\n",
              "      <td>Jamaica Bay</td>\n",
              "      <td>Boro Zone</td>\n",
              "      <td>2</td>\n",
              "      <td>2</td>\n",
              "    </tr>\n",
              "    <tr>\n",
              "      <th>2</th>\n",
              "      <td>3</td>\n",
              "      <td>Bronx</td>\n",
              "      <td>Allerton/Pelham Gardens</td>\n",
              "      <td>Boro Zone</td>\n",
              "      <td>3</td>\n",
              "      <td>3</td>\n",
              "    </tr>\n",
              "    <tr>\n",
              "      <th>3</th>\n",
              "      <td>4</td>\n",
              "      <td>Manhattan</td>\n",
              "      <td>Alphabet City</td>\n",
              "      <td>Yellow Zone</td>\n",
              "      <td>4</td>\n",
              "      <td>4</td>\n",
              "    </tr>\n",
              "    <tr>\n",
              "      <th>4</th>\n",
              "      <td>5</td>\n",
              "      <td>Staten Island</td>\n",
              "      <td>Arden Heights</td>\n",
              "      <td>Boro Zone</td>\n",
              "      <td>5</td>\n",
              "      <td>5</td>\n",
              "    </tr>\n",
              "  </tbody>\n",
              "</table>\n",
              "</div>\n",
              "      <button class=\"colab-df-convert\" onclick=\"convertToInteractive('df-3605ca03-9262-4d7f-87e3-58e09e16e8d3')\"\n",
              "              title=\"Convert this dataframe to an interactive table.\"\n",
              "              style=\"display:none;\">\n",
              "        \n",
              "  <svg xmlns=\"http://www.w3.org/2000/svg\" height=\"24px\"viewBox=\"0 0 24 24\"\n",
              "       width=\"24px\">\n",
              "    <path d=\"M0 0h24v24H0V0z\" fill=\"none\"/>\n",
              "    <path d=\"M18.56 5.44l.94 2.06.94-2.06 2.06-.94-2.06-.94-.94-2.06-.94 2.06-2.06.94zm-11 1L8.5 8.5l.94-2.06 2.06-.94-2.06-.94L8.5 2.5l-.94 2.06-2.06.94zm10 10l.94 2.06.94-2.06 2.06-.94-2.06-.94-.94-2.06-.94 2.06-2.06.94z\"/><path d=\"M17.41 7.96l-1.37-1.37c-.4-.4-.92-.59-1.43-.59-.52 0-1.04.2-1.43.59L10.3 9.45l-7.72 7.72c-.78.78-.78 2.05 0 2.83L4 21.41c.39.39.9.59 1.41.59.51 0 1.02-.2 1.41-.59l7.78-7.78 2.81-2.81c.8-.78.8-2.07 0-2.86zM5.41 20L4 18.59l7.72-7.72 1.47 1.35L5.41 20z\"/>\n",
              "  </svg>\n",
              "      </button>\n",
              "      \n",
              "  <style>\n",
              "    .colab-df-container {\n",
              "      display:flex;\n",
              "      flex-wrap:wrap;\n",
              "      gap: 12px;\n",
              "    }\n",
              "\n",
              "    .colab-df-convert {\n",
              "      background-color: #E8F0FE;\n",
              "      border: none;\n",
              "      border-radius: 50%;\n",
              "      cursor: pointer;\n",
              "      display: none;\n",
              "      fill: #1967D2;\n",
              "      height: 32px;\n",
              "      padding: 0 0 0 0;\n",
              "      width: 32px;\n",
              "    }\n",
              "\n",
              "    .colab-df-convert:hover {\n",
              "      background-color: #E2EBFA;\n",
              "      box-shadow: 0px 1px 2px rgba(60, 64, 67, 0.3), 0px 1px 3px 1px rgba(60, 64, 67, 0.15);\n",
              "      fill: #174EA6;\n",
              "    }\n",
              "\n",
              "    [theme=dark] .colab-df-convert {\n",
              "      background-color: #3B4455;\n",
              "      fill: #D2E3FC;\n",
              "    }\n",
              "\n",
              "    [theme=dark] .colab-df-convert:hover {\n",
              "      background-color: #434B5C;\n",
              "      box-shadow: 0px 1px 3px 1px rgba(0, 0, 0, 0.15);\n",
              "      filter: drop-shadow(0px 1px 2px rgba(0, 0, 0, 0.3));\n",
              "      fill: #FFFFFF;\n",
              "    }\n",
              "  </style>\n",
              "\n",
              "      <script>\n",
              "        const buttonEl =\n",
              "          document.querySelector('#df-3605ca03-9262-4d7f-87e3-58e09e16e8d3 button.colab-df-convert');\n",
              "        buttonEl.style.display =\n",
              "          google.colab.kernel.accessAllowed ? 'block' : 'none';\n",
              "\n",
              "        async function convertToInteractive(key) {\n",
              "          const element = document.querySelector('#df-3605ca03-9262-4d7f-87e3-58e09e16e8d3');\n",
              "          const dataTable =\n",
              "            await google.colab.kernel.invokeFunction('convertToInteractive',\n",
              "                                                     [key], {});\n",
              "          if (!dataTable) return;\n",
              "\n",
              "          const docLinkHtml = 'Like what you see? Visit the ' +\n",
              "            '<a target=\"_blank\" href=https://colab.research.google.com/notebooks/data_table.ipynb>data table notebook</a>'\n",
              "            + ' to learn more about interactive tables.';\n",
              "          element.innerHTML = '';\n",
              "          dataTable['output_type'] = 'display_data';\n",
              "          await google.colab.output.renderOutput(dataTable, element);\n",
              "          const docLink = document.createElement('div');\n",
              "          docLink.innerHTML = docLinkHtml;\n",
              "          element.appendChild(docLink);\n",
              "        }\n",
              "      </script>\n",
              "    </div>\n",
              "  </div>\n",
              "  "
            ]
          },
          "metadata": {},
          "execution_count": 45
        }
      ]
    },
    {
      "cell_type": "code",
      "source": [
        "#on fait des inner join\n",
        "data = pd.merge(data, TLC_lookup_zones[[\"PULocationID\", \"Zone\"]], on=\"PULocationID\", how=\"inner\")\n",
        "data[\"PULocationLabel\"] = data[\"Zone\"]\n",
        "data.head()\n",
        "data = data.drop(\"Zone\", axis=1)\n",
        "data = pd.merge(data, TLC_lookup_zones[[\"DOLocationID\", \"Zone\"]], on=\"DOLocationID\", how=\"inner\")\n",
        "data[\"DOLocationLabel\"] = data[\"Zone\"]\n",
        "data = data.drop(\"Zone\", axis=1)\n",
        "data.head()"
      ],
      "metadata": {
        "colab": {
          "base_uri": "https://localhost:8080/",
          "height": 357
        },
        "id": "WHKF9J3znpuO",
        "outputId": "7342ba35-b250-4763-c09e-d76d6431a17d"
      },
      "execution_count": 46,
      "outputs": [
        {
          "output_type": "execute_result",
          "data": {
            "text/plain": [
              "   VendorID tpep_pickup_datetime tpep_dropoff_datetime  passenger_count  \\\n",
              "0       1.0  2020-05-01 00:02:28   2020-05-01 00:18:07              1.0   \n",
              "1       1.0  2020-05-01 16:25:12   2020-05-01 16:45:33              1.0   \n",
              "2       2.0  2020-05-06 12:58:26   2020-05-06 13:16:11              5.0   \n",
              "3       1.0  2020-05-06 17:22:10   2020-05-06 17:38:17              1.0   \n",
              "4       2.0  2020-05-07 13:03:37   2020-05-07 13:21:53              2.0   \n",
              "\n",
              "   trip_distance  RatecodeID store_and_fwd_flag  PULocationID  DOLocationID  \\\n",
              "0           0.00         1.0                  N           234           256   \n",
              "1           4.30         1.0                  N           234           256   \n",
              "2           3.89         1.0                  N           234           256   \n",
              "3           3.80         1.0                  N           234           256   \n",
              "4           4.97         1.0                  N           234           256   \n",
              "\n",
              "   payment_type  total_amount PULocationLabel            DOLocationLabel  \n",
              "0           1.0         18.40        Union Sq  Williamsburg (South Side)  \n",
              "1           1.0         23.98        Union Sq  Williamsburg (South Side)  \n",
              "2           1.0         22.56        Union Sq  Williamsburg (South Side)  \n",
              "3           1.0         21.80        Union Sq  Williamsburg (South Side)  \n",
              "4           1.0         24.36        Union Sq  Williamsburg (South Side)  "
            ],
            "text/html": [
              "\n",
              "  <div id=\"df-e9236f2d-b315-4c8d-8f28-d7f06575155a\">\n",
              "    <div class=\"colab-df-container\">\n",
              "      <div>\n",
              "<style scoped>\n",
              "    .dataframe tbody tr th:only-of-type {\n",
              "        vertical-align: middle;\n",
              "    }\n",
              "\n",
              "    .dataframe tbody tr th {\n",
              "        vertical-align: top;\n",
              "    }\n",
              "\n",
              "    .dataframe thead th {\n",
              "        text-align: right;\n",
              "    }\n",
              "</style>\n",
              "<table border=\"1\" class=\"dataframe\">\n",
              "  <thead>\n",
              "    <tr style=\"text-align: right;\">\n",
              "      <th></th>\n",
              "      <th>VendorID</th>\n",
              "      <th>tpep_pickup_datetime</th>\n",
              "      <th>tpep_dropoff_datetime</th>\n",
              "      <th>passenger_count</th>\n",
              "      <th>trip_distance</th>\n",
              "      <th>RatecodeID</th>\n",
              "      <th>store_and_fwd_flag</th>\n",
              "      <th>PULocationID</th>\n",
              "      <th>DOLocationID</th>\n",
              "      <th>payment_type</th>\n",
              "      <th>total_amount</th>\n",
              "      <th>PULocationLabel</th>\n",
              "      <th>DOLocationLabel</th>\n",
              "    </tr>\n",
              "  </thead>\n",
              "  <tbody>\n",
              "    <tr>\n",
              "      <th>0</th>\n",
              "      <td>1.0</td>\n",
              "      <td>2020-05-01 00:02:28</td>\n",
              "      <td>2020-05-01 00:18:07</td>\n",
              "      <td>1.0</td>\n",
              "      <td>0.00</td>\n",
              "      <td>1.0</td>\n",
              "      <td>N</td>\n",
              "      <td>234</td>\n",
              "      <td>256</td>\n",
              "      <td>1.0</td>\n",
              "      <td>18.40</td>\n",
              "      <td>Union Sq</td>\n",
              "      <td>Williamsburg (South Side)</td>\n",
              "    </tr>\n",
              "    <tr>\n",
              "      <th>1</th>\n",
              "      <td>1.0</td>\n",
              "      <td>2020-05-01 16:25:12</td>\n",
              "      <td>2020-05-01 16:45:33</td>\n",
              "      <td>1.0</td>\n",
              "      <td>4.30</td>\n",
              "      <td>1.0</td>\n",
              "      <td>N</td>\n",
              "      <td>234</td>\n",
              "      <td>256</td>\n",
              "      <td>1.0</td>\n",
              "      <td>23.98</td>\n",
              "      <td>Union Sq</td>\n",
              "      <td>Williamsburg (South Side)</td>\n",
              "    </tr>\n",
              "    <tr>\n",
              "      <th>2</th>\n",
              "      <td>2.0</td>\n",
              "      <td>2020-05-06 12:58:26</td>\n",
              "      <td>2020-05-06 13:16:11</td>\n",
              "      <td>5.0</td>\n",
              "      <td>3.89</td>\n",
              "      <td>1.0</td>\n",
              "      <td>N</td>\n",
              "      <td>234</td>\n",
              "      <td>256</td>\n",
              "      <td>1.0</td>\n",
              "      <td>22.56</td>\n",
              "      <td>Union Sq</td>\n",
              "      <td>Williamsburg (South Side)</td>\n",
              "    </tr>\n",
              "    <tr>\n",
              "      <th>3</th>\n",
              "      <td>1.0</td>\n",
              "      <td>2020-05-06 17:22:10</td>\n",
              "      <td>2020-05-06 17:38:17</td>\n",
              "      <td>1.0</td>\n",
              "      <td>3.80</td>\n",
              "      <td>1.0</td>\n",
              "      <td>N</td>\n",
              "      <td>234</td>\n",
              "      <td>256</td>\n",
              "      <td>1.0</td>\n",
              "      <td>21.80</td>\n",
              "      <td>Union Sq</td>\n",
              "      <td>Williamsburg (South Side)</td>\n",
              "    </tr>\n",
              "    <tr>\n",
              "      <th>4</th>\n",
              "      <td>2.0</td>\n",
              "      <td>2020-05-07 13:03:37</td>\n",
              "      <td>2020-05-07 13:21:53</td>\n",
              "      <td>2.0</td>\n",
              "      <td>4.97</td>\n",
              "      <td>1.0</td>\n",
              "      <td>N</td>\n",
              "      <td>234</td>\n",
              "      <td>256</td>\n",
              "      <td>1.0</td>\n",
              "      <td>24.36</td>\n",
              "      <td>Union Sq</td>\n",
              "      <td>Williamsburg (South Side)</td>\n",
              "    </tr>\n",
              "  </tbody>\n",
              "</table>\n",
              "</div>\n",
              "      <button class=\"colab-df-convert\" onclick=\"convertToInteractive('df-e9236f2d-b315-4c8d-8f28-d7f06575155a')\"\n",
              "              title=\"Convert this dataframe to an interactive table.\"\n",
              "              style=\"display:none;\">\n",
              "        \n",
              "  <svg xmlns=\"http://www.w3.org/2000/svg\" height=\"24px\"viewBox=\"0 0 24 24\"\n",
              "       width=\"24px\">\n",
              "    <path d=\"M0 0h24v24H0V0z\" fill=\"none\"/>\n",
              "    <path d=\"M18.56 5.44l.94 2.06.94-2.06 2.06-.94-2.06-.94-.94-2.06-.94 2.06-2.06.94zm-11 1L8.5 8.5l.94-2.06 2.06-.94-2.06-.94L8.5 2.5l-.94 2.06-2.06.94zm10 10l.94 2.06.94-2.06 2.06-.94-2.06-.94-.94-2.06-.94 2.06-2.06.94z\"/><path d=\"M17.41 7.96l-1.37-1.37c-.4-.4-.92-.59-1.43-.59-.52 0-1.04.2-1.43.59L10.3 9.45l-7.72 7.72c-.78.78-.78 2.05 0 2.83L4 21.41c.39.39.9.59 1.41.59.51 0 1.02-.2 1.41-.59l7.78-7.78 2.81-2.81c.8-.78.8-2.07 0-2.86zM5.41 20L4 18.59l7.72-7.72 1.47 1.35L5.41 20z\"/>\n",
              "  </svg>\n",
              "      </button>\n",
              "      \n",
              "  <style>\n",
              "    .colab-df-container {\n",
              "      display:flex;\n",
              "      flex-wrap:wrap;\n",
              "      gap: 12px;\n",
              "    }\n",
              "\n",
              "    .colab-df-convert {\n",
              "      background-color: #E8F0FE;\n",
              "      border: none;\n",
              "      border-radius: 50%;\n",
              "      cursor: pointer;\n",
              "      display: none;\n",
              "      fill: #1967D2;\n",
              "      height: 32px;\n",
              "      padding: 0 0 0 0;\n",
              "      width: 32px;\n",
              "    }\n",
              "\n",
              "    .colab-df-convert:hover {\n",
              "      background-color: #E2EBFA;\n",
              "      box-shadow: 0px 1px 2px rgba(60, 64, 67, 0.3), 0px 1px 3px 1px rgba(60, 64, 67, 0.15);\n",
              "      fill: #174EA6;\n",
              "    }\n",
              "\n",
              "    [theme=dark] .colab-df-convert {\n",
              "      background-color: #3B4455;\n",
              "      fill: #D2E3FC;\n",
              "    }\n",
              "\n",
              "    [theme=dark] .colab-df-convert:hover {\n",
              "      background-color: #434B5C;\n",
              "      box-shadow: 0px 1px 3px 1px rgba(0, 0, 0, 0.15);\n",
              "      filter: drop-shadow(0px 1px 2px rgba(0, 0, 0, 0.3));\n",
              "      fill: #FFFFFF;\n",
              "    }\n",
              "  </style>\n",
              "\n",
              "      <script>\n",
              "        const buttonEl =\n",
              "          document.querySelector('#df-e9236f2d-b315-4c8d-8f28-d7f06575155a button.colab-df-convert');\n",
              "        buttonEl.style.display =\n",
              "          google.colab.kernel.accessAllowed ? 'block' : 'none';\n",
              "\n",
              "        async function convertToInteractive(key) {\n",
              "          const element = document.querySelector('#df-e9236f2d-b315-4c8d-8f28-d7f06575155a');\n",
              "          const dataTable =\n",
              "            await google.colab.kernel.invokeFunction('convertToInteractive',\n",
              "                                                     [key], {});\n",
              "          if (!dataTable) return;\n",
              "\n",
              "          const docLinkHtml = 'Like what you see? Visit the ' +\n",
              "            '<a target=\"_blank\" href=https://colab.research.google.com/notebooks/data_table.ipynb>data table notebook</a>'\n",
              "            + ' to learn more about interactive tables.';\n",
              "          element.innerHTML = '';\n",
              "          dataTable['output_type'] = 'display_data';\n",
              "          await google.colab.output.renderOutput(dataTable, element);\n",
              "          const docLink = document.createElement('div');\n",
              "          docLink.innerHTML = docLinkHtml;\n",
              "          element.appendChild(docLink);\n",
              "        }\n",
              "      </script>\n",
              "    </div>\n",
              "  </div>\n",
              "  "
            ]
          },
          "metadata": {},
          "execution_count": 46
        }
      ]
    },
    {
      "cell_type": "code",
      "source": [
        "data.shape"
      ],
      "metadata": {
        "id": "BgDAgMKUrKgH",
        "outputId": "3a8fb341-828f-4439-fb33-5bfb4c5b2ccc",
        "colab": {
          "base_uri": "https://localhost:8080/"
        }
      },
      "execution_count": 47,
      "outputs": [
        {
          "output_type": "execute_result",
          "data": {
            "text/plain": [
              "(348371, 13)"
            ]
          },
          "metadata": {},
          "execution_count": 47
        }
      ]
    },
    {
      "cell_type": "markdown",
      "metadata": {
        "id": "OI0t21FAnlB4"
      },
      "source": [
        "### Retrait des valeurs manquantes"
      ]
    },
    {
      "cell_type": "code",
      "source": [
        "data.isna().sum()"
      ],
      "metadata": {
        "id": "JX_NDoMcrGcP",
        "outputId": "0b0ccff0-83a0-4684-b168-61669d5ff3f9",
        "colab": {
          "base_uri": "https://localhost:8080/"
        }
      },
      "execution_count": 48,
      "outputs": [
        {
          "output_type": "execute_result",
          "data": {
            "text/plain": [
              "VendorID                 58891\n",
              "tpep_pickup_datetime         0\n",
              "tpep_dropoff_datetime        0\n",
              "passenger_count          58891\n",
              "trip_distance                0\n",
              "RatecodeID               58891\n",
              "store_and_fwd_flag       58891\n",
              "PULocationID                 0\n",
              "DOLocationID                 0\n",
              "payment_type             58891\n",
              "total_amount                 0\n",
              "PULocationLabel            619\n",
              "DOLocationLabel           2269\n",
              "dtype: int64"
            ]
          },
          "metadata": {},
          "execution_count": 48
        }
      ]
    },
    {
      "cell_type": "markdown",
      "source": [
        "On observe des valeurs manquantes dans `VendorID`, `passenger_count`, `RatecodeID`, `store_and_fwd_flag` et `payment_type`. Ces individus ne représentant que 15% du dataset, on décide de les supprimer car il nous restera toujours assez de données pour travailler par la suite."
      ],
      "metadata": {
        "id": "baL6VIqMrJOP"
      }
    },
    {
      "cell_type": "code",
      "execution_count": 49,
      "metadata": {
        "id": "-gUChItYnlB4"
      },
      "outputs": [],
      "source": [
        "data = data.dropna(subset=[\"VendorID\", \"passenger_count\", \"RatecodeID\", \"store_and_fwd_flag\", \"payment_type\"])"
      ]
    },
    {
      "cell_type": "code",
      "execution_count": 50,
      "metadata": {
        "id": "9Hcs3_f-nlB4",
        "outputId": "9be267fe-99ff-4f0a-c38e-c8ef42db1682",
        "colab": {
          "base_uri": "https://localhost:8080/"
        }
      },
      "outputs": [
        {
          "output_type": "execute_result",
          "data": {
            "text/plain": [
              "(289480, 13)"
            ]
          },
          "metadata": {},
          "execution_count": 50
        }
      ],
      "source": [
        "data.shape"
      ]
    },
    {
      "cell_type": "markdown",
      "metadata": {
        "id": "dG__tl69nlB6"
      },
      "source": [
        "### Identification des valeurs aberrantes"
      ]
    },
    {
      "cell_type": "code",
      "execution_count": 51,
      "metadata": {
        "id": "WbZbg8-tnlB6",
        "outputId": "3f280e26-3e51-4cb1-c26e-2519e81c2eae",
        "colab": {
          "base_uri": "https://localhost:8080/"
        }
      },
      "outputs": [
        {
          "output_type": "stream",
          "name": "stdout",
          "text": [
            "Valeurs uniques dans VendorID : [1. 2.]\n",
            "Valeurs uniques dans tpep_pickup_datetime : ['2008-12-31 23:05:47' '2009-01-01 00:57:36' '2009-01-01 02:19:49' ...\n",
            " '2020-11-01 15:15:05' '2020-11-01 15:26:33' '2020-11-01 15:41:04']\n",
            "Valeurs uniques dans tpep_dropoff_datetime : ['2008-12-31 23:33:33' '2009-01-01 01:05:48' '2009-01-01 02:23:35' ...\n",
            " '2020-11-01 15:23:18' '2020-11-01 15:39:04' '2020-11-01 15:57:02']\n",
            "Valeurs uniques dans passenger_count : [0. 1. 2. 3. 4. 5. 6. 8. 9.]\n",
            "Valeurs uniques dans trip_distance : [0.000000e+00 1.000000e-02 2.000000e-02 ... 2.380000e+02 3.051000e+02\n",
            " 1.097355e+04]\n",
            "Valeurs uniques dans RatecodeID : [ 1.  2.  3.  4.  5.  6. 99.]\n",
            "Valeurs uniques dans store_and_fwd_flag : ['N' 'Y']\n",
            "Valeurs uniques dans PULocationID : [  1   2   3   4   5   6   7   8   9  10  11  12  13  14  15  16  17  18\n",
            "  19  20  21  22  23  24  25  26  28  29  31  32  33  34  35  36  37  38\n",
            "  39  40  41  42  43  44  45  46  47  48  49  50  51  52  53  54  55  56\n",
            "  57  58  59  60  61  62  63  64  65  66  67  68  69  70  71  72  73  74\n",
            "  75  76  77  78  79  80  81  82  83  85  86  87  88  89  90  91  92  93\n",
            "  94  95  96  97  98 100 101 102 106 107 108 112 113 114 115 116 117 118\n",
            " 119 120 121 122 123 124 125 126 127 128 129 130 131 132 133 134 135 136\n",
            " 137 138 139 140 141 142 143 144 145 146 147 148 149 150 151 152 153 154\n",
            " 155 156 157 158 159 160 161 162 163 164 165 166 167 168 169 170 171 172\n",
            " 173 174 175 177 178 179 180 181 182 183 184 185 186 187 188 189 190 191\n",
            " 192 193 194 195 196 197 198 200 201 202 203 205 206 207 208 209 210 211\n",
            " 212 213 214 215 216 217 218 219 220 221 222 223 224 225 226 227 228 229\n",
            " 230 231 232 233 234 235 236 237 238 239 240 241 242 243 244 245 246 247\n",
            " 248 249 250 251 252 253 254 255 256 257 258 259 260 261 262 263 264 265]\n",
            "Valeurs uniques dans DOLocationID : [  1   3   4   5   6   7   8   9  10  11  12  13  14  15  16  17  18  19\n",
            "  20  21  22  23  24  25  26  27  28  29  30  31  32  33  34  35  36  37\n",
            "  38  39  40  41  42  43  44  45  46  47  48  49  50  51  52  53  54  55\n",
            "  56  57  58  59  60  61  62  63  64  65  66  67  68  69  70  71  72  73\n",
            "  74  75  76  77  78  79  80  81  82  83  84  85  86  87  88  89  90  91\n",
            "  92  93  94  95  96  97  98  99 100 101 102 106 107 108 109 112 113 114\n",
            " 115 116 117 118 119 120 121 122 123 124 125 126 127 128 129 130 131 132\n",
            " 133 134 135 136 137 138 139 140 141 142 143 144 145 146 147 148 149 150\n",
            " 151 152 153 154 155 156 157 158 159 160 161 162 163 164 165 166 167 168\n",
            " 169 170 171 172 173 174 175 176 177 178 179 180 181 182 183 184 185 186\n",
            " 187 188 189 190 191 192 193 194 195 196 197 198 200 201 202 203 204 205\n",
            " 206 207 208 209 210 211 212 213 214 215 216 217 218 219 220 221 222 223\n",
            " 224 225 226 227 228 229 230 231 232 233 234 235 236 237 238 239 240 241\n",
            " 242 243 244 245 246 247 248 249 250 251 252 253 254 255 256 257 258 259\n",
            " 260 261 262 263 264 265]\n",
            "Valeurs uniques dans payment_type : [1. 2. 3. 4.]\n",
            "Valeurs uniques dans total_amount : [-2.4430000e+02 -2.3780000e+02 -1.3230000e+02 ...  9.5030000e+02\n",
            "  1.0428200e+03  4.2956225e+05]\n"
          ]
        }
      ],
      "source": [
        "for column in data.columns:\n",
        "  try:\n",
        "      print(f\"Valeurs uniques dans {column} : {np.sort(data[column].unique())}\")\n",
        "  except Exception as e:\n",
        "      continue"
      ]
    },
    {
      "cell_type": "markdown",
      "source": [
        "On observe quelques valeurs intriguantes, voyons en détail :\n"
      ],
      "metadata": {
        "id": "pWIb4DM_NVuz"
      }
    },
    {
      "cell_type": "markdown",
      "source": [
        "Pour `tpep_pickup_datetime` et `tpep_dropoff_datetime`, on observe que certaines valeurs ne correspondent pas au mois de Mai 2020 comme convenu dans le périmètre de l'étude. On les retire, d'autant plus qu'elles ne reprédentent que 82 individus du dataset au maximum : nous aurons toujours assez de données pour continuer."
      ],
      "metadata": {
        "id": "H4kpJOuFNenD"
      }
    },
    {
      "cell_type": "code",
      "source": [
        "data[~data[\"tpep_pickup_datetime\"].str.contains(\"2020-05\")].head()"
      ],
      "metadata": {
        "colab": {
          "base_uri": "https://localhost:8080/",
          "height": 288
        },
        "id": "DKursPhZxS9R",
        "outputId": "3f82fe10-3c47-4db0-e4fd-c049cf056a64"
      },
      "execution_count": 52,
      "outputs": [
        {
          "output_type": "execute_result",
          "data": {
            "text/plain": [
              "       VendorID tpep_pickup_datetime tpep_dropoff_datetime  passenger_count  \\\n",
              "20223       2.0  2020-07-18 00:38:57   2020-07-18 00:55:00              1.0   \n",
              "49428       2.0  2020-04-30 18:18:23   2020-05-01 17:30:12              1.0   \n",
              "71920       2.0  2020-11-01 15:41:04   2020-11-01 15:57:02              1.0   \n",
              "74883       2.0  2020-06-05 08:14:36   2020-06-05 08:16:56              1.0   \n",
              "85488       2.0  2020-06-05 08:37:44   2020-06-05 08:44:38              1.0   \n",
              "\n",
              "       trip_distance  RatecodeID store_and_fwd_flag  PULocationID  \\\n",
              "20223           5.51         1.0                  N           142   \n",
              "49428           1.07         1.0                  N           249   \n",
              "71920           6.21         1.0                  N           152   \n",
              "74883           0.48         1.0                  N            68   \n",
              "85488           2.02         1.0                  N            43   \n",
              "\n",
              "       DOLocationID  payment_type  total_amount      PULocationLabel  \\\n",
              "20223           244           2.0         23.30  Lincoln Square East   \n",
              "49428           249           2.0         11.80         West Village   \n",
              "71920            68           2.0         24.30       Manhattanville   \n",
              "74883            68           2.0          6.80         East Chelsea   \n",
              "85488           170           1.0         14.16         Central Park   \n",
              "\n",
              "                DOLocationLabel  \n",
              "20223  Washington Heights South  \n",
              "49428              West Village  \n",
              "71920              East Chelsea  \n",
              "74883              East Chelsea  \n",
              "85488               Murray Hill  "
            ],
            "text/html": [
              "\n",
              "  <div id=\"df-a22f8c4c-989c-4555-9afd-aa73376f3b62\">\n",
              "    <div class=\"colab-df-container\">\n",
              "      <div>\n",
              "<style scoped>\n",
              "    .dataframe tbody tr th:only-of-type {\n",
              "        vertical-align: middle;\n",
              "    }\n",
              "\n",
              "    .dataframe tbody tr th {\n",
              "        vertical-align: top;\n",
              "    }\n",
              "\n",
              "    .dataframe thead th {\n",
              "        text-align: right;\n",
              "    }\n",
              "</style>\n",
              "<table border=\"1\" class=\"dataframe\">\n",
              "  <thead>\n",
              "    <tr style=\"text-align: right;\">\n",
              "      <th></th>\n",
              "      <th>VendorID</th>\n",
              "      <th>tpep_pickup_datetime</th>\n",
              "      <th>tpep_dropoff_datetime</th>\n",
              "      <th>passenger_count</th>\n",
              "      <th>trip_distance</th>\n",
              "      <th>RatecodeID</th>\n",
              "      <th>store_and_fwd_flag</th>\n",
              "      <th>PULocationID</th>\n",
              "      <th>DOLocationID</th>\n",
              "      <th>payment_type</th>\n",
              "      <th>total_amount</th>\n",
              "      <th>PULocationLabel</th>\n",
              "      <th>DOLocationLabel</th>\n",
              "    </tr>\n",
              "  </thead>\n",
              "  <tbody>\n",
              "    <tr>\n",
              "      <th>20223</th>\n",
              "      <td>2.0</td>\n",
              "      <td>2020-07-18 00:38:57</td>\n",
              "      <td>2020-07-18 00:55:00</td>\n",
              "      <td>1.0</td>\n",
              "      <td>5.51</td>\n",
              "      <td>1.0</td>\n",
              "      <td>N</td>\n",
              "      <td>142</td>\n",
              "      <td>244</td>\n",
              "      <td>2.0</td>\n",
              "      <td>23.30</td>\n",
              "      <td>Lincoln Square East</td>\n",
              "      <td>Washington Heights South</td>\n",
              "    </tr>\n",
              "    <tr>\n",
              "      <th>49428</th>\n",
              "      <td>2.0</td>\n",
              "      <td>2020-04-30 18:18:23</td>\n",
              "      <td>2020-05-01 17:30:12</td>\n",
              "      <td>1.0</td>\n",
              "      <td>1.07</td>\n",
              "      <td>1.0</td>\n",
              "      <td>N</td>\n",
              "      <td>249</td>\n",
              "      <td>249</td>\n",
              "      <td>2.0</td>\n",
              "      <td>11.80</td>\n",
              "      <td>West Village</td>\n",
              "      <td>West Village</td>\n",
              "    </tr>\n",
              "    <tr>\n",
              "      <th>71920</th>\n",
              "      <td>2.0</td>\n",
              "      <td>2020-11-01 15:41:04</td>\n",
              "      <td>2020-11-01 15:57:02</td>\n",
              "      <td>1.0</td>\n",
              "      <td>6.21</td>\n",
              "      <td>1.0</td>\n",
              "      <td>N</td>\n",
              "      <td>152</td>\n",
              "      <td>68</td>\n",
              "      <td>2.0</td>\n",
              "      <td>24.30</td>\n",
              "      <td>Manhattanville</td>\n",
              "      <td>East Chelsea</td>\n",
              "    </tr>\n",
              "    <tr>\n",
              "      <th>74883</th>\n",
              "      <td>2.0</td>\n",
              "      <td>2020-06-05 08:14:36</td>\n",
              "      <td>2020-06-05 08:16:56</td>\n",
              "      <td>1.0</td>\n",
              "      <td>0.48</td>\n",
              "      <td>1.0</td>\n",
              "      <td>N</td>\n",
              "      <td>68</td>\n",
              "      <td>68</td>\n",
              "      <td>2.0</td>\n",
              "      <td>6.80</td>\n",
              "      <td>East Chelsea</td>\n",
              "      <td>East Chelsea</td>\n",
              "    </tr>\n",
              "    <tr>\n",
              "      <th>85488</th>\n",
              "      <td>2.0</td>\n",
              "      <td>2020-06-05 08:37:44</td>\n",
              "      <td>2020-06-05 08:44:38</td>\n",
              "      <td>1.0</td>\n",
              "      <td>2.02</td>\n",
              "      <td>1.0</td>\n",
              "      <td>N</td>\n",
              "      <td>43</td>\n",
              "      <td>170</td>\n",
              "      <td>1.0</td>\n",
              "      <td>14.16</td>\n",
              "      <td>Central Park</td>\n",
              "      <td>Murray Hill</td>\n",
              "    </tr>\n",
              "  </tbody>\n",
              "</table>\n",
              "</div>\n",
              "      <button class=\"colab-df-convert\" onclick=\"convertToInteractive('df-a22f8c4c-989c-4555-9afd-aa73376f3b62')\"\n",
              "              title=\"Convert this dataframe to an interactive table.\"\n",
              "              style=\"display:none;\">\n",
              "        \n",
              "  <svg xmlns=\"http://www.w3.org/2000/svg\" height=\"24px\"viewBox=\"0 0 24 24\"\n",
              "       width=\"24px\">\n",
              "    <path d=\"M0 0h24v24H0V0z\" fill=\"none\"/>\n",
              "    <path d=\"M18.56 5.44l.94 2.06.94-2.06 2.06-.94-2.06-.94-.94-2.06-.94 2.06-2.06.94zm-11 1L8.5 8.5l.94-2.06 2.06-.94-2.06-.94L8.5 2.5l-.94 2.06-2.06.94zm10 10l.94 2.06.94-2.06 2.06-.94-2.06-.94-.94-2.06-.94 2.06-2.06.94z\"/><path d=\"M17.41 7.96l-1.37-1.37c-.4-.4-.92-.59-1.43-.59-.52 0-1.04.2-1.43.59L10.3 9.45l-7.72 7.72c-.78.78-.78 2.05 0 2.83L4 21.41c.39.39.9.59 1.41.59.51 0 1.02-.2 1.41-.59l7.78-7.78 2.81-2.81c.8-.78.8-2.07 0-2.86zM5.41 20L4 18.59l7.72-7.72 1.47 1.35L5.41 20z\"/>\n",
              "  </svg>\n",
              "      </button>\n",
              "      \n",
              "  <style>\n",
              "    .colab-df-container {\n",
              "      display:flex;\n",
              "      flex-wrap:wrap;\n",
              "      gap: 12px;\n",
              "    }\n",
              "\n",
              "    .colab-df-convert {\n",
              "      background-color: #E8F0FE;\n",
              "      border: none;\n",
              "      border-radius: 50%;\n",
              "      cursor: pointer;\n",
              "      display: none;\n",
              "      fill: #1967D2;\n",
              "      height: 32px;\n",
              "      padding: 0 0 0 0;\n",
              "      width: 32px;\n",
              "    }\n",
              "\n",
              "    .colab-df-convert:hover {\n",
              "      background-color: #E2EBFA;\n",
              "      box-shadow: 0px 1px 2px rgba(60, 64, 67, 0.3), 0px 1px 3px 1px rgba(60, 64, 67, 0.15);\n",
              "      fill: #174EA6;\n",
              "    }\n",
              "\n",
              "    [theme=dark] .colab-df-convert {\n",
              "      background-color: #3B4455;\n",
              "      fill: #D2E3FC;\n",
              "    }\n",
              "\n",
              "    [theme=dark] .colab-df-convert:hover {\n",
              "      background-color: #434B5C;\n",
              "      box-shadow: 0px 1px 3px 1px rgba(0, 0, 0, 0.15);\n",
              "      filter: drop-shadow(0px 1px 2px rgba(0, 0, 0, 0.3));\n",
              "      fill: #FFFFFF;\n",
              "    }\n",
              "  </style>\n",
              "\n",
              "      <script>\n",
              "        const buttonEl =\n",
              "          document.querySelector('#df-a22f8c4c-989c-4555-9afd-aa73376f3b62 button.colab-df-convert');\n",
              "        buttonEl.style.display =\n",
              "          google.colab.kernel.accessAllowed ? 'block' : 'none';\n",
              "\n",
              "        async function convertToInteractive(key) {\n",
              "          const element = document.querySelector('#df-a22f8c4c-989c-4555-9afd-aa73376f3b62');\n",
              "          const dataTable =\n",
              "            await google.colab.kernel.invokeFunction('convertToInteractive',\n",
              "                                                     [key], {});\n",
              "          if (!dataTable) return;\n",
              "\n",
              "          const docLinkHtml = 'Like what you see? Visit the ' +\n",
              "            '<a target=\"_blank\" href=https://colab.research.google.com/notebooks/data_table.ipynb>data table notebook</a>'\n",
              "            + ' to learn more about interactive tables.';\n",
              "          element.innerHTML = '';\n",
              "          dataTable['output_type'] = 'display_data';\n",
              "          await google.colab.output.renderOutput(dataTable, element);\n",
              "          const docLink = document.createElement('div');\n",
              "          docLink.innerHTML = docLinkHtml;\n",
              "          element.appendChild(docLink);\n",
              "        }\n",
              "      </script>\n",
              "    </div>\n",
              "  </div>\n",
              "  "
            ]
          },
          "metadata": {},
          "execution_count": 52
        }
      ]
    },
    {
      "cell_type": "code",
      "source": [
        "print(\"Trajets hors mai 2020 : {}\".format(data[~data[\"tpep_pickup_datetime\"].str.contains(\"2020-05\")].shape[0]))"
      ],
      "metadata": {
        "colab": {
          "base_uri": "https://localhost:8080/"
        },
        "id": "QywiuEvJyC46",
        "outputId": "5436c424-5a7e-4e68-d3b9-586c74bcca0b"
      },
      "execution_count": 53,
      "outputs": [
        {
          "output_type": "stream",
          "name": "stdout",
          "text": [
            "Trajets hors mai 2020 : 23\n"
          ]
        }
      ]
    },
    {
      "cell_type": "code",
      "source": [
        "print(\"Trajets hors mai 2020 : {}\".format(data[~data[\"tpep_dropoff_datetime\"].str.contains(\"2020-05\")].shape[0]))"
      ],
      "metadata": {
        "colab": {
          "base_uri": "https://localhost:8080/"
        },
        "id": "_R0vraKFx9L9",
        "outputId": "3a1b3076-525c-4bcc-bb6e-9868c1b03c6a"
      },
      "execution_count": 54,
      "outputs": [
        {
          "output_type": "stream",
          "name": "stdout",
          "text": [
            "Trajets hors mai 2020 : 69\n"
          ]
        }
      ]
    },
    {
      "cell_type": "code",
      "source": [
        "data = data[data[\"tpep_pickup_datetime\"].str.contains(\"2020-05\")]\n",
        "data = data[data[\"tpep_dropoff_datetime\"].str.contains(\"2020-05\")]"
      ],
      "metadata": {
        "id": "mLP8Lu5aNhis"
      },
      "execution_count": 55,
      "outputs": []
    },
    {
      "cell_type": "markdown",
      "source": [
        "Pour `passenger_count`, les valeurs 8 et 9 semblent aberrantes. En effet, difficile d'imaginer un taxi et une limousine avec 8 ou 9 passagers. D'après nos recherches, le maximum de passagers autorisés dans un taxi-limousine est de 6 personnes. \n",
        "\n",
        "Ces valeurs ne composant que deux individus de notre dataset, on les retire en gardant la variable."
      ],
      "metadata": {
        "id": "ARQT5Lz-N4W7"
      }
    },
    {
      "cell_type": "code",
      "source": [
        "data[data[\"passenger_count\"] >= 8]"
      ],
      "metadata": {
        "id": "Ia5kQtuPszim",
        "outputId": "9b93753c-1759-4ec2-8e7e-f66cb465e2d0",
        "colab": {
          "base_uri": "https://localhost:8080/",
          "height": 176
        }
      },
      "execution_count": 56,
      "outputs": [
        {
          "output_type": "execute_result",
          "data": {
            "text/plain": [
              "        VendorID tpep_pickup_datetime tpep_dropoff_datetime  passenger_count  \\\n",
              "278583       2.0  2020-05-31 20:53:17   2020-05-31 20:53:19              8.0   \n",
              "290971       2.0  2020-05-20 06:42:42   2020-05-20 06:42:48              9.0   \n",
              "\n",
              "        trip_distance  RatecodeID store_and_fwd_flag  PULocationID  \\\n",
              "278583            0.0         5.0                  N           116   \n",
              "290971            0.0         5.0                  N           264   \n",
              "\n",
              "        DOLocationID  payment_type  total_amount   PULocationLabel  \\\n",
              "278583           116           1.0         11.00  Hamilton Heights   \n",
              "290971           264           1.0         11.76                NV   \n",
              "\n",
              "         DOLocationLabel  \n",
              "278583  Hamilton Heights  \n",
              "290971                NV  "
            ],
            "text/html": [
              "\n",
              "  <div id=\"df-0c27e5f6-6e0c-4b9b-8b4f-348456814cb2\">\n",
              "    <div class=\"colab-df-container\">\n",
              "      <div>\n",
              "<style scoped>\n",
              "    .dataframe tbody tr th:only-of-type {\n",
              "        vertical-align: middle;\n",
              "    }\n",
              "\n",
              "    .dataframe tbody tr th {\n",
              "        vertical-align: top;\n",
              "    }\n",
              "\n",
              "    .dataframe thead th {\n",
              "        text-align: right;\n",
              "    }\n",
              "</style>\n",
              "<table border=\"1\" class=\"dataframe\">\n",
              "  <thead>\n",
              "    <tr style=\"text-align: right;\">\n",
              "      <th></th>\n",
              "      <th>VendorID</th>\n",
              "      <th>tpep_pickup_datetime</th>\n",
              "      <th>tpep_dropoff_datetime</th>\n",
              "      <th>passenger_count</th>\n",
              "      <th>trip_distance</th>\n",
              "      <th>RatecodeID</th>\n",
              "      <th>store_and_fwd_flag</th>\n",
              "      <th>PULocationID</th>\n",
              "      <th>DOLocationID</th>\n",
              "      <th>payment_type</th>\n",
              "      <th>total_amount</th>\n",
              "      <th>PULocationLabel</th>\n",
              "      <th>DOLocationLabel</th>\n",
              "    </tr>\n",
              "  </thead>\n",
              "  <tbody>\n",
              "    <tr>\n",
              "      <th>278583</th>\n",
              "      <td>2.0</td>\n",
              "      <td>2020-05-31 20:53:17</td>\n",
              "      <td>2020-05-31 20:53:19</td>\n",
              "      <td>8.0</td>\n",
              "      <td>0.0</td>\n",
              "      <td>5.0</td>\n",
              "      <td>N</td>\n",
              "      <td>116</td>\n",
              "      <td>116</td>\n",
              "      <td>1.0</td>\n",
              "      <td>11.00</td>\n",
              "      <td>Hamilton Heights</td>\n",
              "      <td>Hamilton Heights</td>\n",
              "    </tr>\n",
              "    <tr>\n",
              "      <th>290971</th>\n",
              "      <td>2.0</td>\n",
              "      <td>2020-05-20 06:42:42</td>\n",
              "      <td>2020-05-20 06:42:48</td>\n",
              "      <td>9.0</td>\n",
              "      <td>0.0</td>\n",
              "      <td>5.0</td>\n",
              "      <td>N</td>\n",
              "      <td>264</td>\n",
              "      <td>264</td>\n",
              "      <td>1.0</td>\n",
              "      <td>11.76</td>\n",
              "      <td>NV</td>\n",
              "      <td>NV</td>\n",
              "    </tr>\n",
              "  </tbody>\n",
              "</table>\n",
              "</div>\n",
              "      <button class=\"colab-df-convert\" onclick=\"convertToInteractive('df-0c27e5f6-6e0c-4b9b-8b4f-348456814cb2')\"\n",
              "              title=\"Convert this dataframe to an interactive table.\"\n",
              "              style=\"display:none;\">\n",
              "        \n",
              "  <svg xmlns=\"http://www.w3.org/2000/svg\" height=\"24px\"viewBox=\"0 0 24 24\"\n",
              "       width=\"24px\">\n",
              "    <path d=\"M0 0h24v24H0V0z\" fill=\"none\"/>\n",
              "    <path d=\"M18.56 5.44l.94 2.06.94-2.06 2.06-.94-2.06-.94-.94-2.06-.94 2.06-2.06.94zm-11 1L8.5 8.5l.94-2.06 2.06-.94-2.06-.94L8.5 2.5l-.94 2.06-2.06.94zm10 10l.94 2.06.94-2.06 2.06-.94-2.06-.94-.94-2.06-.94 2.06-2.06.94z\"/><path d=\"M17.41 7.96l-1.37-1.37c-.4-.4-.92-.59-1.43-.59-.52 0-1.04.2-1.43.59L10.3 9.45l-7.72 7.72c-.78.78-.78 2.05 0 2.83L4 21.41c.39.39.9.59 1.41.59.51 0 1.02-.2 1.41-.59l7.78-7.78 2.81-2.81c.8-.78.8-2.07 0-2.86zM5.41 20L4 18.59l7.72-7.72 1.47 1.35L5.41 20z\"/>\n",
              "  </svg>\n",
              "      </button>\n",
              "      \n",
              "  <style>\n",
              "    .colab-df-container {\n",
              "      display:flex;\n",
              "      flex-wrap:wrap;\n",
              "      gap: 12px;\n",
              "    }\n",
              "\n",
              "    .colab-df-convert {\n",
              "      background-color: #E8F0FE;\n",
              "      border: none;\n",
              "      border-radius: 50%;\n",
              "      cursor: pointer;\n",
              "      display: none;\n",
              "      fill: #1967D2;\n",
              "      height: 32px;\n",
              "      padding: 0 0 0 0;\n",
              "      width: 32px;\n",
              "    }\n",
              "\n",
              "    .colab-df-convert:hover {\n",
              "      background-color: #E2EBFA;\n",
              "      box-shadow: 0px 1px 2px rgba(60, 64, 67, 0.3), 0px 1px 3px 1px rgba(60, 64, 67, 0.15);\n",
              "      fill: #174EA6;\n",
              "    }\n",
              "\n",
              "    [theme=dark] .colab-df-convert {\n",
              "      background-color: #3B4455;\n",
              "      fill: #D2E3FC;\n",
              "    }\n",
              "\n",
              "    [theme=dark] .colab-df-convert:hover {\n",
              "      background-color: #434B5C;\n",
              "      box-shadow: 0px 1px 3px 1px rgba(0, 0, 0, 0.15);\n",
              "      filter: drop-shadow(0px 1px 2px rgba(0, 0, 0, 0.3));\n",
              "      fill: #FFFFFF;\n",
              "    }\n",
              "  </style>\n",
              "\n",
              "      <script>\n",
              "        const buttonEl =\n",
              "          document.querySelector('#df-0c27e5f6-6e0c-4b9b-8b4f-348456814cb2 button.colab-df-convert');\n",
              "        buttonEl.style.display =\n",
              "          google.colab.kernel.accessAllowed ? 'block' : 'none';\n",
              "\n",
              "        async function convertToInteractive(key) {\n",
              "          const element = document.querySelector('#df-0c27e5f6-6e0c-4b9b-8b4f-348456814cb2');\n",
              "          const dataTable =\n",
              "            await google.colab.kernel.invokeFunction('convertToInteractive',\n",
              "                                                     [key], {});\n",
              "          if (!dataTable) return;\n",
              "\n",
              "          const docLinkHtml = 'Like what you see? Visit the ' +\n",
              "            '<a target=\"_blank\" href=https://colab.research.google.com/notebooks/data_table.ipynb>data table notebook</a>'\n",
              "            + ' to learn more about interactive tables.';\n",
              "          element.innerHTML = '';\n",
              "          dataTable['output_type'] = 'display_data';\n",
              "          await google.colab.output.renderOutput(dataTable, element);\n",
              "          const docLink = document.createElement('div');\n",
              "          docLink.innerHTML = docLinkHtml;\n",
              "          element.appendChild(docLink);\n",
              "        }\n",
              "      </script>\n",
              "    </div>\n",
              "  </div>\n",
              "  "
            ]
          },
          "metadata": {},
          "execution_count": 56
        }
      ]
    },
    {
      "cell_type": "code",
      "source": [
        "data = data[data[\"passenger_count\"] < 8]"
      ],
      "metadata": {
        "id": "J4BZ83WWOSsC"
      },
      "execution_count": 57,
      "outputs": []
    },
    {
      "cell_type": "code",
      "source": [
        "data[data[\"passenger_count\"] < 1]"
      ],
      "metadata": {
        "colab": {
          "base_uri": "https://localhost:8080/",
          "height": 644
        },
        "id": "ZYY33ZZw051N",
        "outputId": "0024c340-9a59-46c3-d334-0ce3950022b3"
      },
      "execution_count": 58,
      "outputs": [
        {
          "output_type": "execute_result",
          "data": {
            "text/plain": [
              "        VendorID tpep_pickup_datetime tpep_dropoff_datetime  passenger_count  \\\n",
              "11           1.0  2020-05-25 16:24:04   2020-05-25 16:38:44              0.0   \n",
              "81           1.0  2020-05-29 18:02:31   2020-05-29 18:13:52              0.0   \n",
              "86           1.0  2020-05-21 10:16:03   2020-05-21 10:44:47              0.0   \n",
              "110          1.0  2020-05-23 19:31:42   2020-05-23 19:50:29              0.0   \n",
              "132          1.0  2020-05-29 00:30:58   2020-05-29 00:48:20              0.0   \n",
              "...          ...                  ...                   ...              ...   \n",
              "348077       1.0  2020-05-13 05:21:37   2020-05-13 05:21:40              0.0   \n",
              "348078       1.0  2020-05-13 06:36:45   2020-05-13 06:37:04              0.0   \n",
              "348096       1.0  2020-05-26 12:18:13   2020-05-26 12:19:34              0.0   \n",
              "348105       1.0  2020-05-30 06:48:04   2020-05-30 06:52:05              0.0   \n",
              "348276       1.0  2020-05-07 01:58:38   2020-05-07 02:31:11              0.0   \n",
              "\n",
              "        trip_distance  RatecodeID store_and_fwd_flag  PULocationID  \\\n",
              "11                3.4         1.0                  N           234   \n",
              "81                2.6         1.0                  N            79   \n",
              "86                9.3         1.0                  N           151   \n",
              "110               8.4         1.0                  N           263   \n",
              "132              10.7         1.0                  N            75   \n",
              "...               ...         ...                ...           ...   \n",
              "348077            0.0         1.0                  N           207   \n",
              "348078            0.0         5.0                  Y           207   \n",
              "348096            0.0         1.0                  N           207   \n",
              "348105            1.3         1.0                  N           129   \n",
              "348276           23.0         1.0                  N            45   \n",
              "\n",
              "        DOLocationID  payment_type  total_amount  \\\n",
              "11               256           3.0         16.80   \n",
              "81               256           1.0         17.14   \n",
              "86               256           2.0         34.30   \n",
              "110              256           1.0         28.80   \n",
              "132              256           2.0         36.92   \n",
              "...              ...           ...           ...   \n",
              "348077           207           3.0          3.80   \n",
              "348078           207           2.0          0.30   \n",
              "348096           207           2.0          3.80   \n",
              "348105           207           2.0          6.80   \n",
              "348276             5           3.0         78.04   \n",
              "\n",
              "                         PULocationLabel                   DOLocationLabel  \n",
              "11                              Union Sq         Williamsburg (South Side)  \n",
              "81                          East Village         Williamsburg (South Side)  \n",
              "86                      Manhattan Valley         Williamsburg (South Side)  \n",
              "110                       Yorkville West         Williamsburg (South Side)  \n",
              "132                    East Harlem South         Williamsburg (South Side)  \n",
              "...                                  ...                               ...  \n",
              "348077  Saint Michaels Cemetery/Woodside  Saint Michaels Cemetery/Woodside  \n",
              "348078  Saint Michaels Cemetery/Woodside  Saint Michaels Cemetery/Woodside  \n",
              "348096  Saint Michaels Cemetery/Woodside  Saint Michaels Cemetery/Woodside  \n",
              "348105                   Jackson Heights  Saint Michaels Cemetery/Woodside  \n",
              "348276                         Chinatown                     Arden Heights  \n",
              "\n",
              "[9605 rows x 13 columns]"
            ],
            "text/html": [
              "\n",
              "  <div id=\"df-9a4908a4-4831-4cbe-9308-75be3f5533c1\">\n",
              "    <div class=\"colab-df-container\">\n",
              "      <div>\n",
              "<style scoped>\n",
              "    .dataframe tbody tr th:only-of-type {\n",
              "        vertical-align: middle;\n",
              "    }\n",
              "\n",
              "    .dataframe tbody tr th {\n",
              "        vertical-align: top;\n",
              "    }\n",
              "\n",
              "    .dataframe thead th {\n",
              "        text-align: right;\n",
              "    }\n",
              "</style>\n",
              "<table border=\"1\" class=\"dataframe\">\n",
              "  <thead>\n",
              "    <tr style=\"text-align: right;\">\n",
              "      <th></th>\n",
              "      <th>VendorID</th>\n",
              "      <th>tpep_pickup_datetime</th>\n",
              "      <th>tpep_dropoff_datetime</th>\n",
              "      <th>passenger_count</th>\n",
              "      <th>trip_distance</th>\n",
              "      <th>RatecodeID</th>\n",
              "      <th>store_and_fwd_flag</th>\n",
              "      <th>PULocationID</th>\n",
              "      <th>DOLocationID</th>\n",
              "      <th>payment_type</th>\n",
              "      <th>total_amount</th>\n",
              "      <th>PULocationLabel</th>\n",
              "      <th>DOLocationLabel</th>\n",
              "    </tr>\n",
              "  </thead>\n",
              "  <tbody>\n",
              "    <tr>\n",
              "      <th>11</th>\n",
              "      <td>1.0</td>\n",
              "      <td>2020-05-25 16:24:04</td>\n",
              "      <td>2020-05-25 16:38:44</td>\n",
              "      <td>0.0</td>\n",
              "      <td>3.4</td>\n",
              "      <td>1.0</td>\n",
              "      <td>N</td>\n",
              "      <td>234</td>\n",
              "      <td>256</td>\n",
              "      <td>3.0</td>\n",
              "      <td>16.80</td>\n",
              "      <td>Union Sq</td>\n",
              "      <td>Williamsburg (South Side)</td>\n",
              "    </tr>\n",
              "    <tr>\n",
              "      <th>81</th>\n",
              "      <td>1.0</td>\n",
              "      <td>2020-05-29 18:02:31</td>\n",
              "      <td>2020-05-29 18:13:52</td>\n",
              "      <td>0.0</td>\n",
              "      <td>2.6</td>\n",
              "      <td>1.0</td>\n",
              "      <td>N</td>\n",
              "      <td>79</td>\n",
              "      <td>256</td>\n",
              "      <td>1.0</td>\n",
              "      <td>17.14</td>\n",
              "      <td>East Village</td>\n",
              "      <td>Williamsburg (South Side)</td>\n",
              "    </tr>\n",
              "    <tr>\n",
              "      <th>86</th>\n",
              "      <td>1.0</td>\n",
              "      <td>2020-05-21 10:16:03</td>\n",
              "      <td>2020-05-21 10:44:47</td>\n",
              "      <td>0.0</td>\n",
              "      <td>9.3</td>\n",
              "      <td>1.0</td>\n",
              "      <td>N</td>\n",
              "      <td>151</td>\n",
              "      <td>256</td>\n",
              "      <td>2.0</td>\n",
              "      <td>34.30</td>\n",
              "      <td>Manhattan Valley</td>\n",
              "      <td>Williamsburg (South Side)</td>\n",
              "    </tr>\n",
              "    <tr>\n",
              "      <th>110</th>\n",
              "      <td>1.0</td>\n",
              "      <td>2020-05-23 19:31:42</td>\n",
              "      <td>2020-05-23 19:50:29</td>\n",
              "      <td>0.0</td>\n",
              "      <td>8.4</td>\n",
              "      <td>1.0</td>\n",
              "      <td>N</td>\n",
              "      <td>263</td>\n",
              "      <td>256</td>\n",
              "      <td>1.0</td>\n",
              "      <td>28.80</td>\n",
              "      <td>Yorkville West</td>\n",
              "      <td>Williamsburg (South Side)</td>\n",
              "    </tr>\n",
              "    <tr>\n",
              "      <th>132</th>\n",
              "      <td>1.0</td>\n",
              "      <td>2020-05-29 00:30:58</td>\n",
              "      <td>2020-05-29 00:48:20</td>\n",
              "      <td>0.0</td>\n",
              "      <td>10.7</td>\n",
              "      <td>1.0</td>\n",
              "      <td>N</td>\n",
              "      <td>75</td>\n",
              "      <td>256</td>\n",
              "      <td>2.0</td>\n",
              "      <td>36.92</td>\n",
              "      <td>East Harlem South</td>\n",
              "      <td>Williamsburg (South Side)</td>\n",
              "    </tr>\n",
              "    <tr>\n",
              "      <th>...</th>\n",
              "      <td>...</td>\n",
              "      <td>...</td>\n",
              "      <td>...</td>\n",
              "      <td>...</td>\n",
              "      <td>...</td>\n",
              "      <td>...</td>\n",
              "      <td>...</td>\n",
              "      <td>...</td>\n",
              "      <td>...</td>\n",
              "      <td>...</td>\n",
              "      <td>...</td>\n",
              "      <td>...</td>\n",
              "      <td>...</td>\n",
              "    </tr>\n",
              "    <tr>\n",
              "      <th>348077</th>\n",
              "      <td>1.0</td>\n",
              "      <td>2020-05-13 05:21:37</td>\n",
              "      <td>2020-05-13 05:21:40</td>\n",
              "      <td>0.0</td>\n",
              "      <td>0.0</td>\n",
              "      <td>1.0</td>\n",
              "      <td>N</td>\n",
              "      <td>207</td>\n",
              "      <td>207</td>\n",
              "      <td>3.0</td>\n",
              "      <td>3.80</td>\n",
              "      <td>Saint Michaels Cemetery/Woodside</td>\n",
              "      <td>Saint Michaels Cemetery/Woodside</td>\n",
              "    </tr>\n",
              "    <tr>\n",
              "      <th>348078</th>\n",
              "      <td>1.0</td>\n",
              "      <td>2020-05-13 06:36:45</td>\n",
              "      <td>2020-05-13 06:37:04</td>\n",
              "      <td>0.0</td>\n",
              "      <td>0.0</td>\n",
              "      <td>5.0</td>\n",
              "      <td>Y</td>\n",
              "      <td>207</td>\n",
              "      <td>207</td>\n",
              "      <td>2.0</td>\n",
              "      <td>0.30</td>\n",
              "      <td>Saint Michaels Cemetery/Woodside</td>\n",
              "      <td>Saint Michaels Cemetery/Woodside</td>\n",
              "    </tr>\n",
              "    <tr>\n",
              "      <th>348096</th>\n",
              "      <td>1.0</td>\n",
              "      <td>2020-05-26 12:18:13</td>\n",
              "      <td>2020-05-26 12:19:34</td>\n",
              "      <td>0.0</td>\n",
              "      <td>0.0</td>\n",
              "      <td>1.0</td>\n",
              "      <td>N</td>\n",
              "      <td>207</td>\n",
              "      <td>207</td>\n",
              "      <td>2.0</td>\n",
              "      <td>3.80</td>\n",
              "      <td>Saint Michaels Cemetery/Woodside</td>\n",
              "      <td>Saint Michaels Cemetery/Woodside</td>\n",
              "    </tr>\n",
              "    <tr>\n",
              "      <th>348105</th>\n",
              "      <td>1.0</td>\n",
              "      <td>2020-05-30 06:48:04</td>\n",
              "      <td>2020-05-30 06:52:05</td>\n",
              "      <td>0.0</td>\n",
              "      <td>1.3</td>\n",
              "      <td>1.0</td>\n",
              "      <td>N</td>\n",
              "      <td>129</td>\n",
              "      <td>207</td>\n",
              "      <td>2.0</td>\n",
              "      <td>6.80</td>\n",
              "      <td>Jackson Heights</td>\n",
              "      <td>Saint Michaels Cemetery/Woodside</td>\n",
              "    </tr>\n",
              "    <tr>\n",
              "      <th>348276</th>\n",
              "      <td>1.0</td>\n",
              "      <td>2020-05-07 01:58:38</td>\n",
              "      <td>2020-05-07 02:31:11</td>\n",
              "      <td>0.0</td>\n",
              "      <td>23.0</td>\n",
              "      <td>1.0</td>\n",
              "      <td>N</td>\n",
              "      <td>45</td>\n",
              "      <td>5</td>\n",
              "      <td>3.0</td>\n",
              "      <td>78.04</td>\n",
              "      <td>Chinatown</td>\n",
              "      <td>Arden Heights</td>\n",
              "    </tr>\n",
              "  </tbody>\n",
              "</table>\n",
              "<p>9605 rows × 13 columns</p>\n",
              "</div>\n",
              "      <button class=\"colab-df-convert\" onclick=\"convertToInteractive('df-9a4908a4-4831-4cbe-9308-75be3f5533c1')\"\n",
              "              title=\"Convert this dataframe to an interactive table.\"\n",
              "              style=\"display:none;\">\n",
              "        \n",
              "  <svg xmlns=\"http://www.w3.org/2000/svg\" height=\"24px\"viewBox=\"0 0 24 24\"\n",
              "       width=\"24px\">\n",
              "    <path d=\"M0 0h24v24H0V0z\" fill=\"none\"/>\n",
              "    <path d=\"M18.56 5.44l.94 2.06.94-2.06 2.06-.94-2.06-.94-.94-2.06-.94 2.06-2.06.94zm-11 1L8.5 8.5l.94-2.06 2.06-.94-2.06-.94L8.5 2.5l-.94 2.06-2.06.94zm10 10l.94 2.06.94-2.06 2.06-.94-2.06-.94-.94-2.06-.94 2.06-2.06.94z\"/><path d=\"M17.41 7.96l-1.37-1.37c-.4-.4-.92-.59-1.43-.59-.52 0-1.04.2-1.43.59L10.3 9.45l-7.72 7.72c-.78.78-.78 2.05 0 2.83L4 21.41c.39.39.9.59 1.41.59.51 0 1.02-.2 1.41-.59l7.78-7.78 2.81-2.81c.8-.78.8-2.07 0-2.86zM5.41 20L4 18.59l7.72-7.72 1.47 1.35L5.41 20z\"/>\n",
              "  </svg>\n",
              "      </button>\n",
              "      \n",
              "  <style>\n",
              "    .colab-df-container {\n",
              "      display:flex;\n",
              "      flex-wrap:wrap;\n",
              "      gap: 12px;\n",
              "    }\n",
              "\n",
              "    .colab-df-convert {\n",
              "      background-color: #E8F0FE;\n",
              "      border: none;\n",
              "      border-radius: 50%;\n",
              "      cursor: pointer;\n",
              "      display: none;\n",
              "      fill: #1967D2;\n",
              "      height: 32px;\n",
              "      padding: 0 0 0 0;\n",
              "      width: 32px;\n",
              "    }\n",
              "\n",
              "    .colab-df-convert:hover {\n",
              "      background-color: #E2EBFA;\n",
              "      box-shadow: 0px 1px 2px rgba(60, 64, 67, 0.3), 0px 1px 3px 1px rgba(60, 64, 67, 0.15);\n",
              "      fill: #174EA6;\n",
              "    }\n",
              "\n",
              "    [theme=dark] .colab-df-convert {\n",
              "      background-color: #3B4455;\n",
              "      fill: #D2E3FC;\n",
              "    }\n",
              "\n",
              "    [theme=dark] .colab-df-convert:hover {\n",
              "      background-color: #434B5C;\n",
              "      box-shadow: 0px 1px 3px 1px rgba(0, 0, 0, 0.15);\n",
              "      filter: drop-shadow(0px 1px 2px rgba(0, 0, 0, 0.3));\n",
              "      fill: #FFFFFF;\n",
              "    }\n",
              "  </style>\n",
              "\n",
              "      <script>\n",
              "        const buttonEl =\n",
              "          document.querySelector('#df-9a4908a4-4831-4cbe-9308-75be3f5533c1 button.colab-df-convert');\n",
              "        buttonEl.style.display =\n",
              "          google.colab.kernel.accessAllowed ? 'block' : 'none';\n",
              "\n",
              "        async function convertToInteractive(key) {\n",
              "          const element = document.querySelector('#df-9a4908a4-4831-4cbe-9308-75be3f5533c1');\n",
              "          const dataTable =\n",
              "            await google.colab.kernel.invokeFunction('convertToInteractive',\n",
              "                                                     [key], {});\n",
              "          if (!dataTable) return;\n",
              "\n",
              "          const docLinkHtml = 'Like what you see? Visit the ' +\n",
              "            '<a target=\"_blank\" href=https://colab.research.google.com/notebooks/data_table.ipynb>data table notebook</a>'\n",
              "            + ' to learn more about interactive tables.';\n",
              "          element.innerHTML = '';\n",
              "          dataTable['output_type'] = 'display_data';\n",
              "          await google.colab.output.renderOutput(dataTable, element);\n",
              "          const docLink = document.createElement('div');\n",
              "          docLink.innerHTML = docLinkHtml;\n",
              "          element.appendChild(docLink);\n",
              "        }\n",
              "      </script>\n",
              "    </div>\n",
              "  </div>\n",
              "  "
            ]
          },
          "metadata": {},
          "execution_count": 58
        }
      ]
    },
    {
      "cell_type": "markdown",
      "source": [
        "On observe également 9605 lignes avec 0 passagers. \n",
        "\n",
        "Elles représentent 3% de notre dataset, on peut donc les supprimer en conservant la variable."
      ],
      "metadata": {
        "id": "l-H9KnloOJ1q"
      }
    },
    {
      "cell_type": "code",
      "source": [
        "data = data[data[\"passenger_count\"] > 0]"
      ],
      "metadata": {
        "id": "7cZ-QAiPOmRr"
      },
      "execution_count": 59,
      "outputs": []
    },
    {
      "cell_type": "markdown",
      "source": [
        "Pour `RatecodeID`, on observe la valeur 99 qui n'est pas renseignée dans le dictionnaire des variables :"
      ],
      "metadata": {
        "id": "xvJY3wQIP77u"
      }
    },
    {
      "cell_type": "code",
      "source": [
        "data[data[\"RatecodeID\"] == 99].head()"
      ],
      "metadata": {
        "colab": {
          "base_uri": "https://localhost:8080/",
          "height": 322
        },
        "id": "OPmAhLgbQBPe",
        "outputId": "6749da46-5e26-4f1c-9576-47b071b4569e"
      },
      "execution_count": 60,
      "outputs": [
        {
          "output_type": "execute_result",
          "data": {
            "text/plain": [
              "       VendorID tpep_pickup_datetime tpep_dropoff_datetime  passenger_count  \\\n",
              "5266        2.0  2020-05-13 16:52:40   2020-05-13 17:06:54              1.0   \n",
              "11622       2.0  2020-05-21 06:39:13   2020-05-21 06:44:32              1.0   \n",
              "16093       1.0  2020-05-04 20:08:54   2020-05-04 20:09:47              1.0   \n",
              "25495       2.0  2020-05-15 07:46:32   2020-05-15 07:51:01              1.0   \n",
              "25507       2.0  2020-05-15 20:43:47   2020-05-15 20:55:25              1.0   \n",
              "\n",
              "       trip_distance  RatecodeID store_and_fwd_flag  PULocationID  \\\n",
              "5266            0.00        99.0                  N           229   \n",
              "11622           1.24        99.0                  N           239   \n",
              "16093           0.00        99.0                  N           142   \n",
              "25495           0.00        99.0                  N           137   \n",
              "25507           0.00        99.0                  N           137   \n",
              "\n",
              "       DOLocationID  payment_type  total_amount  \\\n",
              "5266             74           2.0         38.13   \n",
              "11622           142           2.0          9.80   \n",
              "16093           142           3.0     429562.25   \n",
              "25495           137           1.0         16.40   \n",
              "25507           137           2.0         40.73   \n",
              "\n",
              "                     PULocationLabel      DOLocationLabel  \n",
              "5266   Sutton Place/Turtle Bay North    East Harlem North  \n",
              "11622          Upper West Side South  Lincoln Square East  \n",
              "16093            Lincoln Square East  Lincoln Square East  \n",
              "25495                       Kips Bay             Kips Bay  \n",
              "25507                       Kips Bay             Kips Bay  "
            ],
            "text/html": [
              "\n",
              "  <div id=\"df-393876f4-aec4-4812-9ada-6aff8059086f\">\n",
              "    <div class=\"colab-df-container\">\n",
              "      <div>\n",
              "<style scoped>\n",
              "    .dataframe tbody tr th:only-of-type {\n",
              "        vertical-align: middle;\n",
              "    }\n",
              "\n",
              "    .dataframe tbody tr th {\n",
              "        vertical-align: top;\n",
              "    }\n",
              "\n",
              "    .dataframe thead th {\n",
              "        text-align: right;\n",
              "    }\n",
              "</style>\n",
              "<table border=\"1\" class=\"dataframe\">\n",
              "  <thead>\n",
              "    <tr style=\"text-align: right;\">\n",
              "      <th></th>\n",
              "      <th>VendorID</th>\n",
              "      <th>tpep_pickup_datetime</th>\n",
              "      <th>tpep_dropoff_datetime</th>\n",
              "      <th>passenger_count</th>\n",
              "      <th>trip_distance</th>\n",
              "      <th>RatecodeID</th>\n",
              "      <th>store_and_fwd_flag</th>\n",
              "      <th>PULocationID</th>\n",
              "      <th>DOLocationID</th>\n",
              "      <th>payment_type</th>\n",
              "      <th>total_amount</th>\n",
              "      <th>PULocationLabel</th>\n",
              "      <th>DOLocationLabel</th>\n",
              "    </tr>\n",
              "  </thead>\n",
              "  <tbody>\n",
              "    <tr>\n",
              "      <th>5266</th>\n",
              "      <td>2.0</td>\n",
              "      <td>2020-05-13 16:52:40</td>\n",
              "      <td>2020-05-13 17:06:54</td>\n",
              "      <td>1.0</td>\n",
              "      <td>0.00</td>\n",
              "      <td>99.0</td>\n",
              "      <td>N</td>\n",
              "      <td>229</td>\n",
              "      <td>74</td>\n",
              "      <td>2.0</td>\n",
              "      <td>38.13</td>\n",
              "      <td>Sutton Place/Turtle Bay North</td>\n",
              "      <td>East Harlem North</td>\n",
              "    </tr>\n",
              "    <tr>\n",
              "      <th>11622</th>\n",
              "      <td>2.0</td>\n",
              "      <td>2020-05-21 06:39:13</td>\n",
              "      <td>2020-05-21 06:44:32</td>\n",
              "      <td>1.0</td>\n",
              "      <td>1.24</td>\n",
              "      <td>99.0</td>\n",
              "      <td>N</td>\n",
              "      <td>239</td>\n",
              "      <td>142</td>\n",
              "      <td>2.0</td>\n",
              "      <td>9.80</td>\n",
              "      <td>Upper West Side South</td>\n",
              "      <td>Lincoln Square East</td>\n",
              "    </tr>\n",
              "    <tr>\n",
              "      <th>16093</th>\n",
              "      <td>1.0</td>\n",
              "      <td>2020-05-04 20:08:54</td>\n",
              "      <td>2020-05-04 20:09:47</td>\n",
              "      <td>1.0</td>\n",
              "      <td>0.00</td>\n",
              "      <td>99.0</td>\n",
              "      <td>N</td>\n",
              "      <td>142</td>\n",
              "      <td>142</td>\n",
              "      <td>3.0</td>\n",
              "      <td>429562.25</td>\n",
              "      <td>Lincoln Square East</td>\n",
              "      <td>Lincoln Square East</td>\n",
              "    </tr>\n",
              "    <tr>\n",
              "      <th>25495</th>\n",
              "      <td>2.0</td>\n",
              "      <td>2020-05-15 07:46:32</td>\n",
              "      <td>2020-05-15 07:51:01</td>\n",
              "      <td>1.0</td>\n",
              "      <td>0.00</td>\n",
              "      <td>99.0</td>\n",
              "      <td>N</td>\n",
              "      <td>137</td>\n",
              "      <td>137</td>\n",
              "      <td>1.0</td>\n",
              "      <td>16.40</td>\n",
              "      <td>Kips Bay</td>\n",
              "      <td>Kips Bay</td>\n",
              "    </tr>\n",
              "    <tr>\n",
              "      <th>25507</th>\n",
              "      <td>2.0</td>\n",
              "      <td>2020-05-15 20:43:47</td>\n",
              "      <td>2020-05-15 20:55:25</td>\n",
              "      <td>1.0</td>\n",
              "      <td>0.00</td>\n",
              "      <td>99.0</td>\n",
              "      <td>N</td>\n",
              "      <td>137</td>\n",
              "      <td>137</td>\n",
              "      <td>2.0</td>\n",
              "      <td>40.73</td>\n",
              "      <td>Kips Bay</td>\n",
              "      <td>Kips Bay</td>\n",
              "    </tr>\n",
              "  </tbody>\n",
              "</table>\n",
              "</div>\n",
              "      <button class=\"colab-df-convert\" onclick=\"convertToInteractive('df-393876f4-aec4-4812-9ada-6aff8059086f')\"\n",
              "              title=\"Convert this dataframe to an interactive table.\"\n",
              "              style=\"display:none;\">\n",
              "        \n",
              "  <svg xmlns=\"http://www.w3.org/2000/svg\" height=\"24px\"viewBox=\"0 0 24 24\"\n",
              "       width=\"24px\">\n",
              "    <path d=\"M0 0h24v24H0V0z\" fill=\"none\"/>\n",
              "    <path d=\"M18.56 5.44l.94 2.06.94-2.06 2.06-.94-2.06-.94-.94-2.06-.94 2.06-2.06.94zm-11 1L8.5 8.5l.94-2.06 2.06-.94-2.06-.94L8.5 2.5l-.94 2.06-2.06.94zm10 10l.94 2.06.94-2.06 2.06-.94-2.06-.94-.94-2.06-.94 2.06-2.06.94z\"/><path d=\"M17.41 7.96l-1.37-1.37c-.4-.4-.92-.59-1.43-.59-.52 0-1.04.2-1.43.59L10.3 9.45l-7.72 7.72c-.78.78-.78 2.05 0 2.83L4 21.41c.39.39.9.59 1.41.59.51 0 1.02-.2 1.41-.59l7.78-7.78 2.81-2.81c.8-.78.8-2.07 0-2.86zM5.41 20L4 18.59l7.72-7.72 1.47 1.35L5.41 20z\"/>\n",
              "  </svg>\n",
              "      </button>\n",
              "      \n",
              "  <style>\n",
              "    .colab-df-container {\n",
              "      display:flex;\n",
              "      flex-wrap:wrap;\n",
              "      gap: 12px;\n",
              "    }\n",
              "\n",
              "    .colab-df-convert {\n",
              "      background-color: #E8F0FE;\n",
              "      border: none;\n",
              "      border-radius: 50%;\n",
              "      cursor: pointer;\n",
              "      display: none;\n",
              "      fill: #1967D2;\n",
              "      height: 32px;\n",
              "      padding: 0 0 0 0;\n",
              "      width: 32px;\n",
              "    }\n",
              "\n",
              "    .colab-df-convert:hover {\n",
              "      background-color: #E2EBFA;\n",
              "      box-shadow: 0px 1px 2px rgba(60, 64, 67, 0.3), 0px 1px 3px 1px rgba(60, 64, 67, 0.15);\n",
              "      fill: #174EA6;\n",
              "    }\n",
              "\n",
              "    [theme=dark] .colab-df-convert {\n",
              "      background-color: #3B4455;\n",
              "      fill: #D2E3FC;\n",
              "    }\n",
              "\n",
              "    [theme=dark] .colab-df-convert:hover {\n",
              "      background-color: #434B5C;\n",
              "      box-shadow: 0px 1px 3px 1px rgba(0, 0, 0, 0.15);\n",
              "      filter: drop-shadow(0px 1px 2px rgba(0, 0, 0, 0.3));\n",
              "      fill: #FFFFFF;\n",
              "    }\n",
              "  </style>\n",
              "\n",
              "      <script>\n",
              "        const buttonEl =\n",
              "          document.querySelector('#df-393876f4-aec4-4812-9ada-6aff8059086f button.colab-df-convert');\n",
              "        buttonEl.style.display =\n",
              "          google.colab.kernel.accessAllowed ? 'block' : 'none';\n",
              "\n",
              "        async function convertToInteractive(key) {\n",
              "          const element = document.querySelector('#df-393876f4-aec4-4812-9ada-6aff8059086f');\n",
              "          const dataTable =\n",
              "            await google.colab.kernel.invokeFunction('convertToInteractive',\n",
              "                                                     [key], {});\n",
              "          if (!dataTable) return;\n",
              "\n",
              "          const docLinkHtml = 'Like what you see? Visit the ' +\n",
              "            '<a target=\"_blank\" href=https://colab.research.google.com/notebooks/data_table.ipynb>data table notebook</a>'\n",
              "            + ' to learn more about interactive tables.';\n",
              "          element.innerHTML = '';\n",
              "          dataTable['output_type'] = 'display_data';\n",
              "          await google.colab.output.renderOutput(dataTable, element);\n",
              "          const docLink = document.createElement('div');\n",
              "          docLink.innerHTML = docLinkHtml;\n",
              "          element.appendChild(docLink);\n",
              "        }\n",
              "      </script>\n",
              "    </div>\n",
              "  </div>\n",
              "  "
            ]
          },
          "metadata": {},
          "execution_count": 60
        }
      ]
    },
    {
      "cell_type": "code",
      "source": [
        "data[data[\"RatecodeID\"] == 99].size"
      ],
      "metadata": {
        "colab": {
          "base_uri": "https://localhost:8080/"
        },
        "id": "OGJsn0C7QF0H",
        "outputId": "65d6ae14-4d13-4e68-e964-f489306bd4db"
      },
      "execution_count": 61,
      "outputs": [
        {
          "output_type": "execute_result",
          "data": {
            "text/plain": [
              "234"
            ]
          },
          "metadata": {},
          "execution_count": 61
        }
      ]
    },
    {
      "cell_type": "markdown",
      "source": [
        "Il n'y a que 198 individus qui possèdent cette modalité, on les retire donc en conservant la variable."
      ],
      "metadata": {
        "id": "kWHFbtsfQGuX"
      }
    },
    {
      "cell_type": "code",
      "source": [
        "data = data[data[\"RatecodeID\"] != 99]"
      ],
      "metadata": {
        "id": "xaDuA45OQKjn"
      },
      "execution_count": 62,
      "outputs": []
    },
    {
      "cell_type": "markdown",
      "source": [
        "Examinons `trip_distance` :\n"
      ],
      "metadata": {
        "id": "OTZYuUxcQ19R"
      }
    },
    {
      "cell_type": "code",
      "source": [
        "data[\"trip_distance\"].describe()"
      ],
      "metadata": {
        "colab": {
          "base_uri": "https://localhost:8080/"
        },
        "id": "P7UGAWCI3O2v",
        "outputId": "1ad382c4-0310-40f3-812f-9e52a1b8d971"
      },
      "execution_count": 63,
      "outputs": [
        {
          "output_type": "execute_result",
          "data": {
            "text/plain": [
              "count    279784.000000\n",
              "mean          2.737236\n",
              "std          21.038054\n",
              "min           0.000000\n",
              "25%           0.950000\n",
              "50%           1.700000\n",
              "75%           3.100000\n",
              "max       10973.550000\n",
              "Name: trip_distance, dtype: float64"
            ]
          },
          "metadata": {},
          "execution_count": 63
        }
      ]
    },
    {
      "cell_type": "code",
      "source": [
        "sns.boxplot(y=data[\"trip_distance\"])"
      ],
      "metadata": {
        "colab": {
          "base_uri": "https://localhost:8080/",
          "height": 266
        },
        "id": "WIJnrogQWPNc",
        "outputId": "670e571a-99a1-4a13-d050-6341b9361090"
      },
      "execution_count": 64,
      "outputs": [
        {
          "output_type": "execute_result",
          "data": {
            "text/plain": [
              "<matplotlib.axes._subplots.AxesSubplot at 0x7f1ce8b104d0>"
            ]
          },
          "metadata": {},
          "execution_count": 64
        },
        {
          "output_type": "display_data",
          "data": {
            "text/plain": [
              "<Figure size 432x288 with 1 Axes>"
            ],
            "image/png": "[encoded data removed]"
          },
          "metadata": {}
        }
      ]
    },
    {
      "cell_type": "markdown",
      "source": [
        "On observe d'une part des trajets de 0 miles, ce qui est impossible à priori.\n",
        "\n",
        "On observe d'autre part que le trajet maximum enregistré est de 10 973 miles. \n",
        "Or les taxis de TLC ne peuvent aller qu'au Connecticut, New Jersey et dans l'Etat de New York au maximum d'après la [FAQ](https://www1.nyc.gov/site/tlc/passengers/passenger-frequently-asked-questions.page).\n",
        "\n",
        "Si on approxime cette surface à un cercle, sa superficie est d'environ 38 334,697 km². On obtient alors le diamètre du cercle par la formule :\n",
        "\n",
        "\n",
        "$Superficie = \\frac{\\pi \\times Diamètre^{2}}{2} \\Leftrightarrow Diamètre = \\sqrt{\\frac{2 \\times Superficie}{\\pi}}$"
      ],
      "metadata": {
        "id": "SVoxmLuZRKR_"
      }
    },
    {
      "cell_type": "code",
      "source": [
        "area = 22608+14371+141.297+1214.4 #somme des superficies des états de la zone d'action de TLC en km²\n",
        "diameter_in_km = math.sqrt(2*area/math.pi)\n",
        "diameter_in_miles = diameter_in_km * 1.60934 #on convertit en miles\n",
        "print(f\"Diamètre de la zone d'action (distance maximale parcourable) : {diameter_in_miles:.2f} miles\")"
      ],
      "metadata": {
        "colab": {
          "base_uri": "https://localhost:8080/"
        },
        "id": "GXlNP7KRRe1-",
        "outputId": "f3324269-3467-4a72-da86-5deb66594d69"
      },
      "execution_count": 65,
      "outputs": [
        {
          "output_type": "stream",
          "name": "stdout",
          "text": [
            "Diamètre de la zone d'action (distance maximale parcourable) : 251.41 miles\n"
          ]
        }
      ]
    },
    {
      "cell_type": "markdown",
      "source": [
        "On retire donc de notre dataset toute valeur physiquement impossible : celles nulles et supérieures à 251,41 miles :"
      ],
      "metadata": {
        "id": "4ILaEWLxSQ32"
      }
    },
    {
      "cell_type": "code",
      "source": [
        "data = data[data[\"trip_distance\"] > 0]\n",
        "data = data[data[\"trip_distance\"] < diameter_in_miles]"
      ],
      "metadata": {
        "id": "WwkZPqfXSQi-"
      },
      "execution_count": 66,
      "outputs": []
    },
    {
      "cell_type": "code",
      "source": [
        "sns.boxplot(y=data[\"trip_distance\"])"
      ],
      "metadata": {
        "colab": {
          "base_uri": "https://localhost:8080/",
          "height": 266
        },
        "id": "OcE-bOL63pVv",
        "outputId": "28568c8e-a521-45c1-f2bd-b79b9aff34de"
      },
      "execution_count": 67,
      "outputs": [
        {
          "output_type": "execute_result",
          "data": {
            "text/plain": [
              "<matplotlib.axes._subplots.AxesSubplot at 0x7f1ce577e810>"
            ]
          },
          "metadata": {},
          "execution_count": 67
        },
        {
          "output_type": "display_data",
          "data": {
            "text/plain": [
              "<Figure size 432x288 with 1 Axes>"
            ],
            "image/png": "[encoded data removed]"
          },
          "metadata": {}
        }
      ]
    },
    {
      "cell_type": "code",
      "source": [
        "sns.scatterplot(x=range(data[\"trip_distance\"].size), y=data[\"trip_distance\"])"
      ],
      "metadata": {
        "colab": {
          "base_uri": "https://localhost:8080/",
          "height": 286
        },
        "id": "zaRxAJhfZa5g",
        "outputId": "22f2b37b-ebbc-4123-a89b-376a33f51d48"
      },
      "execution_count": 68,
      "outputs": [
        {
          "output_type": "execute_result",
          "data": {
            "text/plain": [
              "<matplotlib.axes._subplots.AxesSubplot at 0x7f1ce56ec510>"
            ]
          },
          "metadata": {},
          "execution_count": 68
        },
        {
          "output_type": "display_data",
          "data": {
            "text/plain": [
              "<Figure size 432x288 with 1 Axes>"
            ],
            "image/png": "[encoded data removed]"
          },
          "metadata": {}
        }
      ]
    },
    {
      "cell_type": "markdown",
      "source": [
        "On observe encore beaucoup de points supérieurs à 75% des autres sur la boite à moustache mais on choisit de les garder pour l'instant. \n",
        " \n",
        "On observera l'effet de la standardisation des données lors de la phase de\n",
        "modélisation et l'effet de leur absence ou non sur l'amélioration de nos modèles."
      ],
      "metadata": {
        "id": "mWKjrAMJXlvP"
      }
    },
    {
      "cell_type": "markdown",
      "source": [
        "Observons la distribution de `total_amount` :"
      ],
      "metadata": {
        "id": "6zsN_r0WYB8w"
      }
    },
    {
      "cell_type": "code",
      "source": [
        "data[\"total_amount\"].describe()"
      ],
      "metadata": {
        "colab": {
          "base_uri": "https://localhost:8080/"
        },
        "id": "SPub1YD8YE-o",
        "outputId": "7db93574-6886-46d8-a03f-bae78b971c98"
      },
      "execution_count": 69,
      "outputs": [
        {
          "output_type": "execute_result",
          "data": {
            "text/plain": [
              "count    270937.000000\n",
              "mean         15.794469\n",
              "std          12.353868\n",
              "min        -244.300000\n",
              "25%           9.800000\n",
              "50%          12.800000\n",
              "75%          17.800000\n",
              "max         846.290000\n",
              "Name: total_amount, dtype: float64"
            ]
          },
          "metadata": {},
          "execution_count": 69
        }
      ]
    },
    {
      "cell_type": "markdown",
      "source": [
        "On observe des valeurs négatives, ce qui est impossible. On les retire donc :"
      ],
      "metadata": {
        "id": "nbxMVotMYQ6f"
      }
    },
    {
      "cell_type": "code",
      "source": [
        "data = data[data[\"total_amount\"] > 0]"
      ],
      "metadata": {
        "id": "0A9oKnjWYa1o"
      },
      "execution_count": 70,
      "outputs": []
    },
    {
      "cell_type": "code",
      "source": [
        "sns.boxplot(y=data[\"total_amount\"])"
      ],
      "metadata": {
        "colab": {
          "base_uri": "https://localhost:8080/",
          "height": 266
        },
        "id": "tj9vb_gBYgE_",
        "outputId": "cbc50cb5-5d93-4339-9ef1-cc25c53b0dfa"
      },
      "execution_count": 71,
      "outputs": [
        {
          "output_type": "execute_result",
          "data": {
            "text/plain": [
              "<matplotlib.axes._subplots.AxesSubplot at 0x7f1ce566fa50>"
            ]
          },
          "metadata": {},
          "execution_count": 71
        },
        {
          "output_type": "display_data",
          "data": {
            "text/plain": [
              "<Figure size 432x288 with 1 Axes>"
            ],
            "image/png": "[encoded data removed]"
          },
          "metadata": {}
        }
      ]
    },
    {
      "cell_type": "code",
      "source": [
        "sns.scatterplot(x=range(data[\"total_amount\"].size), y=data[\"total_amount\"])"
      ],
      "metadata": {
        "colab": {
          "base_uri": "https://localhost:8080/",
          "height": 286
        },
        "id": "N_vkEZNeZOfI",
        "outputId": "a5b28085-76e4-4438-da59-5515c4ba5ca7"
      },
      "execution_count": 72,
      "outputs": [
        {
          "output_type": "execute_result",
          "data": {
            "text/plain": [
              "<matplotlib.axes._subplots.AxesSubplot at 0x7f1ce5641c50>"
            ]
          },
          "metadata": {},
          "execution_count": 72
        },
        {
          "output_type": "display_data",
          "data": {
            "text/plain": [
              "<Figure size 432x288 with 1 Axes>"
            ],
            "image/png": "[encoded data removed]"
          },
          "metadata": {}
        }
      ]
    },
    {
      "cell_type": "markdown",
      "source": [
        "De même on observe encore beaucoup de valeurs atypiques que l'on garde en attente de standardisation durant la phase de modélisation.\n"
      ],
      "metadata": {
        "id": "eRM1YvuBZMt4"
      }
    },
    {
      "cell_type": "code",
      "source": [
        "data.shape"
      ],
      "metadata": {
        "colab": {
          "base_uri": "https://localhost:8080/"
        },
        "id": "WSL6i5nPZ2jY",
        "outputId": "01dc00f3-911f-4e1a-a201-5afb769206e8"
      },
      "execution_count": 73,
      "outputs": [
        {
          "output_type": "execute_result",
          "data": {
            "text/plain": [
              "(269595, 13)"
            ]
          },
          "metadata": {},
          "execution_count": 73
        }
      ]
    },
    {
      "cell_type": "markdown",
      "source": [
        "On a désormais un dataset composé de 269 565 individus purgé des valeurs aberrantes, on peut passer à la phase d'analyse exploratoire.\n",
        "\n",
        "On exporte le dataset nettoyé :"
      ],
      "metadata": {
        "id": "tMx12B7kaCvw"
      }
    },
    {
      "cell_type": "code",
      "source": [
        "data.to_csv(\"cleaned_dataset.csv\", index=False)"
      ],
      "metadata": {
        "id": "AO08GNWsap1g"
      },
      "execution_count": 74,
      "outputs": []
    }
  ],
  "metadata": {
    "interpreter": {
      "hash": "a707b6ce8c685eb936424fcc3009d4b4b7a52543c4db09380a3fc49186ceb509"
    },
    "kernelspec": {
      "display_name": "Python 3.8.8 ('base')",
      "language": "python",
      "name": "python3"
    },
    "language_info": {
      "codemirror_mode": {
        "name": "ipython",
        "version": 3
      },
      "file_extension": ".py",
      "mimetype": "text/x-python",
      "name": "python",
      "nbconvert_exporter": "python",
      "pygments_lexer": "ipython3",
      "version": "3.8.8"
    },
    "orig_nbformat": 4,
    "colab": {
      "name": "data_cleaning.ipynb",
      "provenance": [],
      "collapsed_sections": [],
      "include_colab_link": true
    }
  },
  "nbformat": 4,
  "nbformat_minor": 0
}